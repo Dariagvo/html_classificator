{
  "metadata": {
    "kernelspec": {
      "display_name": "Python 3",
      "name": "python3"
    },
    "language_info": {
      "name": "python",
      "version": "3.10.13",
      "mimetype": "text/x-python",
      "codemirror_mode": {
        "name": "ipython",
        "version": 3
      },
      "pygments_lexer": "ipython3",
      "nbconvert_exporter": "python",
      "file_extension": ".py"
    },
    "kaggle": {
      "accelerator": "gpu",
      "dataSources": [
        {
          "sourceType": "datasetVersion",
          "sourceId": 8334220,
          "datasetId": 4819779,
          "databundleVersionId": 8466000
        },
        {
          "sourceType": "datasetVersion",
          "sourceId": 8367600,
          "datasetId": 4604683,
          "databundleVersionId": 8501138
        }
      ],
      "dockerImageVersionId": 30699,
      "isInternetEnabled": true,
      "language": "python",
      "sourceType": "notebook",
      "isGpuEnabled": true
    },
    "colab": {
      "provenance": [],
      "gpuType": "T4"
    },
    "accelerator": "GPU",
    "widgets": {
      "application/vnd.jupyter.widget-state+json": {
        "bcd1a24b53a4400fb44bf05a2a6880c8": {
          "model_module": "@jupyter-widgets/controls",
          "model_name": "HBoxModel",
          "model_module_version": "1.5.0",
          "state": {
            "_dom_classes": [],
            "_model_module": "@jupyter-widgets/controls",
            "_model_module_version": "1.5.0",
            "_model_name": "HBoxModel",
            "_view_count": null,
            "_view_module": "@jupyter-widgets/controls",
            "_view_module_version": "1.5.0",
            "_view_name": "HBoxView",
            "box_style": "",
            "children": [
              "IPY_MODEL_b43bfadd1e964d3e96a77e89bbf12886",
              "IPY_MODEL_8b14e616ebb742a7b87ff975a3d62d01",
              "IPY_MODEL_a3150c2b6ba744b69344ddd36345370b"
            ],
            "layout": "IPY_MODEL_363efda622fe4971872771ed4982e180"
          }
        },
        "b43bfadd1e964d3e96a77e89bbf12886": {
          "model_module": "@jupyter-widgets/controls",
          "model_name": "HTMLModel",
          "model_module_version": "1.5.0",
          "state": {
            "_dom_classes": [],
            "_model_module": "@jupyter-widgets/controls",
            "_model_module_version": "1.5.0",
            "_model_name": "HTMLModel",
            "_view_count": null,
            "_view_module": "@jupyter-widgets/controls",
            "_view_module_version": "1.5.0",
            "_view_name": "HTMLView",
            "description": "",
            "description_tooltip": null,
            "layout": "IPY_MODEL_4551df55098f43dba3b05fb243b44535",
            "placeholder": "​",
            "style": "IPY_MODEL_c65f49e87ef04c31af100c716b3a5272",
            "value": "tokenizer_config.json: 100%"
          }
        },
        "8b14e616ebb742a7b87ff975a3d62d01": {
          "model_module": "@jupyter-widgets/controls",
          "model_name": "FloatProgressModel",
          "model_module_version": "1.5.0",
          "state": {
            "_dom_classes": [],
            "_model_module": "@jupyter-widgets/controls",
            "_model_module_version": "1.5.0",
            "_model_name": "FloatProgressModel",
            "_view_count": null,
            "_view_module": "@jupyter-widgets/controls",
            "_view_module_version": "1.5.0",
            "_view_name": "ProgressView",
            "bar_style": "success",
            "description": "",
            "description_tooltip": null,
            "layout": "IPY_MODEL_863fd540ba984465a5cc295b5d8cef79",
            "max": 418,
            "min": 0,
            "orientation": "horizontal",
            "style": "IPY_MODEL_821e9177515c4ec6bfaa5284dcc0447c",
            "value": 418
          }
        },
        "a3150c2b6ba744b69344ddd36345370b": {
          "model_module": "@jupyter-widgets/controls",
          "model_name": "HTMLModel",
          "model_module_version": "1.5.0",
          "state": {
            "_dom_classes": [],
            "_model_module": "@jupyter-widgets/controls",
            "_model_module_version": "1.5.0",
            "_model_name": "HTMLModel",
            "_view_count": null,
            "_view_module": "@jupyter-widgets/controls",
            "_view_module_version": "1.5.0",
            "_view_name": "HTMLView",
            "description": "",
            "description_tooltip": null,
            "layout": "IPY_MODEL_3e4ebd21dac145ab884b68a209c67082",
            "placeholder": "​",
            "style": "IPY_MODEL_49d588072b484911adc97db8834adaa8",
            "value": " 418/418 [00:00&lt;00:00, 19.9kB/s]"
          }
        },
        "363efda622fe4971872771ed4982e180": {
          "model_module": "@jupyter-widgets/base",
          "model_name": "LayoutModel",
          "model_module_version": "1.2.0",
          "state": {
            "_model_module": "@jupyter-widgets/base",
            "_model_module_version": "1.2.0",
            "_model_name": "LayoutModel",
            "_view_count": null,
            "_view_module": "@jupyter-widgets/base",
            "_view_module_version": "1.2.0",
            "_view_name": "LayoutView",
            "align_content": null,
            "align_items": null,
            "align_self": null,
            "border": null,
            "bottom": null,
            "display": null,
            "flex": null,
            "flex_flow": null,
            "grid_area": null,
            "grid_auto_columns": null,
            "grid_auto_flow": null,
            "grid_auto_rows": null,
            "grid_column": null,
            "grid_gap": null,
            "grid_row": null,
            "grid_template_areas": null,
            "grid_template_columns": null,
            "grid_template_rows": null,
            "height": null,
            "justify_content": null,
            "justify_items": null,
            "left": null,
            "margin": null,
            "max_height": null,
            "max_width": null,
            "min_height": null,
            "min_width": null,
            "object_fit": null,
            "object_position": null,
            "order": null,
            "overflow": null,
            "overflow_x": null,
            "overflow_y": null,
            "padding": null,
            "right": null,
            "top": null,
            "visibility": null,
            "width": null
          }
        },
        "4551df55098f43dba3b05fb243b44535": {
          "model_module": "@jupyter-widgets/base",
          "model_name": "LayoutModel",
          "model_module_version": "1.2.0",
          "state": {
            "_model_module": "@jupyter-widgets/base",
            "_model_module_version": "1.2.0",
            "_model_name": "LayoutModel",
            "_view_count": null,
            "_view_module": "@jupyter-widgets/base",
            "_view_module_version": "1.2.0",
            "_view_name": "LayoutView",
            "align_content": null,
            "align_items": null,
            "align_self": null,
            "border": null,
            "bottom": null,
            "display": null,
            "flex": null,
            "flex_flow": null,
            "grid_area": null,
            "grid_auto_columns": null,
            "grid_auto_flow": null,
            "grid_auto_rows": null,
            "grid_column": null,
            "grid_gap": null,
            "grid_row": null,
            "grid_template_areas": null,
            "grid_template_columns": null,
            "grid_template_rows": null,
            "height": null,
            "justify_content": null,
            "justify_items": null,
            "left": null,
            "margin": null,
            "max_height": null,
            "max_width": null,
            "min_height": null,
            "min_width": null,
            "object_fit": null,
            "object_position": null,
            "order": null,
            "overflow": null,
            "overflow_x": null,
            "overflow_y": null,
            "padding": null,
            "right": null,
            "top": null,
            "visibility": null,
            "width": null
          }
        },
        "c65f49e87ef04c31af100c716b3a5272": {
          "model_module": "@jupyter-widgets/controls",
          "model_name": "DescriptionStyleModel",
          "model_module_version": "1.5.0",
          "state": {
            "_model_module": "@jupyter-widgets/controls",
            "_model_module_version": "1.5.0",
            "_model_name": "DescriptionStyleModel",
            "_view_count": null,
            "_view_module": "@jupyter-widgets/base",
            "_view_module_version": "1.2.0",
            "_view_name": "StyleView",
            "description_width": ""
          }
        },
        "863fd540ba984465a5cc295b5d8cef79": {
          "model_module": "@jupyter-widgets/base",
          "model_name": "LayoutModel",
          "model_module_version": "1.2.0",
          "state": {
            "_model_module": "@jupyter-widgets/base",
            "_model_module_version": "1.2.0",
            "_model_name": "LayoutModel",
            "_view_count": null,
            "_view_module": "@jupyter-widgets/base",
            "_view_module_version": "1.2.0",
            "_view_name": "LayoutView",
            "align_content": null,
            "align_items": null,
            "align_self": null,
            "border": null,
            "bottom": null,
            "display": null,
            "flex": null,
            "flex_flow": null,
            "grid_area": null,
            "grid_auto_columns": null,
            "grid_auto_flow": null,
            "grid_auto_rows": null,
            "grid_column": null,
            "grid_gap": null,
            "grid_row": null,
            "grid_template_areas": null,
            "grid_template_columns": null,
            "grid_template_rows": null,
            "height": null,
            "justify_content": null,
            "justify_items": null,
            "left": null,
            "margin": null,
            "max_height": null,
            "max_width": null,
            "min_height": null,
            "min_width": null,
            "object_fit": null,
            "object_position": null,
            "order": null,
            "overflow": null,
            "overflow_x": null,
            "overflow_y": null,
            "padding": null,
            "right": null,
            "top": null,
            "visibility": null,
            "width": null
          }
        },
        "821e9177515c4ec6bfaa5284dcc0447c": {
          "model_module": "@jupyter-widgets/controls",
          "model_name": "ProgressStyleModel",
          "model_module_version": "1.5.0",
          "state": {
            "_model_module": "@jupyter-widgets/controls",
            "_model_module_version": "1.5.0",
            "_model_name": "ProgressStyleModel",
            "_view_count": null,
            "_view_module": "@jupyter-widgets/base",
            "_view_module_version": "1.2.0",
            "_view_name": "StyleView",
            "bar_color": null,
            "description_width": ""
          }
        },
        "3e4ebd21dac145ab884b68a209c67082": {
          "model_module": "@jupyter-widgets/base",
          "model_name": "LayoutModel",
          "model_module_version": "1.2.0",
          "state": {
            "_model_module": "@jupyter-widgets/base",
            "_model_module_version": "1.2.0",
            "_model_name": "LayoutModel",
            "_view_count": null,
            "_view_module": "@jupyter-widgets/base",
            "_view_module_version": "1.2.0",
            "_view_name": "LayoutView",
            "align_content": null,
            "align_items": null,
            "align_self": null,
            "border": null,
            "bottom": null,
            "display": null,
            "flex": null,
            "flex_flow": null,
            "grid_area": null,
            "grid_auto_columns": null,
            "grid_auto_flow": null,
            "grid_auto_rows": null,
            "grid_column": null,
            "grid_gap": null,
            "grid_row": null,
            "grid_template_areas": null,
            "grid_template_columns": null,
            "grid_template_rows": null,
            "height": null,
            "justify_content": null,
            "justify_items": null,
            "left": null,
            "margin": null,
            "max_height": null,
            "max_width": null,
            "min_height": null,
            "min_width": null,
            "object_fit": null,
            "object_position": null,
            "order": null,
            "overflow": null,
            "overflow_x": null,
            "overflow_y": null,
            "padding": null,
            "right": null,
            "top": null,
            "visibility": null,
            "width": null
          }
        },
        "49d588072b484911adc97db8834adaa8": {
          "model_module": "@jupyter-widgets/controls",
          "model_name": "DescriptionStyleModel",
          "model_module_version": "1.5.0",
          "state": {
            "_model_module": "@jupyter-widgets/controls",
            "_model_module_version": "1.5.0",
            "_model_name": "DescriptionStyleModel",
            "_view_count": null,
            "_view_module": "@jupyter-widgets/base",
            "_view_module_version": "1.2.0",
            "_view_name": "StyleView",
            "description_width": ""
          }
        },
        "391e8f84a51b441993e6724c8bd02373": {
          "model_module": "@jupyter-widgets/controls",
          "model_name": "HBoxModel",
          "model_module_version": "1.5.0",
          "state": {
            "_dom_classes": [],
            "_model_module": "@jupyter-widgets/controls",
            "_model_module_version": "1.5.0",
            "_model_name": "HBoxModel",
            "_view_count": null,
            "_view_module": "@jupyter-widgets/controls",
            "_view_module_version": "1.5.0",
            "_view_name": "HBoxView",
            "box_style": "",
            "children": [
              "IPY_MODEL_8bb8ac7e8e8341acadb444e4a0ad908c",
              "IPY_MODEL_35adc9be7ff7441eb835d6495a4e924f",
              "IPY_MODEL_1fc39ea55c424a7f8a806955f8166ca7"
            ],
            "layout": "IPY_MODEL_4f7937ffebfe49d0835fa0334149f5a7"
          }
        },
        "8bb8ac7e8e8341acadb444e4a0ad908c": {
          "model_module": "@jupyter-widgets/controls",
          "model_name": "HTMLModel",
          "model_module_version": "1.5.0",
          "state": {
            "_dom_classes": [],
            "_model_module": "@jupyter-widgets/controls",
            "_model_module_version": "1.5.0",
            "_model_name": "HTMLModel",
            "_view_count": null,
            "_view_module": "@jupyter-widgets/controls",
            "_view_module_version": "1.5.0",
            "_view_name": "HTMLView",
            "description": "",
            "description_tooltip": null,
            "layout": "IPY_MODEL_cda4ea86043640beaf91a1f6927408d2",
            "placeholder": "​",
            "style": "IPY_MODEL_89ba9b3855304580b6c8c7ac787a9fb0",
            "value": "sentencepiece.bpe.model: 100%"
          }
        },
        "35adc9be7ff7441eb835d6495a4e924f": {
          "model_module": "@jupyter-widgets/controls",
          "model_name": "FloatProgressModel",
          "model_module_version": "1.5.0",
          "state": {
            "_dom_classes": [],
            "_model_module": "@jupyter-widgets/controls",
            "_model_module_version": "1.5.0",
            "_model_name": "FloatProgressModel",
            "_view_count": null,
            "_view_module": "@jupyter-widgets/controls",
            "_view_module_version": "1.5.0",
            "_view_name": "ProgressView",
            "bar_style": "success",
            "description": "",
            "description_tooltip": null,
            "layout": "IPY_MODEL_b73e79eb35d647daa2c2648691103e76",
            "max": 5069051,
            "min": 0,
            "orientation": "horizontal",
            "style": "IPY_MODEL_138a53f18faf48d08e1646eb9d048e45",
            "value": 5069051
          }
        },
        "1fc39ea55c424a7f8a806955f8166ca7": {
          "model_module": "@jupyter-widgets/controls",
          "model_name": "HTMLModel",
          "model_module_version": "1.5.0",
          "state": {
            "_dom_classes": [],
            "_model_module": "@jupyter-widgets/controls",
            "_model_module_version": "1.5.0",
            "_model_name": "HTMLModel",
            "_view_count": null,
            "_view_module": "@jupyter-widgets/controls",
            "_view_module_version": "1.5.0",
            "_view_name": "HTMLView",
            "description": "",
            "description_tooltip": null,
            "layout": "IPY_MODEL_c124b8c6911f4cb199b7fc6bab040b91",
            "placeholder": "​",
            "style": "IPY_MODEL_5a93d21a48e44294890ce021b913b211",
            "value": " 5.07M/5.07M [00:00&lt;00:00, 68.0MB/s]"
          }
        },
        "4f7937ffebfe49d0835fa0334149f5a7": {
          "model_module": "@jupyter-widgets/base",
          "model_name": "LayoutModel",
          "model_module_version": "1.2.0",
          "state": {
            "_model_module": "@jupyter-widgets/base",
            "_model_module_version": "1.2.0",
            "_model_name": "LayoutModel",
            "_view_count": null,
            "_view_module": "@jupyter-widgets/base",
            "_view_module_version": "1.2.0",
            "_view_name": "LayoutView",
            "align_content": null,
            "align_items": null,
            "align_self": null,
            "border": null,
            "bottom": null,
            "display": null,
            "flex": null,
            "flex_flow": null,
            "grid_area": null,
            "grid_auto_columns": null,
            "grid_auto_flow": null,
            "grid_auto_rows": null,
            "grid_column": null,
            "grid_gap": null,
            "grid_row": null,
            "grid_template_areas": null,
            "grid_template_columns": null,
            "grid_template_rows": null,
            "height": null,
            "justify_content": null,
            "justify_items": null,
            "left": null,
            "margin": null,
            "max_height": null,
            "max_width": null,
            "min_height": null,
            "min_width": null,
            "object_fit": null,
            "object_position": null,
            "order": null,
            "overflow": null,
            "overflow_x": null,
            "overflow_y": null,
            "padding": null,
            "right": null,
            "top": null,
            "visibility": null,
            "width": null
          }
        },
        "cda4ea86043640beaf91a1f6927408d2": {
          "model_module": "@jupyter-widgets/base",
          "model_name": "LayoutModel",
          "model_module_version": "1.2.0",
          "state": {
            "_model_module": "@jupyter-widgets/base",
            "_model_module_version": "1.2.0",
            "_model_name": "LayoutModel",
            "_view_count": null,
            "_view_module": "@jupyter-widgets/base",
            "_view_module_version": "1.2.0",
            "_view_name": "LayoutView",
            "align_content": null,
            "align_items": null,
            "align_self": null,
            "border": null,
            "bottom": null,
            "display": null,
            "flex": null,
            "flex_flow": null,
            "grid_area": null,
            "grid_auto_columns": null,
            "grid_auto_flow": null,
            "grid_auto_rows": null,
            "grid_column": null,
            "grid_gap": null,
            "grid_row": null,
            "grid_template_areas": null,
            "grid_template_columns": null,
            "grid_template_rows": null,
            "height": null,
            "justify_content": null,
            "justify_items": null,
            "left": null,
            "margin": null,
            "max_height": null,
            "max_width": null,
            "min_height": null,
            "min_width": null,
            "object_fit": null,
            "object_position": null,
            "order": null,
            "overflow": null,
            "overflow_x": null,
            "overflow_y": null,
            "padding": null,
            "right": null,
            "top": null,
            "visibility": null,
            "width": null
          }
        },
        "89ba9b3855304580b6c8c7ac787a9fb0": {
          "model_module": "@jupyter-widgets/controls",
          "model_name": "DescriptionStyleModel",
          "model_module_version": "1.5.0",
          "state": {
            "_model_module": "@jupyter-widgets/controls",
            "_model_module_version": "1.5.0",
            "_model_name": "DescriptionStyleModel",
            "_view_count": null,
            "_view_module": "@jupyter-widgets/base",
            "_view_module_version": "1.2.0",
            "_view_name": "StyleView",
            "description_width": ""
          }
        },
        "b73e79eb35d647daa2c2648691103e76": {
          "model_module": "@jupyter-widgets/base",
          "model_name": "LayoutModel",
          "model_module_version": "1.2.0",
          "state": {
            "_model_module": "@jupyter-widgets/base",
            "_model_module_version": "1.2.0",
            "_model_name": "LayoutModel",
            "_view_count": null,
            "_view_module": "@jupyter-widgets/base",
            "_view_module_version": "1.2.0",
            "_view_name": "LayoutView",
            "align_content": null,
            "align_items": null,
            "align_self": null,
            "border": null,
            "bottom": null,
            "display": null,
            "flex": null,
            "flex_flow": null,
            "grid_area": null,
            "grid_auto_columns": null,
            "grid_auto_flow": null,
            "grid_auto_rows": null,
            "grid_column": null,
            "grid_gap": null,
            "grid_row": null,
            "grid_template_areas": null,
            "grid_template_columns": null,
            "grid_template_rows": null,
            "height": null,
            "justify_content": null,
            "justify_items": null,
            "left": null,
            "margin": null,
            "max_height": null,
            "max_width": null,
            "min_height": null,
            "min_width": null,
            "object_fit": null,
            "object_position": null,
            "order": null,
            "overflow": null,
            "overflow_x": null,
            "overflow_y": null,
            "padding": null,
            "right": null,
            "top": null,
            "visibility": null,
            "width": null
          }
        },
        "138a53f18faf48d08e1646eb9d048e45": {
          "model_module": "@jupyter-widgets/controls",
          "model_name": "ProgressStyleModel",
          "model_module_version": "1.5.0",
          "state": {
            "_model_module": "@jupyter-widgets/controls",
            "_model_module_version": "1.5.0",
            "_model_name": "ProgressStyleModel",
            "_view_count": null,
            "_view_module": "@jupyter-widgets/base",
            "_view_module_version": "1.2.0",
            "_view_name": "StyleView",
            "bar_color": null,
            "description_width": ""
          }
        },
        "c124b8c6911f4cb199b7fc6bab040b91": {
          "model_module": "@jupyter-widgets/base",
          "model_name": "LayoutModel",
          "model_module_version": "1.2.0",
          "state": {
            "_model_module": "@jupyter-widgets/base",
            "_model_module_version": "1.2.0",
            "_model_name": "LayoutModel",
            "_view_count": null,
            "_view_module": "@jupyter-widgets/base",
            "_view_module_version": "1.2.0",
            "_view_name": "LayoutView",
            "align_content": null,
            "align_items": null,
            "align_self": null,
            "border": null,
            "bottom": null,
            "display": null,
            "flex": null,
            "flex_flow": null,
            "grid_area": null,
            "grid_auto_columns": null,
            "grid_auto_flow": null,
            "grid_auto_rows": null,
            "grid_column": null,
            "grid_gap": null,
            "grid_row": null,
            "grid_template_areas": null,
            "grid_template_columns": null,
            "grid_template_rows": null,
            "height": null,
            "justify_content": null,
            "justify_items": null,
            "left": null,
            "margin": null,
            "max_height": null,
            "max_width": null,
            "min_height": null,
            "min_width": null,
            "object_fit": null,
            "object_position": null,
            "order": null,
            "overflow": null,
            "overflow_x": null,
            "overflow_y": null,
            "padding": null,
            "right": null,
            "top": null,
            "visibility": null,
            "width": null
          }
        },
        "5a93d21a48e44294890ce021b913b211": {
          "model_module": "@jupyter-widgets/controls",
          "model_name": "DescriptionStyleModel",
          "model_module_version": "1.5.0",
          "state": {
            "_model_module": "@jupyter-widgets/controls",
            "_model_module_version": "1.5.0",
            "_model_name": "DescriptionStyleModel",
            "_view_count": null,
            "_view_module": "@jupyter-widgets/base",
            "_view_module_version": "1.2.0",
            "_view_name": "StyleView",
            "description_width": ""
          }
        },
        "13fb651daee74f96b08e76a2e8dff7d9": {
          "model_module": "@jupyter-widgets/controls",
          "model_name": "HBoxModel",
          "model_module_version": "1.5.0",
          "state": {
            "_dom_classes": [],
            "_model_module": "@jupyter-widgets/controls",
            "_model_module_version": "1.5.0",
            "_model_name": "HBoxModel",
            "_view_count": null,
            "_view_module": "@jupyter-widgets/controls",
            "_view_module_version": "1.5.0",
            "_view_name": "HBoxView",
            "box_style": "",
            "children": [
              "IPY_MODEL_260ad0aeee54493c876cda74b20c5ba4",
              "IPY_MODEL_0ae85be9bc01490c8931cb7cb573291a",
              "IPY_MODEL_d5d5f225cfb34e8aabe19a120b747305"
            ],
            "layout": "IPY_MODEL_ef419fede7274a01b9de8a253eb71f1f"
          }
        },
        "260ad0aeee54493c876cda74b20c5ba4": {
          "model_module": "@jupyter-widgets/controls",
          "model_name": "HTMLModel",
          "model_module_version": "1.5.0",
          "state": {
            "_dom_classes": [],
            "_model_module": "@jupyter-widgets/controls",
            "_model_module_version": "1.5.0",
            "_model_name": "HTMLModel",
            "_view_count": null,
            "_view_module": "@jupyter-widgets/controls",
            "_view_module_version": "1.5.0",
            "_view_name": "HTMLView",
            "description": "",
            "description_tooltip": null,
            "layout": "IPY_MODEL_b6c17eb5f37b4ec7a3fbd86ad3a000c1",
            "placeholder": "​",
            "style": "IPY_MODEL_edba956ad1c649599467dbf07bff72f3",
            "value": "tokenizer.json: 100%"
          }
        },
        "0ae85be9bc01490c8931cb7cb573291a": {
          "model_module": "@jupyter-widgets/controls",
          "model_name": "FloatProgressModel",
          "model_module_version": "1.5.0",
          "state": {
            "_dom_classes": [],
            "_model_module": "@jupyter-widgets/controls",
            "_model_module_version": "1.5.0",
            "_model_name": "FloatProgressModel",
            "_view_count": null,
            "_view_module": "@jupyter-widgets/controls",
            "_view_module_version": "1.5.0",
            "_view_name": "ProgressView",
            "bar_style": "success",
            "description": "",
            "description_tooltip": null,
            "layout": "IPY_MODEL_9d100c46806f45ad95e552f395b46479",
            "max": 17082660,
            "min": 0,
            "orientation": "horizontal",
            "style": "IPY_MODEL_efbc312c6d614cbb9230b6b301dc908a",
            "value": 17082660
          }
        },
        "d5d5f225cfb34e8aabe19a120b747305": {
          "model_module": "@jupyter-widgets/controls",
          "model_name": "HTMLModel",
          "model_module_version": "1.5.0",
          "state": {
            "_dom_classes": [],
            "_model_module": "@jupyter-widgets/controls",
            "_model_module_version": "1.5.0",
            "_model_name": "HTMLModel",
            "_view_count": null,
            "_view_module": "@jupyter-widgets/controls",
            "_view_module_version": "1.5.0",
            "_view_name": "HTMLView",
            "description": "",
            "description_tooltip": null,
            "layout": "IPY_MODEL_7760a565e33d41c2bd6d5cae005cd633",
            "placeholder": "​",
            "style": "IPY_MODEL_32459fd8571e4eb1b1bf77f244dc8455",
            "value": " 17.1M/17.1M [00:00&lt;00:00, 185MB/s]"
          }
        },
        "ef419fede7274a01b9de8a253eb71f1f": {
          "model_module": "@jupyter-widgets/base",
          "model_name": "LayoutModel",
          "model_module_version": "1.2.0",
          "state": {
            "_model_module": "@jupyter-widgets/base",
            "_model_module_version": "1.2.0",
            "_model_name": "LayoutModel",
            "_view_count": null,
            "_view_module": "@jupyter-widgets/base",
            "_view_module_version": "1.2.0",
            "_view_name": "LayoutView",
            "align_content": null,
            "align_items": null,
            "align_self": null,
            "border": null,
            "bottom": null,
            "display": null,
            "flex": null,
            "flex_flow": null,
            "grid_area": null,
            "grid_auto_columns": null,
            "grid_auto_flow": null,
            "grid_auto_rows": null,
            "grid_column": null,
            "grid_gap": null,
            "grid_row": null,
            "grid_template_areas": null,
            "grid_template_columns": null,
            "grid_template_rows": null,
            "height": null,
            "justify_content": null,
            "justify_items": null,
            "left": null,
            "margin": null,
            "max_height": null,
            "max_width": null,
            "min_height": null,
            "min_width": null,
            "object_fit": null,
            "object_position": null,
            "order": null,
            "overflow": null,
            "overflow_x": null,
            "overflow_y": null,
            "padding": null,
            "right": null,
            "top": null,
            "visibility": null,
            "width": null
          }
        },
        "b6c17eb5f37b4ec7a3fbd86ad3a000c1": {
          "model_module": "@jupyter-widgets/base",
          "model_name": "LayoutModel",
          "model_module_version": "1.2.0",
          "state": {
            "_model_module": "@jupyter-widgets/base",
            "_model_module_version": "1.2.0",
            "_model_name": "LayoutModel",
            "_view_count": null,
            "_view_module": "@jupyter-widgets/base",
            "_view_module_version": "1.2.0",
            "_view_name": "LayoutView",
            "align_content": null,
            "align_items": null,
            "align_self": null,
            "border": null,
            "bottom": null,
            "display": null,
            "flex": null,
            "flex_flow": null,
            "grid_area": null,
            "grid_auto_columns": null,
            "grid_auto_flow": null,
            "grid_auto_rows": null,
            "grid_column": null,
            "grid_gap": null,
            "grid_row": null,
            "grid_template_areas": null,
            "grid_template_columns": null,
            "grid_template_rows": null,
            "height": null,
            "justify_content": null,
            "justify_items": null,
            "left": null,
            "margin": null,
            "max_height": null,
            "max_width": null,
            "min_height": null,
            "min_width": null,
            "object_fit": null,
            "object_position": null,
            "order": null,
            "overflow": null,
            "overflow_x": null,
            "overflow_y": null,
            "padding": null,
            "right": null,
            "top": null,
            "visibility": null,
            "width": null
          }
        },
        "edba956ad1c649599467dbf07bff72f3": {
          "model_module": "@jupyter-widgets/controls",
          "model_name": "DescriptionStyleModel",
          "model_module_version": "1.5.0",
          "state": {
            "_model_module": "@jupyter-widgets/controls",
            "_model_module_version": "1.5.0",
            "_model_name": "DescriptionStyleModel",
            "_view_count": null,
            "_view_module": "@jupyter-widgets/base",
            "_view_module_version": "1.2.0",
            "_view_name": "StyleView",
            "description_width": ""
          }
        },
        "9d100c46806f45ad95e552f395b46479": {
          "model_module": "@jupyter-widgets/base",
          "model_name": "LayoutModel",
          "model_module_version": "1.2.0",
          "state": {
            "_model_module": "@jupyter-widgets/base",
            "_model_module_version": "1.2.0",
            "_model_name": "LayoutModel",
            "_view_count": null,
            "_view_module": "@jupyter-widgets/base",
            "_view_module_version": "1.2.0",
            "_view_name": "LayoutView",
            "align_content": null,
            "align_items": null,
            "align_self": null,
            "border": null,
            "bottom": null,
            "display": null,
            "flex": null,
            "flex_flow": null,
            "grid_area": null,
            "grid_auto_columns": null,
            "grid_auto_flow": null,
            "grid_auto_rows": null,
            "grid_column": null,
            "grid_gap": null,
            "grid_row": null,
            "grid_template_areas": null,
            "grid_template_columns": null,
            "grid_template_rows": null,
            "height": null,
            "justify_content": null,
            "justify_items": null,
            "left": null,
            "margin": null,
            "max_height": null,
            "max_width": null,
            "min_height": null,
            "min_width": null,
            "object_fit": null,
            "object_position": null,
            "order": null,
            "overflow": null,
            "overflow_x": null,
            "overflow_y": null,
            "padding": null,
            "right": null,
            "top": null,
            "visibility": null,
            "width": null
          }
        },
        "efbc312c6d614cbb9230b6b301dc908a": {
          "model_module": "@jupyter-widgets/controls",
          "model_name": "ProgressStyleModel",
          "model_module_version": "1.5.0",
          "state": {
            "_model_module": "@jupyter-widgets/controls",
            "_model_module_version": "1.5.0",
            "_model_name": "ProgressStyleModel",
            "_view_count": null,
            "_view_module": "@jupyter-widgets/base",
            "_view_module_version": "1.2.0",
            "_view_name": "StyleView",
            "bar_color": null,
            "description_width": ""
          }
        },
        "7760a565e33d41c2bd6d5cae005cd633": {
          "model_module": "@jupyter-widgets/base",
          "model_name": "LayoutModel",
          "model_module_version": "1.2.0",
          "state": {
            "_model_module": "@jupyter-widgets/base",
            "_model_module_version": "1.2.0",
            "_model_name": "LayoutModel",
            "_view_count": null,
            "_view_module": "@jupyter-widgets/base",
            "_view_module_version": "1.2.0",
            "_view_name": "LayoutView",
            "align_content": null,
            "align_items": null,
            "align_self": null,
            "border": null,
            "bottom": null,
            "display": null,
            "flex": null,
            "flex_flow": null,
            "grid_area": null,
            "grid_auto_columns": null,
            "grid_auto_flow": null,
            "grid_auto_rows": null,
            "grid_column": null,
            "grid_gap": null,
            "grid_row": null,
            "grid_template_areas": null,
            "grid_template_columns": null,
            "grid_template_rows": null,
            "height": null,
            "justify_content": null,
            "justify_items": null,
            "left": null,
            "margin": null,
            "max_height": null,
            "max_width": null,
            "min_height": null,
            "min_width": null,
            "object_fit": null,
            "object_position": null,
            "order": null,
            "overflow": null,
            "overflow_x": null,
            "overflow_y": null,
            "padding": null,
            "right": null,
            "top": null,
            "visibility": null,
            "width": null
          }
        },
        "32459fd8571e4eb1b1bf77f244dc8455": {
          "model_module": "@jupyter-widgets/controls",
          "model_name": "DescriptionStyleModel",
          "model_module_version": "1.5.0",
          "state": {
            "_model_module": "@jupyter-widgets/controls",
            "_model_module_version": "1.5.0",
            "_model_name": "DescriptionStyleModel",
            "_view_count": null,
            "_view_module": "@jupyter-widgets/base",
            "_view_module_version": "1.2.0",
            "_view_name": "StyleView",
            "description_width": ""
          }
        },
        "69e8efcad0ec40b79702ddef72aad6c7": {
          "model_module": "@jupyter-widgets/controls",
          "model_name": "HBoxModel",
          "model_module_version": "1.5.0",
          "state": {
            "_dom_classes": [],
            "_model_module": "@jupyter-widgets/controls",
            "_model_module_version": "1.5.0",
            "_model_name": "HBoxModel",
            "_view_count": null,
            "_view_module": "@jupyter-widgets/controls",
            "_view_module_version": "1.5.0",
            "_view_name": "HBoxView",
            "box_style": "",
            "children": [
              "IPY_MODEL_7a2896c6bde646788f6987c896faaec4",
              "IPY_MODEL_18f73b5189d54772b0affd404aed7606",
              "IPY_MODEL_0e18c8c33d3642f88c5faa941db0b7ad"
            ],
            "layout": "IPY_MODEL_87cca334d1a941f297526db484fd4451"
          }
        },
        "7a2896c6bde646788f6987c896faaec4": {
          "model_module": "@jupyter-widgets/controls",
          "model_name": "HTMLModel",
          "model_module_version": "1.5.0",
          "state": {
            "_dom_classes": [],
            "_model_module": "@jupyter-widgets/controls",
            "_model_module_version": "1.5.0",
            "_model_name": "HTMLModel",
            "_view_count": null,
            "_view_module": "@jupyter-widgets/controls",
            "_view_module_version": "1.5.0",
            "_view_name": "HTMLView",
            "description": "",
            "description_tooltip": null,
            "layout": "IPY_MODEL_c2e4185f18534e5dae902f6841e78e58",
            "placeholder": "​",
            "style": "IPY_MODEL_aafc7cb4e0054866b127184f6c5e90e9",
            "value": "special_tokens_map.json: 100%"
          }
        },
        "18f73b5189d54772b0affd404aed7606": {
          "model_module": "@jupyter-widgets/controls",
          "model_name": "FloatProgressModel",
          "model_module_version": "1.5.0",
          "state": {
            "_dom_classes": [],
            "_model_module": "@jupyter-widgets/controls",
            "_model_module_version": "1.5.0",
            "_model_name": "FloatProgressModel",
            "_view_count": null,
            "_view_module": "@jupyter-widgets/controls",
            "_view_module_version": "1.5.0",
            "_view_name": "ProgressView",
            "bar_style": "success",
            "description": "",
            "description_tooltip": null,
            "layout": "IPY_MODEL_45181bf1e48c471baa0f43385e404feb",
            "max": 280,
            "min": 0,
            "orientation": "horizontal",
            "style": "IPY_MODEL_d8c284a1034d44d88a84b684ae486d04",
            "value": 280
          }
        },
        "0e18c8c33d3642f88c5faa941db0b7ad": {
          "model_module": "@jupyter-widgets/controls",
          "model_name": "HTMLModel",
          "model_module_version": "1.5.0",
          "state": {
            "_dom_classes": [],
            "_model_module": "@jupyter-widgets/controls",
            "_model_module_version": "1.5.0",
            "_model_name": "HTMLModel",
            "_view_count": null,
            "_view_module": "@jupyter-widgets/controls",
            "_view_module_version": "1.5.0",
            "_view_name": "HTMLView",
            "description": "",
            "description_tooltip": null,
            "layout": "IPY_MODEL_5db8f818f2984c5aa6c4265b760921ae",
            "placeholder": "​",
            "style": "IPY_MODEL_c37a059b4e2e47b991d16123262ecd08",
            "value": " 280/280 [00:00&lt;00:00, 22.3kB/s]"
          }
        },
        "87cca334d1a941f297526db484fd4451": {
          "model_module": "@jupyter-widgets/base",
          "model_name": "LayoutModel",
          "model_module_version": "1.2.0",
          "state": {
            "_model_module": "@jupyter-widgets/base",
            "_model_module_version": "1.2.0",
            "_model_name": "LayoutModel",
            "_view_count": null,
            "_view_module": "@jupyter-widgets/base",
            "_view_module_version": "1.2.0",
            "_view_name": "LayoutView",
            "align_content": null,
            "align_items": null,
            "align_self": null,
            "border": null,
            "bottom": null,
            "display": null,
            "flex": null,
            "flex_flow": null,
            "grid_area": null,
            "grid_auto_columns": null,
            "grid_auto_flow": null,
            "grid_auto_rows": null,
            "grid_column": null,
            "grid_gap": null,
            "grid_row": null,
            "grid_template_areas": null,
            "grid_template_columns": null,
            "grid_template_rows": null,
            "height": null,
            "justify_content": null,
            "justify_items": null,
            "left": null,
            "margin": null,
            "max_height": null,
            "max_width": null,
            "min_height": null,
            "min_width": null,
            "object_fit": null,
            "object_position": null,
            "order": null,
            "overflow": null,
            "overflow_x": null,
            "overflow_y": null,
            "padding": null,
            "right": null,
            "top": null,
            "visibility": null,
            "width": null
          }
        },
        "c2e4185f18534e5dae902f6841e78e58": {
          "model_module": "@jupyter-widgets/base",
          "model_name": "LayoutModel",
          "model_module_version": "1.2.0",
          "state": {
            "_model_module": "@jupyter-widgets/base",
            "_model_module_version": "1.2.0",
            "_model_name": "LayoutModel",
            "_view_count": null,
            "_view_module": "@jupyter-widgets/base",
            "_view_module_version": "1.2.0",
            "_view_name": "LayoutView",
            "align_content": null,
            "align_items": null,
            "align_self": null,
            "border": null,
            "bottom": null,
            "display": null,
            "flex": null,
            "flex_flow": null,
            "grid_area": null,
            "grid_auto_columns": null,
            "grid_auto_flow": null,
            "grid_auto_rows": null,
            "grid_column": null,
            "grid_gap": null,
            "grid_row": null,
            "grid_template_areas": null,
            "grid_template_columns": null,
            "grid_template_rows": null,
            "height": null,
            "justify_content": null,
            "justify_items": null,
            "left": null,
            "margin": null,
            "max_height": null,
            "max_width": null,
            "min_height": null,
            "min_width": null,
            "object_fit": null,
            "object_position": null,
            "order": null,
            "overflow": null,
            "overflow_x": null,
            "overflow_y": null,
            "padding": null,
            "right": null,
            "top": null,
            "visibility": null,
            "width": null
          }
        },
        "aafc7cb4e0054866b127184f6c5e90e9": {
          "model_module": "@jupyter-widgets/controls",
          "model_name": "DescriptionStyleModel",
          "model_module_version": "1.5.0",
          "state": {
            "_model_module": "@jupyter-widgets/controls",
            "_model_module_version": "1.5.0",
            "_model_name": "DescriptionStyleModel",
            "_view_count": null,
            "_view_module": "@jupyter-widgets/base",
            "_view_module_version": "1.2.0",
            "_view_name": "StyleView",
            "description_width": ""
          }
        },
        "45181bf1e48c471baa0f43385e404feb": {
          "model_module": "@jupyter-widgets/base",
          "model_name": "LayoutModel",
          "model_module_version": "1.2.0",
          "state": {
            "_model_module": "@jupyter-widgets/base",
            "_model_module_version": "1.2.0",
            "_model_name": "LayoutModel",
            "_view_count": null,
            "_view_module": "@jupyter-widgets/base",
            "_view_module_version": "1.2.0",
            "_view_name": "LayoutView",
            "align_content": null,
            "align_items": null,
            "align_self": null,
            "border": null,
            "bottom": null,
            "display": null,
            "flex": null,
            "flex_flow": null,
            "grid_area": null,
            "grid_auto_columns": null,
            "grid_auto_flow": null,
            "grid_auto_rows": null,
            "grid_column": null,
            "grid_gap": null,
            "grid_row": null,
            "grid_template_areas": null,
            "grid_template_columns": null,
            "grid_template_rows": null,
            "height": null,
            "justify_content": null,
            "justify_items": null,
            "left": null,
            "margin": null,
            "max_height": null,
            "max_width": null,
            "min_height": null,
            "min_width": null,
            "object_fit": null,
            "object_position": null,
            "order": null,
            "overflow": null,
            "overflow_x": null,
            "overflow_y": null,
            "padding": null,
            "right": null,
            "top": null,
            "visibility": null,
            "width": null
          }
        },
        "d8c284a1034d44d88a84b684ae486d04": {
          "model_module": "@jupyter-widgets/controls",
          "model_name": "ProgressStyleModel",
          "model_module_version": "1.5.0",
          "state": {
            "_model_module": "@jupyter-widgets/controls",
            "_model_module_version": "1.5.0",
            "_model_name": "ProgressStyleModel",
            "_view_count": null,
            "_view_module": "@jupyter-widgets/base",
            "_view_module_version": "1.2.0",
            "_view_name": "StyleView",
            "bar_color": null,
            "description_width": ""
          }
        },
        "5db8f818f2984c5aa6c4265b760921ae": {
          "model_module": "@jupyter-widgets/base",
          "model_name": "LayoutModel",
          "model_module_version": "1.2.0",
          "state": {
            "_model_module": "@jupyter-widgets/base",
            "_model_module_version": "1.2.0",
            "_model_name": "LayoutModel",
            "_view_count": null,
            "_view_module": "@jupyter-widgets/base",
            "_view_module_version": "1.2.0",
            "_view_name": "LayoutView",
            "align_content": null,
            "align_items": null,
            "align_self": null,
            "border": null,
            "bottom": null,
            "display": null,
            "flex": null,
            "flex_flow": null,
            "grid_area": null,
            "grid_auto_columns": null,
            "grid_auto_flow": null,
            "grid_auto_rows": null,
            "grid_column": null,
            "grid_gap": null,
            "grid_row": null,
            "grid_template_areas": null,
            "grid_template_columns": null,
            "grid_template_rows": null,
            "height": null,
            "justify_content": null,
            "justify_items": null,
            "left": null,
            "margin": null,
            "max_height": null,
            "max_width": null,
            "min_height": null,
            "min_width": null,
            "object_fit": null,
            "object_position": null,
            "order": null,
            "overflow": null,
            "overflow_x": null,
            "overflow_y": null,
            "padding": null,
            "right": null,
            "top": null,
            "visibility": null,
            "width": null
          }
        },
        "c37a059b4e2e47b991d16123262ecd08": {
          "model_module": "@jupyter-widgets/controls",
          "model_name": "DescriptionStyleModel",
          "model_module_version": "1.5.0",
          "state": {
            "_model_module": "@jupyter-widgets/controls",
            "_model_module_version": "1.5.0",
            "_model_name": "DescriptionStyleModel",
            "_view_count": null,
            "_view_module": "@jupyter-widgets/base",
            "_view_module_version": "1.2.0",
            "_view_name": "StyleView",
            "description_width": ""
          }
        },
        "b96bc2fa07184ac7b14f38cbf0d0be17": {
          "model_module": "@jupyter-widgets/controls",
          "model_name": "HBoxModel",
          "model_module_version": "1.5.0",
          "state": {
            "_dom_classes": [],
            "_model_module": "@jupyter-widgets/controls",
            "_model_module_version": "1.5.0",
            "_model_name": "HBoxModel",
            "_view_count": null,
            "_view_module": "@jupyter-widgets/controls",
            "_view_module_version": "1.5.0",
            "_view_name": "HBoxView",
            "box_style": "",
            "children": [
              "IPY_MODEL_38a6e34c02dc4f6887bae49a8ef74a93",
              "IPY_MODEL_fbc2c4d3442c4070af7977637b0cad8e",
              "IPY_MODEL_353520b2d67546f3a5bfd5cd1dda5518"
            ],
            "layout": "IPY_MODEL_3a009ec342cf44b6aa242397f15e97b2"
          }
        },
        "38a6e34c02dc4f6887bae49a8ef74a93": {
          "model_module": "@jupyter-widgets/controls",
          "model_name": "HTMLModel",
          "model_module_version": "1.5.0",
          "state": {
            "_dom_classes": [],
            "_model_module": "@jupyter-widgets/controls",
            "_model_module_version": "1.5.0",
            "_model_name": "HTMLModel",
            "_view_count": null,
            "_view_module": "@jupyter-widgets/controls",
            "_view_module_version": "1.5.0",
            "_view_name": "HTMLView",
            "description": "",
            "description_tooltip": null,
            "layout": "IPY_MODEL_a88c802ddca246d38092eddb80247bd3",
            "placeholder": "​",
            "style": "IPY_MODEL_6e6d97356a68404cb39bbd0c8a501a8f",
            "value": "config.json: 100%"
          }
        },
        "fbc2c4d3442c4070af7977637b0cad8e": {
          "model_module": "@jupyter-widgets/controls",
          "model_name": "FloatProgressModel",
          "model_module_version": "1.5.0",
          "state": {
            "_dom_classes": [],
            "_model_module": "@jupyter-widgets/controls",
            "_model_module_version": "1.5.0",
            "_model_name": "FloatProgressModel",
            "_view_count": null,
            "_view_module": "@jupyter-widgets/controls",
            "_view_module_version": "1.5.0",
            "_view_name": "ProgressView",
            "bar_style": "success",
            "description": "",
            "description_tooltip": null,
            "layout": "IPY_MODEL_723e898ed8cc4092906f7f4a614977ca",
            "max": 690,
            "min": 0,
            "orientation": "horizontal",
            "style": "IPY_MODEL_34dfcaa0d2f147e985f7fa678f2ce73d",
            "value": 690
          }
        },
        "353520b2d67546f3a5bfd5cd1dda5518": {
          "model_module": "@jupyter-widgets/controls",
          "model_name": "HTMLModel",
          "model_module_version": "1.5.0",
          "state": {
            "_dom_classes": [],
            "_model_module": "@jupyter-widgets/controls",
            "_model_module_version": "1.5.0",
            "_model_name": "HTMLModel",
            "_view_count": null,
            "_view_module": "@jupyter-widgets/controls",
            "_view_module_version": "1.5.0",
            "_view_name": "HTMLView",
            "description": "",
            "description_tooltip": null,
            "layout": "IPY_MODEL_0ac89a4b46874e71b7209a9783279013",
            "placeholder": "​",
            "style": "IPY_MODEL_19e6449150ce48f3aafa2b2f656b15d5",
            "value": " 690/690 [00:00&lt;00:00, 48.3kB/s]"
          }
        },
        "3a009ec342cf44b6aa242397f15e97b2": {
          "model_module": "@jupyter-widgets/base",
          "model_name": "LayoutModel",
          "model_module_version": "1.2.0",
          "state": {
            "_model_module": "@jupyter-widgets/base",
            "_model_module_version": "1.2.0",
            "_model_name": "LayoutModel",
            "_view_count": null,
            "_view_module": "@jupyter-widgets/base",
            "_view_module_version": "1.2.0",
            "_view_name": "LayoutView",
            "align_content": null,
            "align_items": null,
            "align_self": null,
            "border": null,
            "bottom": null,
            "display": null,
            "flex": null,
            "flex_flow": null,
            "grid_area": null,
            "grid_auto_columns": null,
            "grid_auto_flow": null,
            "grid_auto_rows": null,
            "grid_column": null,
            "grid_gap": null,
            "grid_row": null,
            "grid_template_areas": null,
            "grid_template_columns": null,
            "grid_template_rows": null,
            "height": null,
            "justify_content": null,
            "justify_items": null,
            "left": null,
            "margin": null,
            "max_height": null,
            "max_width": null,
            "min_height": null,
            "min_width": null,
            "object_fit": null,
            "object_position": null,
            "order": null,
            "overflow": null,
            "overflow_x": null,
            "overflow_y": null,
            "padding": null,
            "right": null,
            "top": null,
            "visibility": null,
            "width": null
          }
        },
        "a88c802ddca246d38092eddb80247bd3": {
          "model_module": "@jupyter-widgets/base",
          "model_name": "LayoutModel",
          "model_module_version": "1.2.0",
          "state": {
            "_model_module": "@jupyter-widgets/base",
            "_model_module_version": "1.2.0",
            "_model_name": "LayoutModel",
            "_view_count": null,
            "_view_module": "@jupyter-widgets/base",
            "_view_module_version": "1.2.0",
            "_view_name": "LayoutView",
            "align_content": null,
            "align_items": null,
            "align_self": null,
            "border": null,
            "bottom": null,
            "display": null,
            "flex": null,
            "flex_flow": null,
            "grid_area": null,
            "grid_auto_columns": null,
            "grid_auto_flow": null,
            "grid_auto_rows": null,
            "grid_column": null,
            "grid_gap": null,
            "grid_row": null,
            "grid_template_areas": null,
            "grid_template_columns": null,
            "grid_template_rows": null,
            "height": null,
            "justify_content": null,
            "justify_items": null,
            "left": null,
            "margin": null,
            "max_height": null,
            "max_width": null,
            "min_height": null,
            "min_width": null,
            "object_fit": null,
            "object_position": null,
            "order": null,
            "overflow": null,
            "overflow_x": null,
            "overflow_y": null,
            "padding": null,
            "right": null,
            "top": null,
            "visibility": null,
            "width": null
          }
        },
        "6e6d97356a68404cb39bbd0c8a501a8f": {
          "model_module": "@jupyter-widgets/controls",
          "model_name": "DescriptionStyleModel",
          "model_module_version": "1.5.0",
          "state": {
            "_model_module": "@jupyter-widgets/controls",
            "_model_module_version": "1.5.0",
            "_model_name": "DescriptionStyleModel",
            "_view_count": null,
            "_view_module": "@jupyter-widgets/base",
            "_view_module_version": "1.2.0",
            "_view_name": "StyleView",
            "description_width": ""
          }
        },
        "723e898ed8cc4092906f7f4a614977ca": {
          "model_module": "@jupyter-widgets/base",
          "model_name": "LayoutModel",
          "model_module_version": "1.2.0",
          "state": {
            "_model_module": "@jupyter-widgets/base",
            "_model_module_version": "1.2.0",
            "_model_name": "LayoutModel",
            "_view_count": null,
            "_view_module": "@jupyter-widgets/base",
            "_view_module_version": "1.2.0",
            "_view_name": "LayoutView",
            "align_content": null,
            "align_items": null,
            "align_self": null,
            "border": null,
            "bottom": null,
            "display": null,
            "flex": null,
            "flex_flow": null,
            "grid_area": null,
            "grid_auto_columns": null,
            "grid_auto_flow": null,
            "grid_auto_rows": null,
            "grid_column": null,
            "grid_gap": null,
            "grid_row": null,
            "grid_template_areas": null,
            "grid_template_columns": null,
            "grid_template_rows": null,
            "height": null,
            "justify_content": null,
            "justify_items": null,
            "left": null,
            "margin": null,
            "max_height": null,
            "max_width": null,
            "min_height": null,
            "min_width": null,
            "object_fit": null,
            "object_position": null,
            "order": null,
            "overflow": null,
            "overflow_x": null,
            "overflow_y": null,
            "padding": null,
            "right": null,
            "top": null,
            "visibility": null,
            "width": null
          }
        },
        "34dfcaa0d2f147e985f7fa678f2ce73d": {
          "model_module": "@jupyter-widgets/controls",
          "model_name": "ProgressStyleModel",
          "model_module_version": "1.5.0",
          "state": {
            "_model_module": "@jupyter-widgets/controls",
            "_model_module_version": "1.5.0",
            "_model_name": "ProgressStyleModel",
            "_view_count": null,
            "_view_module": "@jupyter-widgets/base",
            "_view_module_version": "1.2.0",
            "_view_name": "StyleView",
            "bar_color": null,
            "description_width": ""
          }
        },
        "0ac89a4b46874e71b7209a9783279013": {
          "model_module": "@jupyter-widgets/base",
          "model_name": "LayoutModel",
          "model_module_version": "1.2.0",
          "state": {
            "_model_module": "@jupyter-widgets/base",
            "_model_module_version": "1.2.0",
            "_model_name": "LayoutModel",
            "_view_count": null,
            "_view_module": "@jupyter-widgets/base",
            "_view_module_version": "1.2.0",
            "_view_name": "LayoutView",
            "align_content": null,
            "align_items": null,
            "align_self": null,
            "border": null,
            "bottom": null,
            "display": null,
            "flex": null,
            "flex_flow": null,
            "grid_area": null,
            "grid_auto_columns": null,
            "grid_auto_flow": null,
            "grid_auto_rows": null,
            "grid_column": null,
            "grid_gap": null,
            "grid_row": null,
            "grid_template_areas": null,
            "grid_template_columns": null,
            "grid_template_rows": null,
            "height": null,
            "justify_content": null,
            "justify_items": null,
            "left": null,
            "margin": null,
            "max_height": null,
            "max_width": null,
            "min_height": null,
            "min_width": null,
            "object_fit": null,
            "object_position": null,
            "order": null,
            "overflow": null,
            "overflow_x": null,
            "overflow_y": null,
            "padding": null,
            "right": null,
            "top": null,
            "visibility": null,
            "width": null
          }
        },
        "19e6449150ce48f3aafa2b2f656b15d5": {
          "model_module": "@jupyter-widgets/controls",
          "model_name": "DescriptionStyleModel",
          "model_module_version": "1.5.0",
          "state": {
            "_model_module": "@jupyter-widgets/controls",
            "_model_module_version": "1.5.0",
            "_model_name": "DescriptionStyleModel",
            "_view_count": null,
            "_view_module": "@jupyter-widgets/base",
            "_view_module_version": "1.2.0",
            "_view_name": "StyleView",
            "description_width": ""
          }
        },
        "2ec295fbeb5944d7b35e0eb6971a0e8a": {
          "model_module": "@jupyter-widgets/controls",
          "model_name": "HBoxModel",
          "model_module_version": "1.5.0",
          "state": {
            "_dom_classes": [],
            "_model_module": "@jupyter-widgets/controls",
            "_model_module_version": "1.5.0",
            "_model_name": "HBoxModel",
            "_view_count": null,
            "_view_module": "@jupyter-widgets/controls",
            "_view_module_version": "1.5.0",
            "_view_name": "HBoxView",
            "box_style": "",
            "children": [
              "IPY_MODEL_ce602dc65ccf40ca8ef61f5704621da7",
              "IPY_MODEL_7dd15d5aa5a4431ebc9e07c5c47b0fd7",
              "IPY_MODEL_cbe098f8c84a424c9d1a6207c89ad794"
            ],
            "layout": "IPY_MODEL_e23bb43e4e6c464dbfcb6f6943dd542b"
          }
        },
        "ce602dc65ccf40ca8ef61f5704621da7": {
          "model_module": "@jupyter-widgets/controls",
          "model_name": "HTMLModel",
          "model_module_version": "1.5.0",
          "state": {
            "_dom_classes": [],
            "_model_module": "@jupyter-widgets/controls",
            "_model_module_version": "1.5.0",
            "_model_name": "HTMLModel",
            "_view_count": null,
            "_view_module": "@jupyter-widgets/controls",
            "_view_module_version": "1.5.0",
            "_view_name": "HTMLView",
            "description": "",
            "description_tooltip": null,
            "layout": "IPY_MODEL_2acea675bb884f4da273ba11ebb11ae7",
            "placeholder": "​",
            "style": "IPY_MODEL_76786f3260614b0b8cf9dad04e34e192",
            "value": "model.safetensors: 100%"
          }
        },
        "7dd15d5aa5a4431ebc9e07c5c47b0fd7": {
          "model_module": "@jupyter-widgets/controls",
          "model_name": "FloatProgressModel",
          "model_module_version": "1.5.0",
          "state": {
            "_dom_classes": [],
            "_model_module": "@jupyter-widgets/controls",
            "_model_module_version": "1.5.0",
            "_model_name": "FloatProgressModel",
            "_view_count": null,
            "_view_module": "@jupyter-widgets/controls",
            "_view_module_version": "1.5.0",
            "_view_name": "ProgressView",
            "bar_style": "success",
            "description": "",
            "description_tooltip": null,
            "layout": "IPY_MODEL_ce57d376c7d84c99ab4a990d8f1d3257",
            "max": 2239611368,
            "min": 0,
            "orientation": "horizontal",
            "style": "IPY_MODEL_15c8b9c3331241e38dae45461e565d75",
            "value": 2239611368
          }
        },
        "cbe098f8c84a424c9d1a6207c89ad794": {
          "model_module": "@jupyter-widgets/controls",
          "model_name": "HTMLModel",
          "model_module_version": "1.5.0",
          "state": {
            "_dom_classes": [],
            "_model_module": "@jupyter-widgets/controls",
            "_model_module_version": "1.5.0",
            "_model_name": "HTMLModel",
            "_view_count": null,
            "_view_module": "@jupyter-widgets/controls",
            "_view_module_version": "1.5.0",
            "_view_name": "HTMLView",
            "description": "",
            "description_tooltip": null,
            "layout": "IPY_MODEL_7ec7e6f3cfaf48e7a9d4e27175feed62",
            "placeholder": "​",
            "style": "IPY_MODEL_352edbb1889045909985973b1fbdfc5b",
            "value": " 2.24G/2.24G [00:17&lt;00:00, 232MB/s]"
          }
        },
        "e23bb43e4e6c464dbfcb6f6943dd542b": {
          "model_module": "@jupyter-widgets/base",
          "model_name": "LayoutModel",
          "model_module_version": "1.2.0",
          "state": {
            "_model_module": "@jupyter-widgets/base",
            "_model_module_version": "1.2.0",
            "_model_name": "LayoutModel",
            "_view_count": null,
            "_view_module": "@jupyter-widgets/base",
            "_view_module_version": "1.2.0",
            "_view_name": "LayoutView",
            "align_content": null,
            "align_items": null,
            "align_self": null,
            "border": null,
            "bottom": null,
            "display": null,
            "flex": null,
            "flex_flow": null,
            "grid_area": null,
            "grid_auto_columns": null,
            "grid_auto_flow": null,
            "grid_auto_rows": null,
            "grid_column": null,
            "grid_gap": null,
            "grid_row": null,
            "grid_template_areas": null,
            "grid_template_columns": null,
            "grid_template_rows": null,
            "height": null,
            "justify_content": null,
            "justify_items": null,
            "left": null,
            "margin": null,
            "max_height": null,
            "max_width": null,
            "min_height": null,
            "min_width": null,
            "object_fit": null,
            "object_position": null,
            "order": null,
            "overflow": null,
            "overflow_x": null,
            "overflow_y": null,
            "padding": null,
            "right": null,
            "top": null,
            "visibility": null,
            "width": null
          }
        },
        "2acea675bb884f4da273ba11ebb11ae7": {
          "model_module": "@jupyter-widgets/base",
          "model_name": "LayoutModel",
          "model_module_version": "1.2.0",
          "state": {
            "_model_module": "@jupyter-widgets/base",
            "_model_module_version": "1.2.0",
            "_model_name": "LayoutModel",
            "_view_count": null,
            "_view_module": "@jupyter-widgets/base",
            "_view_module_version": "1.2.0",
            "_view_name": "LayoutView",
            "align_content": null,
            "align_items": null,
            "align_self": null,
            "border": null,
            "bottom": null,
            "display": null,
            "flex": null,
            "flex_flow": null,
            "grid_area": null,
            "grid_auto_columns": null,
            "grid_auto_flow": null,
            "grid_auto_rows": null,
            "grid_column": null,
            "grid_gap": null,
            "grid_row": null,
            "grid_template_areas": null,
            "grid_template_columns": null,
            "grid_template_rows": null,
            "height": null,
            "justify_content": null,
            "justify_items": null,
            "left": null,
            "margin": null,
            "max_height": null,
            "max_width": null,
            "min_height": null,
            "min_width": null,
            "object_fit": null,
            "object_position": null,
            "order": null,
            "overflow": null,
            "overflow_x": null,
            "overflow_y": null,
            "padding": null,
            "right": null,
            "top": null,
            "visibility": null,
            "width": null
          }
        },
        "76786f3260614b0b8cf9dad04e34e192": {
          "model_module": "@jupyter-widgets/controls",
          "model_name": "DescriptionStyleModel",
          "model_module_version": "1.5.0",
          "state": {
            "_model_module": "@jupyter-widgets/controls",
            "_model_module_version": "1.5.0",
            "_model_name": "DescriptionStyleModel",
            "_view_count": null,
            "_view_module": "@jupyter-widgets/base",
            "_view_module_version": "1.2.0",
            "_view_name": "StyleView",
            "description_width": ""
          }
        },
        "ce57d376c7d84c99ab4a990d8f1d3257": {
          "model_module": "@jupyter-widgets/base",
          "model_name": "LayoutModel",
          "model_module_version": "1.2.0",
          "state": {
            "_model_module": "@jupyter-widgets/base",
            "_model_module_version": "1.2.0",
            "_model_name": "LayoutModel",
            "_view_count": null,
            "_view_module": "@jupyter-widgets/base",
            "_view_module_version": "1.2.0",
            "_view_name": "LayoutView",
            "align_content": null,
            "align_items": null,
            "align_self": null,
            "border": null,
            "bottom": null,
            "display": null,
            "flex": null,
            "flex_flow": null,
            "grid_area": null,
            "grid_auto_columns": null,
            "grid_auto_flow": null,
            "grid_auto_rows": null,
            "grid_column": null,
            "grid_gap": null,
            "grid_row": null,
            "grid_template_areas": null,
            "grid_template_columns": null,
            "grid_template_rows": null,
            "height": null,
            "justify_content": null,
            "justify_items": null,
            "left": null,
            "margin": null,
            "max_height": null,
            "max_width": null,
            "min_height": null,
            "min_width": null,
            "object_fit": null,
            "object_position": null,
            "order": null,
            "overflow": null,
            "overflow_x": null,
            "overflow_y": null,
            "padding": null,
            "right": null,
            "top": null,
            "visibility": null,
            "width": null
          }
        },
        "15c8b9c3331241e38dae45461e565d75": {
          "model_module": "@jupyter-widgets/controls",
          "model_name": "ProgressStyleModel",
          "model_module_version": "1.5.0",
          "state": {
            "_model_module": "@jupyter-widgets/controls",
            "_model_module_version": "1.5.0",
            "_model_name": "ProgressStyleModel",
            "_view_count": null,
            "_view_module": "@jupyter-widgets/base",
            "_view_module_version": "1.2.0",
            "_view_name": "StyleView",
            "bar_color": null,
            "description_width": ""
          }
        },
        "7ec7e6f3cfaf48e7a9d4e27175feed62": {
          "model_module": "@jupyter-widgets/base",
          "model_name": "LayoutModel",
          "model_module_version": "1.2.0",
          "state": {
            "_model_module": "@jupyter-widgets/base",
            "_model_module_version": "1.2.0",
            "_model_name": "LayoutModel",
            "_view_count": null,
            "_view_module": "@jupyter-widgets/base",
            "_view_module_version": "1.2.0",
            "_view_name": "LayoutView",
            "align_content": null,
            "align_items": null,
            "align_self": null,
            "border": null,
            "bottom": null,
            "display": null,
            "flex": null,
            "flex_flow": null,
            "grid_area": null,
            "grid_auto_columns": null,
            "grid_auto_flow": null,
            "grid_auto_rows": null,
            "grid_column": null,
            "grid_gap": null,
            "grid_row": null,
            "grid_template_areas": null,
            "grid_template_columns": null,
            "grid_template_rows": null,
            "height": null,
            "justify_content": null,
            "justify_items": null,
            "left": null,
            "margin": null,
            "max_height": null,
            "max_width": null,
            "min_height": null,
            "min_width": null,
            "object_fit": null,
            "object_position": null,
            "order": null,
            "overflow": null,
            "overflow_x": null,
            "overflow_y": null,
            "padding": null,
            "right": null,
            "top": null,
            "visibility": null,
            "width": null
          }
        },
        "352edbb1889045909985973b1fbdfc5b": {
          "model_module": "@jupyter-widgets/controls",
          "model_name": "DescriptionStyleModel",
          "model_module_version": "1.5.0",
          "state": {
            "_model_module": "@jupyter-widgets/controls",
            "_model_module_version": "1.5.0",
            "_model_name": "DescriptionStyleModel",
            "_view_count": null,
            "_view_module": "@jupyter-widgets/base",
            "_view_module_version": "1.2.0",
            "_view_name": "StyleView",
            "description_width": ""
          }
        }
      }
    }
  },
  "nbformat_minor": 0,
  "nbformat": 4,
  "cells": [
    {
      "cell_type": "code",
      "source": [
        "!pip install umap-learn\n",
        "!pip install hdbscan\n",
        "!pip install datasets"
      ],
      "metadata": {
        "execution": {
          "iopub.status.busy": "2024-05-10T17:45:28.600608Z",
          "iopub.execute_input": "2024-05-10T17:45:28.601593Z",
          "iopub.status.idle": "2024-05-10T17:47:24.476250Z",
          "shell.execute_reply.started": "2024-05-10T17:45:28.601546Z",
          "shell.execute_reply": "2024-05-10T17:47:24.474962Z"
        },
        "collapsed": true,
        "jupyter": {
          "outputs_hidden": true
        },
        "trusted": true,
        "colab": {
          "base_uri": "https://localhost:8080/"
        },
        "id": "aoHZcFoCme86",
        "outputId": "67107caf-1858-48cd-bb9b-3a18f5c30134"
      },
      "execution_count": 1,
      "outputs": [
        {
          "output_type": "stream",
          "name": "stdout",
          "text": [
            "Collecting umap-learn\n",
            "  Downloading umap_learn-0.5.6-py3-none-any.whl (85 kB)\n",
            "\u001b[?25l     \u001b[90m━━━━━━━━━━━━━━━━━━━━━━━━━━━━━━━━━━━━━━━━\u001b[0m \u001b[32m0.0/85.7 kB\u001b[0m \u001b[31m?\u001b[0m eta \u001b[36m-:--:--\u001b[0m\r\u001b[2K     \u001b[90m━━━━━━━━━━━━━━━━━━━━━━━━━━━━━━━━━━━━━━━━\u001b[0m \u001b[32m85.7/85.7 kB\u001b[0m \u001b[31m3.2 MB/s\u001b[0m eta \u001b[36m0:00:00\u001b[0m\n",
            "\u001b[?25hRequirement already satisfied: numpy>=1.17 in /usr/local/lib/python3.10/dist-packages (from umap-learn) (1.25.2)\n",
            "Requirement already satisfied: scipy>=1.3.1 in /usr/local/lib/python3.10/dist-packages (from umap-learn) (1.11.4)\n",
            "Requirement already satisfied: scikit-learn>=0.22 in /usr/local/lib/python3.10/dist-packages (from umap-learn) (1.2.2)\n",
            "Requirement already satisfied: numba>=0.51.2 in /usr/local/lib/python3.10/dist-packages (from umap-learn) (0.58.1)\n",
            "Collecting pynndescent>=0.5 (from umap-learn)\n",
            "  Downloading pynndescent-0.5.12-py3-none-any.whl (56 kB)\n",
            "\u001b[2K     \u001b[90m━━━━━━━━━━━━━━━━━━━━━━━━━━━━━━━━━━━━━━━━\u001b[0m \u001b[32m56.8/56.8 kB\u001b[0m \u001b[31m7.9 MB/s\u001b[0m eta \u001b[36m0:00:00\u001b[0m\n",
            "\u001b[?25hRequirement already satisfied: tqdm in /usr/local/lib/python3.10/dist-packages (from umap-learn) (4.66.4)\n",
            "Requirement already satisfied: llvmlite<0.42,>=0.41.0dev0 in /usr/local/lib/python3.10/dist-packages (from numba>=0.51.2->umap-learn) (0.41.1)\n",
            "Requirement already satisfied: joblib>=0.11 in /usr/local/lib/python3.10/dist-packages (from pynndescent>=0.5->umap-learn) (1.4.2)\n",
            "Requirement already satisfied: threadpoolctl>=2.0.0 in /usr/local/lib/python3.10/dist-packages (from scikit-learn>=0.22->umap-learn) (3.5.0)\n",
            "Installing collected packages: pynndescent, umap-learn\n",
            "Successfully installed pynndescent-0.5.12 umap-learn-0.5.6\n",
            "Collecting hdbscan\n",
            "  Downloading hdbscan-0.8.33.tar.gz (5.2 MB)\n",
            "\u001b[2K     \u001b[90m━━━━━━━━━━━━━━━━━━━━━━━━━━━━━━━━━━━━━━━━\u001b[0m \u001b[32m5.2/5.2 MB\u001b[0m \u001b[31m21.1 MB/s\u001b[0m eta \u001b[36m0:00:00\u001b[0m\n",
            "\u001b[?25h  Installing build dependencies ... \u001b[?25l\u001b[?25hdone\n",
            "  Getting requirements to build wheel ... \u001b[?25l\u001b[?25hdone\n",
            "  Preparing metadata (pyproject.toml) ... \u001b[?25l\u001b[?25hdone\n",
            "Collecting cython<3,>=0.27 (from hdbscan)\n",
            "  Using cached Cython-0.29.37-cp310-cp310-manylinux_2_17_x86_64.manylinux2014_x86_64.manylinux_2_24_x86_64.whl (1.9 MB)\n",
            "Requirement already satisfied: numpy>=1.20 in /usr/local/lib/python3.10/dist-packages (from hdbscan) (1.25.2)\n",
            "Requirement already satisfied: scipy>=1.0 in /usr/local/lib/python3.10/dist-packages (from hdbscan) (1.11.4)\n",
            "Requirement already satisfied: scikit-learn>=0.20 in /usr/local/lib/python3.10/dist-packages (from hdbscan) (1.2.2)\n",
            "Requirement already satisfied: joblib>=1.0 in /usr/local/lib/python3.10/dist-packages (from hdbscan) (1.4.2)\n",
            "Requirement already satisfied: threadpoolctl>=2.0.0 in /usr/local/lib/python3.10/dist-packages (from scikit-learn>=0.20->hdbscan) (3.5.0)\n",
            "Building wheels for collected packages: hdbscan\n",
            "  Building wheel for hdbscan (pyproject.toml) ... \u001b[?25l\u001b[?25hdone\n",
            "  Created wheel for hdbscan: filename=hdbscan-0.8.33-cp310-cp310-linux_x86_64.whl size=3039277 sha256=637ee5e0c9879a761daf635f271b293124a3b86c54f1ea4c91452c510da58414\n",
            "  Stored in directory: /root/.cache/pip/wheels/75/0b/3b/dc4f60b7cc455efaefb62883a7483e76f09d06ca81cf87d610\n",
            "Successfully built hdbscan\n",
            "Installing collected packages: cython, hdbscan\n",
            "  Attempting uninstall: cython\n",
            "    Found existing installation: Cython 3.0.10\n",
            "    Uninstalling Cython-3.0.10:\n",
            "      Successfully uninstalled Cython-3.0.10\n",
            "Successfully installed cython-0.29.37 hdbscan-0.8.33\n",
            "Collecting datasets\n",
            "  Downloading datasets-2.19.1-py3-none-any.whl (542 kB)\n",
            "\u001b[2K     \u001b[90m━━━━━━━━━━━━━━━━━━━━━━━━━━━━━━━━━━━━━━━━\u001b[0m \u001b[32m542.0/542.0 kB\u001b[0m \u001b[31m9.3 MB/s\u001b[0m eta \u001b[36m0:00:00\u001b[0m\n",
            "\u001b[?25hRequirement already satisfied: filelock in /usr/local/lib/python3.10/dist-packages (from datasets) (3.14.0)\n",
            "Requirement already satisfied: numpy>=1.17 in /usr/local/lib/python3.10/dist-packages (from datasets) (1.25.2)\n",
            "Requirement already satisfied: pyarrow>=12.0.0 in /usr/local/lib/python3.10/dist-packages (from datasets) (14.0.2)\n",
            "Requirement already satisfied: pyarrow-hotfix in /usr/local/lib/python3.10/dist-packages (from datasets) (0.6)\n",
            "Collecting dill<0.3.9,>=0.3.0 (from datasets)\n",
            "  Downloading dill-0.3.8-py3-none-any.whl (116 kB)\n",
            "\u001b[2K     \u001b[90m━━━━━━━━━━━━━━━━━━━━━━━━━━━━━━━━━━━━━━━━\u001b[0m \u001b[32m116.3/116.3 kB\u001b[0m \u001b[31m14.9 MB/s\u001b[0m eta \u001b[36m0:00:00\u001b[0m\n",
            "\u001b[?25hRequirement already satisfied: pandas in /usr/local/lib/python3.10/dist-packages (from datasets) (2.0.3)\n",
            "Requirement already satisfied: requests>=2.19.0 in /usr/local/lib/python3.10/dist-packages (from datasets) (2.31.0)\n",
            "Requirement already satisfied: tqdm>=4.62.1 in /usr/local/lib/python3.10/dist-packages (from datasets) (4.66.4)\n",
            "Collecting xxhash (from datasets)\n",
            "  Downloading xxhash-3.4.1-cp310-cp310-manylinux_2_17_x86_64.manylinux2014_x86_64.whl (194 kB)\n",
            "\u001b[2K     \u001b[90m━━━━━━━━━━━━━━━━━━━━━━━━━━━━━━━━━━━━━━━━\u001b[0m \u001b[32m194.1/194.1 kB\u001b[0m \u001b[31m11.8 MB/s\u001b[0m eta \u001b[36m0:00:00\u001b[0m\n",
            "\u001b[?25hCollecting multiprocess (from datasets)\n",
            "  Downloading multiprocess-0.70.16-py310-none-any.whl (134 kB)\n",
            "\u001b[2K     \u001b[90m━━━━━━━━━━━━━━━━━━━━━━━━━━━━━━━━━━━━━━━━\u001b[0m \u001b[32m134.8/134.8 kB\u001b[0m \u001b[31m9.8 MB/s\u001b[0m eta \u001b[36m0:00:00\u001b[0m\n",
            "\u001b[?25hRequirement already satisfied: fsspec[http]<=2024.3.1,>=2023.1.0 in /usr/local/lib/python3.10/dist-packages (from datasets) (2023.6.0)\n",
            "Requirement already satisfied: aiohttp in /usr/local/lib/python3.10/dist-packages (from datasets) (3.9.5)\n",
            "Collecting huggingface-hub>=0.21.2 (from datasets)\n",
            "  Downloading huggingface_hub-0.23.0-py3-none-any.whl (401 kB)\n",
            "\u001b[2K     \u001b[90m━━━━━━━━━━━━━━━━━━━━━━━━━━━━━━━━━━━━━━━━\u001b[0m \u001b[32m401.2/401.2 kB\u001b[0m \u001b[31m15.8 MB/s\u001b[0m eta \u001b[36m0:00:00\u001b[0m\n",
            "\u001b[?25hRequirement already satisfied: packaging in /usr/local/lib/python3.10/dist-packages (from datasets) (24.0)\n",
            "Requirement already satisfied: pyyaml>=5.1 in /usr/local/lib/python3.10/dist-packages (from datasets) (6.0.1)\n",
            "Requirement already satisfied: aiosignal>=1.1.2 in /usr/local/lib/python3.10/dist-packages (from aiohttp->datasets) (1.3.1)\n",
            "Requirement already satisfied: attrs>=17.3.0 in /usr/local/lib/python3.10/dist-packages (from aiohttp->datasets) (23.2.0)\n",
            "Requirement already satisfied: frozenlist>=1.1.1 in /usr/local/lib/python3.10/dist-packages (from aiohttp->datasets) (1.4.1)\n",
            "Requirement already satisfied: multidict<7.0,>=4.5 in /usr/local/lib/python3.10/dist-packages (from aiohttp->datasets) (6.0.5)\n",
            "Requirement already satisfied: yarl<2.0,>=1.0 in /usr/local/lib/python3.10/dist-packages (from aiohttp->datasets) (1.9.4)\n",
            "Requirement already satisfied: async-timeout<5.0,>=4.0 in /usr/local/lib/python3.10/dist-packages (from aiohttp->datasets) (4.0.3)\n",
            "Requirement already satisfied: typing-extensions>=3.7.4.3 in /usr/local/lib/python3.10/dist-packages (from huggingface-hub>=0.21.2->datasets) (4.11.0)\n",
            "Requirement already satisfied: charset-normalizer<4,>=2 in /usr/local/lib/python3.10/dist-packages (from requests>=2.19.0->datasets) (3.3.2)\n",
            "Requirement already satisfied: idna<4,>=2.5 in /usr/local/lib/python3.10/dist-packages (from requests>=2.19.0->datasets) (3.7)\n",
            "Requirement already satisfied: urllib3<3,>=1.21.1 in /usr/local/lib/python3.10/dist-packages (from requests>=2.19.0->datasets) (2.0.7)\n",
            "Requirement already satisfied: certifi>=2017.4.17 in /usr/local/lib/python3.10/dist-packages (from requests>=2.19.0->datasets) (2024.2.2)\n",
            "Requirement already satisfied: python-dateutil>=2.8.2 in /usr/local/lib/python3.10/dist-packages (from pandas->datasets) (2.8.2)\n",
            "Requirement already satisfied: pytz>=2020.1 in /usr/local/lib/python3.10/dist-packages (from pandas->datasets) (2023.4)\n",
            "Requirement already satisfied: tzdata>=2022.1 in /usr/local/lib/python3.10/dist-packages (from pandas->datasets) (2024.1)\n",
            "Requirement already satisfied: six>=1.5 in /usr/local/lib/python3.10/dist-packages (from python-dateutil>=2.8.2->pandas->datasets) (1.16.0)\n",
            "Installing collected packages: xxhash, dill, multiprocess, huggingface-hub, datasets\n",
            "  Attempting uninstall: huggingface-hub\n",
            "    Found existing installation: huggingface-hub 0.20.3\n",
            "    Uninstalling huggingface-hub-0.20.3:\n",
            "      Successfully uninstalled huggingface-hub-0.20.3\n",
            "Successfully installed datasets-2.19.1 dill-0.3.8 huggingface-hub-0.23.0 multiprocess-0.70.16 xxhash-3.4.1\n"
          ]
        }
      ]
    },
    {
      "cell_type": "code",
      "source": [
        "!pip install datasets"
      ],
      "metadata": {
        "colab": {
          "base_uri": "https://localhost:8080/"
        },
        "id": "ea0kwY7cnrxk",
        "outputId": "1036967f-ab80-4707-88df-0d2d0843edb7",
        "collapsed": true
      },
      "execution_count": 2,
      "outputs": [
        {
          "output_type": "stream",
          "name": "stdout",
          "text": [
            "Requirement already satisfied: datasets in /usr/local/lib/python3.10/dist-packages (2.19.1)\n",
            "Requirement already satisfied: filelock in /usr/local/lib/python3.10/dist-packages (from datasets) (3.14.0)\n",
            "Requirement already satisfied: numpy>=1.17 in /usr/local/lib/python3.10/dist-packages (from datasets) (1.25.2)\n",
            "Requirement already satisfied: pyarrow>=12.0.0 in /usr/local/lib/python3.10/dist-packages (from datasets) (14.0.2)\n",
            "Requirement already satisfied: pyarrow-hotfix in /usr/local/lib/python3.10/dist-packages (from datasets) (0.6)\n",
            "Requirement already satisfied: dill<0.3.9,>=0.3.0 in /usr/local/lib/python3.10/dist-packages (from datasets) (0.3.8)\n",
            "Requirement already satisfied: pandas in /usr/local/lib/python3.10/dist-packages (from datasets) (2.0.3)\n",
            "Requirement already satisfied: requests>=2.19.0 in /usr/local/lib/python3.10/dist-packages (from datasets) (2.31.0)\n",
            "Requirement already satisfied: tqdm>=4.62.1 in /usr/local/lib/python3.10/dist-packages (from datasets) (4.66.4)\n",
            "Requirement already satisfied: xxhash in /usr/local/lib/python3.10/dist-packages (from datasets) (3.4.1)\n",
            "Requirement already satisfied: multiprocess in /usr/local/lib/python3.10/dist-packages (from datasets) (0.70.16)\n",
            "Requirement already satisfied: fsspec[http]<=2024.3.1,>=2023.1.0 in /usr/local/lib/python3.10/dist-packages (from datasets) (2023.6.0)\n",
            "Requirement already satisfied: aiohttp in /usr/local/lib/python3.10/dist-packages (from datasets) (3.9.5)\n",
            "Requirement already satisfied: huggingface-hub>=0.21.2 in /usr/local/lib/python3.10/dist-packages (from datasets) (0.23.0)\n",
            "Requirement already satisfied: packaging in /usr/local/lib/python3.10/dist-packages (from datasets) (24.0)\n",
            "Requirement already satisfied: pyyaml>=5.1 in /usr/local/lib/python3.10/dist-packages (from datasets) (6.0.1)\n",
            "Requirement already satisfied: aiosignal>=1.1.2 in /usr/local/lib/python3.10/dist-packages (from aiohttp->datasets) (1.3.1)\n",
            "Requirement already satisfied: attrs>=17.3.0 in /usr/local/lib/python3.10/dist-packages (from aiohttp->datasets) (23.2.0)\n",
            "Requirement already satisfied: frozenlist>=1.1.1 in /usr/local/lib/python3.10/dist-packages (from aiohttp->datasets) (1.4.1)\n",
            "Requirement already satisfied: multidict<7.0,>=4.5 in /usr/local/lib/python3.10/dist-packages (from aiohttp->datasets) (6.0.5)\n",
            "Requirement already satisfied: yarl<2.0,>=1.0 in /usr/local/lib/python3.10/dist-packages (from aiohttp->datasets) (1.9.4)\n",
            "Requirement already satisfied: async-timeout<5.0,>=4.0 in /usr/local/lib/python3.10/dist-packages (from aiohttp->datasets) (4.0.3)\n",
            "Requirement already satisfied: typing-extensions>=3.7.4.3 in /usr/local/lib/python3.10/dist-packages (from huggingface-hub>=0.21.2->datasets) (4.11.0)\n",
            "Requirement already satisfied: charset-normalizer<4,>=2 in /usr/local/lib/python3.10/dist-packages (from requests>=2.19.0->datasets) (3.3.2)\n",
            "Requirement already satisfied: idna<4,>=2.5 in /usr/local/lib/python3.10/dist-packages (from requests>=2.19.0->datasets) (3.7)\n",
            "Requirement already satisfied: urllib3<3,>=1.21.1 in /usr/local/lib/python3.10/dist-packages (from requests>=2.19.0->datasets) (2.0.7)\n",
            "Requirement already satisfied: certifi>=2017.4.17 in /usr/local/lib/python3.10/dist-packages (from requests>=2.19.0->datasets) (2024.2.2)\n",
            "Requirement already satisfied: python-dateutil>=2.8.2 in /usr/local/lib/python3.10/dist-packages (from pandas->datasets) (2.8.2)\n",
            "Requirement already satisfied: pytz>=2020.1 in /usr/local/lib/python3.10/dist-packages (from pandas->datasets) (2023.4)\n",
            "Requirement already satisfied: tzdata>=2022.1 in /usr/local/lib/python3.10/dist-packages (from pandas->datasets) (2024.1)\n",
            "Requirement already satisfied: six>=1.5 in /usr/local/lib/python3.10/dist-packages (from python-dateutil>=2.8.2->pandas->datasets) (1.16.0)\n"
          ]
        }
      ]
    },
    {
      "cell_type": "code",
      "source": [
        "import nltk\n",
        "from nltk.corpus import stopwords\n",
        "from nltk.tokenize import word_tokenize\n",
        "from nltk.stem import WordNetLemmatizer\n",
        "from wordcloud import WordCloud\n",
        "\n",
        "import pandas as pd\n",
        "import numpy as np\n",
        "\n",
        "from sklearn.feature_extraction.text import TfidfVectorizer\n",
        "\n",
        "from sklearn.cluster import KMeans, DBSCAN, SpectralClustering\n",
        "import hdbscan\n",
        "\n",
        "import torch.nn.functional as F\n",
        "import torch\n",
        "\n",
        "from torch import Tensor\n",
        "from transformers import AutoTokenizer, AutoModel\n",
        "from datasets import load_dataset, Dataset\n",
        "from torch.utils.data import DataLoader, TensorDataset\n",
        "\n",
        "from tqdm import tqdm\n",
        "\n",
        "import umap\n",
        "\n",
        "from sklearn.preprocessing import StandardScaler\n",
        "import matplotlib.pyplot as plt\n",
        "import seaborn as sns\n",
        "%matplotlib inline"
      ],
      "metadata": {
        "_uuid": "8f2839f25d086af736a60e9eeb907d3b93b6e0e5",
        "_cell_guid": "b1076dfc-b9ad-4769-8c92-a6c4dae69d19",
        "execution": {
          "iopub.status.busy": "2024-05-10T17:47:24.479031Z",
          "iopub.execute_input": "2024-05-10T17:47:24.479463Z",
          "iopub.status.idle": "2024-05-10T17:47:58.493452Z",
          "shell.execute_reply.started": "2024-05-10T17:47:24.479423Z",
          "shell.execute_reply": "2024-05-10T17:47:58.492624Z"
        },
        "trusted": true,
        "id": "DIrDBfR5me9A"
      },
      "execution_count": 3,
      "outputs": []
    },
    {
      "cell_type": "code",
      "source": [
        "device = torch.device('cuda:0' if torch.cuda.is_available() else 'cpu')\n",
        "print(device)"
      ],
      "metadata": {
        "execution": {
          "iopub.status.busy": "2024-05-10T17:47:58.494659Z",
          "iopub.execute_input": "2024-05-10T17:47:58.495383Z",
          "iopub.status.idle": "2024-05-10T17:47:58.537924Z",
          "shell.execute_reply.started": "2024-05-10T17:47:58.495352Z",
          "shell.execute_reply": "2024-05-10T17:47:58.536663Z"
        },
        "trusted": true,
        "colab": {
          "base_uri": "https://localhost:8080/"
        },
        "id": "pcqA5MkAme9B",
        "outputId": "2f15135c-9fa4-4669-b048-2d5c5e2319f0"
      },
      "execution_count": 4,
      "outputs": [
        {
          "output_type": "stream",
          "name": "stdout",
          "text": [
            "cuda:0\n"
          ]
        }
      ]
    },
    {
      "cell_type": "code",
      "source": [
        "table_path = \"/content/full_processed_dataset.csv\"\n",
        "data = pd.read_csv(table_path)\n",
        "data.dropna(axis=0, how='any', inplace=True)\n",
        "data.parsed_text = data.parsed_text.astype(str)\n",
        "\n",
        "data.head()"
      ],
      "metadata": {
        "execution": {
          "iopub.status.busy": "2024-05-10T17:47:58.540765Z",
          "iopub.execute_input": "2024-05-10T17:47:58.541605Z",
          "iopub.status.idle": "2024-05-10T17:47:59.678794Z",
          "shell.execute_reply.started": "2024-05-10T17:47:58.541573Z",
          "shell.execute_reply": "2024-05-10T17:47:59.677742Z"
        },
        "trusted": true,
        "colab": {
          "base_uri": "https://localhost:8080/",
          "height": 206
        },
        "id": "NAn1yoSYme9C",
        "outputId": "eecab396-a798-4c57-af2a-4be181b7c66f"
      },
      "execution_count": 5,
      "outputs": [
        {
          "output_type": "execute_result",
          "data": {
            "text/plain": [
              "                                url base_category_nm  \\\n",
              "0          https://aspect-school.ru      Образование   \n",
              "1               https://rlagency.ru      Развлечения   \n",
              "2     https://kozlovatravel.u-on.ru      Развлечения   \n",
              "3         https://rootsyou.tilda.ws          Красота   \n",
              "4  https://esk.one/p/wadgpcigy2vveo      Образование   \n",
              "\n",
              "                                         parsed_text  \n",
              "0  курс маникюр школа обучение ученик мастер ногт...  \n",
              "1  билет купить руб подробный любовь дк павлово с...  \n",
              "2  Автоматизированная система U ON Travel Забыли ...  \n",
              "3  крем мыло баттеры аромароллер косметика душа п...  \n",
              "4  прототип блок схема поддержка mind esk one сер...  "
            ],
            "text/html": [
              "\n",
              "  <div id=\"df-aa87c2a7-06b0-4985-8295-f330fab626ae\" class=\"colab-df-container\">\n",
              "    <div>\n",
              "<style scoped>\n",
              "    .dataframe tbody tr th:only-of-type {\n",
              "        vertical-align: middle;\n",
              "    }\n",
              "\n",
              "    .dataframe tbody tr th {\n",
              "        vertical-align: top;\n",
              "    }\n",
              "\n",
              "    .dataframe thead th {\n",
              "        text-align: right;\n",
              "    }\n",
              "</style>\n",
              "<table border=\"1\" class=\"dataframe\">\n",
              "  <thead>\n",
              "    <tr style=\"text-align: right;\">\n",
              "      <th></th>\n",
              "      <th>url</th>\n",
              "      <th>base_category_nm</th>\n",
              "      <th>parsed_text</th>\n",
              "    </tr>\n",
              "  </thead>\n",
              "  <tbody>\n",
              "    <tr>\n",
              "      <th>0</th>\n",
              "      <td>https://aspect-school.ru</td>\n",
              "      <td>Образование</td>\n",
              "      <td>курс маникюр школа обучение ученик мастер ногт...</td>\n",
              "    </tr>\n",
              "    <tr>\n",
              "      <th>1</th>\n",
              "      <td>https://rlagency.ru</td>\n",
              "      <td>Развлечения</td>\n",
              "      <td>билет купить руб подробный любовь дк павлово с...</td>\n",
              "    </tr>\n",
              "    <tr>\n",
              "      <th>2</th>\n",
              "      <td>https://kozlovatravel.u-on.ru</td>\n",
              "      <td>Развлечения</td>\n",
              "      <td>Автоматизированная система U ON Travel Забыли ...</td>\n",
              "    </tr>\n",
              "    <tr>\n",
              "      <th>3</th>\n",
              "      <td>https://rootsyou.tilda.ws</td>\n",
              "      <td>Красота</td>\n",
              "      <td>крем мыло баттеры аромароллер косметика душа п...</td>\n",
              "    </tr>\n",
              "    <tr>\n",
              "      <th>4</th>\n",
              "      <td>https://esk.one/p/wadgpcigy2vveo</td>\n",
              "      <td>Образование</td>\n",
              "      <td>прототип блок схема поддержка mind esk one сер...</td>\n",
              "    </tr>\n",
              "  </tbody>\n",
              "</table>\n",
              "</div>\n",
              "    <div class=\"colab-df-buttons\">\n",
              "\n",
              "  <div class=\"colab-df-container\">\n",
              "    <button class=\"colab-df-convert\" onclick=\"convertToInteractive('df-aa87c2a7-06b0-4985-8295-f330fab626ae')\"\n",
              "            title=\"Convert this dataframe to an interactive table.\"\n",
              "            style=\"display:none;\">\n",
              "\n",
              "  <svg xmlns=\"http://www.w3.org/2000/svg\" height=\"24px\" viewBox=\"0 -960 960 960\">\n",
              "    <path d=\"M120-120v-720h720v720H120Zm60-500h600v-160H180v160Zm220 220h160v-160H400v160Zm0 220h160v-160H400v160ZM180-400h160v-160H180v160Zm440 0h160v-160H620v160ZM180-180h160v-160H180v160Zm440 0h160v-160H620v160Z\"/>\n",
              "  </svg>\n",
              "    </button>\n",
              "\n",
              "  <style>\n",
              "    .colab-df-container {\n",
              "      display:flex;\n",
              "      gap: 12px;\n",
              "    }\n",
              "\n",
              "    .colab-df-convert {\n",
              "      background-color: #E8F0FE;\n",
              "      border: none;\n",
              "      border-radius: 50%;\n",
              "      cursor: pointer;\n",
              "      display: none;\n",
              "      fill: #1967D2;\n",
              "      height: 32px;\n",
              "      padding: 0 0 0 0;\n",
              "      width: 32px;\n",
              "    }\n",
              "\n",
              "    .colab-df-convert:hover {\n",
              "      background-color: #E2EBFA;\n",
              "      box-shadow: 0px 1px 2px rgba(60, 64, 67, 0.3), 0px 1px 3px 1px rgba(60, 64, 67, 0.15);\n",
              "      fill: #174EA6;\n",
              "    }\n",
              "\n",
              "    .colab-df-buttons div {\n",
              "      margin-bottom: 4px;\n",
              "    }\n",
              "\n",
              "    [theme=dark] .colab-df-convert {\n",
              "      background-color: #3B4455;\n",
              "      fill: #D2E3FC;\n",
              "    }\n",
              "\n",
              "    [theme=dark] .colab-df-convert:hover {\n",
              "      background-color: #434B5C;\n",
              "      box-shadow: 0px 1px 3px 1px rgba(0, 0, 0, 0.15);\n",
              "      filter: drop-shadow(0px 1px 2px rgba(0, 0, 0, 0.3));\n",
              "      fill: #FFFFFF;\n",
              "    }\n",
              "  </style>\n",
              "\n",
              "    <script>\n",
              "      const buttonEl =\n",
              "        document.querySelector('#df-aa87c2a7-06b0-4985-8295-f330fab626ae button.colab-df-convert');\n",
              "      buttonEl.style.display =\n",
              "        google.colab.kernel.accessAllowed ? 'block' : 'none';\n",
              "\n",
              "      async function convertToInteractive(key) {\n",
              "        const element = document.querySelector('#df-aa87c2a7-06b0-4985-8295-f330fab626ae');\n",
              "        const dataTable =\n",
              "          await google.colab.kernel.invokeFunction('convertToInteractive',\n",
              "                                                    [key], {});\n",
              "        if (!dataTable) return;\n",
              "\n",
              "        const docLinkHtml = 'Like what you see? Visit the ' +\n",
              "          '<a target=\"_blank\" href=https://colab.research.google.com/notebooks/data_table.ipynb>data table notebook</a>'\n",
              "          + ' to learn more about interactive tables.';\n",
              "        element.innerHTML = '';\n",
              "        dataTable['output_type'] = 'display_data';\n",
              "        await google.colab.output.renderOutput(dataTable, element);\n",
              "        const docLink = document.createElement('div');\n",
              "        docLink.innerHTML = docLinkHtml;\n",
              "        element.appendChild(docLink);\n",
              "      }\n",
              "    </script>\n",
              "  </div>\n",
              "\n",
              "\n",
              "<div id=\"df-1fb93b72-5b08-48f9-b4d4-ac9c8d53fb7c\">\n",
              "  <button class=\"colab-df-quickchart\" onclick=\"quickchart('df-1fb93b72-5b08-48f9-b4d4-ac9c8d53fb7c')\"\n",
              "            title=\"Suggest charts\"\n",
              "            style=\"display:none;\">\n",
              "\n",
              "<svg xmlns=\"http://www.w3.org/2000/svg\" height=\"24px\"viewBox=\"0 0 24 24\"\n",
              "     width=\"24px\">\n",
              "    <g>\n",
              "        <path d=\"M19 3H5c-1.1 0-2 .9-2 2v14c0 1.1.9 2 2 2h14c1.1 0 2-.9 2-2V5c0-1.1-.9-2-2-2zM9 17H7v-7h2v7zm4 0h-2V7h2v10zm4 0h-2v-4h2v4z\"/>\n",
              "    </g>\n",
              "</svg>\n",
              "  </button>\n",
              "\n",
              "<style>\n",
              "  .colab-df-quickchart {\n",
              "      --bg-color: #E8F0FE;\n",
              "      --fill-color: #1967D2;\n",
              "      --hover-bg-color: #E2EBFA;\n",
              "      --hover-fill-color: #174EA6;\n",
              "      --disabled-fill-color: #AAA;\n",
              "      --disabled-bg-color: #DDD;\n",
              "  }\n",
              "\n",
              "  [theme=dark] .colab-df-quickchart {\n",
              "      --bg-color: #3B4455;\n",
              "      --fill-color: #D2E3FC;\n",
              "      --hover-bg-color: #434B5C;\n",
              "      --hover-fill-color: #FFFFFF;\n",
              "      --disabled-bg-color: #3B4455;\n",
              "      --disabled-fill-color: #666;\n",
              "  }\n",
              "\n",
              "  .colab-df-quickchart {\n",
              "    background-color: var(--bg-color);\n",
              "    border: none;\n",
              "    border-radius: 50%;\n",
              "    cursor: pointer;\n",
              "    display: none;\n",
              "    fill: var(--fill-color);\n",
              "    height: 32px;\n",
              "    padding: 0;\n",
              "    width: 32px;\n",
              "  }\n",
              "\n",
              "  .colab-df-quickchart:hover {\n",
              "    background-color: var(--hover-bg-color);\n",
              "    box-shadow: 0 1px 2px rgba(60, 64, 67, 0.3), 0 1px 3px 1px rgba(60, 64, 67, 0.15);\n",
              "    fill: var(--button-hover-fill-color);\n",
              "  }\n",
              "\n",
              "  .colab-df-quickchart-complete:disabled,\n",
              "  .colab-df-quickchart-complete:disabled:hover {\n",
              "    background-color: var(--disabled-bg-color);\n",
              "    fill: var(--disabled-fill-color);\n",
              "    box-shadow: none;\n",
              "  }\n",
              "\n",
              "  .colab-df-spinner {\n",
              "    border: 2px solid var(--fill-color);\n",
              "    border-color: transparent;\n",
              "    border-bottom-color: var(--fill-color);\n",
              "    animation:\n",
              "      spin 1s steps(1) infinite;\n",
              "  }\n",
              "\n",
              "  @keyframes spin {\n",
              "    0% {\n",
              "      border-color: transparent;\n",
              "      border-bottom-color: var(--fill-color);\n",
              "      border-left-color: var(--fill-color);\n",
              "    }\n",
              "    20% {\n",
              "      border-color: transparent;\n",
              "      border-left-color: var(--fill-color);\n",
              "      border-top-color: var(--fill-color);\n",
              "    }\n",
              "    30% {\n",
              "      border-color: transparent;\n",
              "      border-left-color: var(--fill-color);\n",
              "      border-top-color: var(--fill-color);\n",
              "      border-right-color: var(--fill-color);\n",
              "    }\n",
              "    40% {\n",
              "      border-color: transparent;\n",
              "      border-right-color: var(--fill-color);\n",
              "      border-top-color: var(--fill-color);\n",
              "    }\n",
              "    60% {\n",
              "      border-color: transparent;\n",
              "      border-right-color: var(--fill-color);\n",
              "    }\n",
              "    80% {\n",
              "      border-color: transparent;\n",
              "      border-right-color: var(--fill-color);\n",
              "      border-bottom-color: var(--fill-color);\n",
              "    }\n",
              "    90% {\n",
              "      border-color: transparent;\n",
              "      border-bottom-color: var(--fill-color);\n",
              "    }\n",
              "  }\n",
              "</style>\n",
              "\n",
              "  <script>\n",
              "    async function quickchart(key) {\n",
              "      const quickchartButtonEl =\n",
              "        document.querySelector('#' + key + ' button');\n",
              "      quickchartButtonEl.disabled = true;  // To prevent multiple clicks.\n",
              "      quickchartButtonEl.classList.add('colab-df-spinner');\n",
              "      try {\n",
              "        const charts = await google.colab.kernel.invokeFunction(\n",
              "            'suggestCharts', [key], {});\n",
              "      } catch (error) {\n",
              "        console.error('Error during call to suggestCharts:', error);\n",
              "      }\n",
              "      quickchartButtonEl.classList.remove('colab-df-spinner');\n",
              "      quickchartButtonEl.classList.add('colab-df-quickchart-complete');\n",
              "    }\n",
              "    (() => {\n",
              "      let quickchartButtonEl =\n",
              "        document.querySelector('#df-1fb93b72-5b08-48f9-b4d4-ac9c8d53fb7c button');\n",
              "      quickchartButtonEl.style.display =\n",
              "        google.colab.kernel.accessAllowed ? 'block' : 'none';\n",
              "    })();\n",
              "  </script>\n",
              "</div>\n",
              "    </div>\n",
              "  </div>\n"
            ],
            "application/vnd.google.colaboratory.intrinsic+json": {
              "type": "dataframe",
              "variable_name": "data",
              "summary": "{\n  \"name\": \"data\",\n  \"rows\": 37119,\n  \"fields\": [\n    {\n      \"column\": \"url\",\n      \"properties\": {\n        \"dtype\": \"string\",\n        \"num_unique_values\": 37119,\n        \"samples\": [\n          \"https://turfirma.spb.ru\",\n          \"https://\\u043c\\u0438\\u043a\\u0430\\u0434\\u043e.\\u0440\\u0444\",\n          \"https://arpharey.com\"\n        ],\n        \"semantic_type\": \"\",\n        \"description\": \"\"\n      }\n    },\n    {\n      \"column\": \"base_category_nm\",\n      \"properties\": {\n        \"dtype\": \"category\",\n        \"num_unique_values\": 45,\n        \"samples\": [\n          \"\\u0425\\u0438\\u043c\\u0447\\u0438\\u0441\\u0442\\u043a\\u0430\",\n          \"\\u041e\\u0442\\u0435\\u043b\\u0438\",\n          \"\\u041f\\u0435\\u0447\\u0430\\u0442\\u044c \\u0438 \\u0441\\u043a\\u0430\\u043d\\u0438\\u0440\\u043e\\u0432\\u0430\\u043d\\u0438\\u0435\"\n        ],\n        \"semantic_type\": \"\",\n        \"description\": \"\"\n      }\n    },\n    {\n      \"column\": \"parsed_text\",\n      \"properties\": {\n        \"dtype\": \"string\",\n        \"num_unique_values\": 34833,\n        \"samples\": [\n          \"\\u0438\\u043d\\u0441\\u0442\\u0440\\u0443\\u043a\\u0442\\u043e\\u0440 \\u043e\\u0431\\u0443\\u0447\\u0435\\u043d\\u0438\\u0435 \\u0430\\u0432\\u0442\\u043e\\u0448\\u043a\\u043e\\u043b\\u0430 \\u043b\\u044e\\u0431\\u043e\\u043f\\u044b\\u0442\\u0441\\u0442\\u0432\\u043e \\u0432\\u043e\\u0436\\u0434\\u0435\\u043d\\u0438\\u0435 \\u043a\\u0443\\u0440\\u0441\\u0430\\u043d\\u0442 \\u0430\\u043b\\u0435\\u043a\\u0441\\u0430\\u043d\\u0434\\u0440\\u043e\\u0432\\u0438\\u0447 \\u0430\\u0432\\u0442\\u043e\\u043b\\u0430\\u0439\\u0444 \\u0430\\u0432\\u0442\\u043e\\u043c\\u043e\\u0431\\u0438\\u043b\\u044c \\u0443\\u043b \\u043f\\u0440\\u0435\\u043f\\u043e\\u0434\\u0430\\u0432\\u0430\\u0442\\u0435\\u043b\\u044c \\u0433\\u043e\\u0440\\u043e\\u0434 \\u044d\\u043a\\u0437\\u0430\\u043c\\u0435\\u043d \\u043a\\u0430\\u0442\\u0435\\u0433\\u043e\\u0440\\u0438\\u044f \\u0442\\u0435\\u043e\\u0440\\u0438\\u044f \\u0441\\u0434\\u0430\\u0447\\u0430 \\u043f\\u043e\\u0434\\u0433\\u043e\\u0442\\u043e\\u0432\\u043a\\u0430 \\u0443\\u0447\\u0435\\u0431\\u043d\\u044b\\u0439 \\u0432\\u0441\\u043f\\u043e\\u043c\\u043d\\u0438\\u0442\\u044c \\u0444\\u043b\\u0435\\u0448\\u0431\\u0435\\u043a \\u0433\\u0435\\u0440\\u043e\\u0439 \\u043b\\u043e\\u0432\\u0438\\u0442\\u044c \\u0444\\u0438\\u043d\\u0430\\u043b \\u0435\\u0434\\u0438\\u043d\\u0441\\u0442\\u0432\\u0435\\u043d\\u043d\\u044b\\u0439 \\u043c\\u043e\\u0442\\u0438\\u0442\\u0432\\u043e \\u043e\\u0434\\u0435\\u0440\\u0436\\u0438\\u043c\\u043e\\u0441\\u0442\\u044c \\u0440\\u0430\\u0441\\u0442\\u0430\\u044f\\u0442\\u044c \\u0432\\u044b\\u0441\\u043e\\u0445\\u043d\\u0443\\u0442\\u044c \\u043b\\u0443\\u0436\\u0430 \\u0436\\u0430\\u0440\\u0430 \\u0444\\u0438\\u043b\\u0438\\u0430\\u043b \\u0443\\u0434\\u043e\\u0431\\u043d\\u044b\\u0439 \\u043f\\u043e\\u043d\\u0438\\u043c\\u0430\\u0442\\u044c \\u0443\\u043c\\u0435\\u0442\\u044c \\u043e\\u0442\\u0437\\u044b\\u0432 \\u043c\\u0430\\u0433\\u043d\\u0438\\u0442\\u043e\\u0433\\u043e\\u0440\\u0441\\u043a \\u0440\\u0430\\u0441\\u0441\\u0440\\u043e\\u0447\\u043a\\u0430 \\u043f\\u043e\\u043c\\u043e\\u0447\\u044c \\u0440\\u0430\\u0431\\u043e\\u0442\\u0430 \\u0430\\u043d\\u043d\\u0430 \\u0434\\u043e\\u0440\\u043e\\u0433\\u0430 \\u043f\\u0440\\u0430\\u0432\\u043e \\u0437\\u0430\\u044f\\u0432\\u043a\\u0430 \\u0440\\u0430\\u0439\\u043e\\u043d \\u043e\\u043f\\u044b\\u0442 \\u0432\\u043e\\u0434\\u0438\\u0442\\u0435\\u043b\\u044c \\u0437\\u0430\\u043d\\u044f\\u0442\\u0438\\u0435 \\u0433\\u0438\\u0431\\u0434\\u0434 \\u0436\\u0443\\u043a\\u043e\\u0432 9\\u0430 \\u0435\\u043a\\u0430\\u0442\\u0435\\u0440\\u0438\\u043d\\u0430 \\u043e\\u043b\\u044c\\u0433\\u0430 \\u0438\\u043d\\u0444\\u043e\\u0440\\u043c\\u0430\\u0446\\u0438\\u044f \\u0430\\u043b\\u0435\\u043a\\u0441\\u0430\\u043d\\u0434\\u0440 \\u0443\\u0447\\u0451\\u043d\\u044b\\u0439 \\u043f\\u0440\\u043e\\u0441\\u043f\\u0430 \\u0430\\u0440\\u0441\\u0435\\u043d\\u0438\\u0439 \\u0444\\u0451\\u0434\\u043e\\u0440\\u043e\\u0432 \\u043e\\u0440\\u0433\\u0430\\u043d\\u0438\\u0437\\u0430\\u0446\\u0438\\u044f \\u0434\\u0438\\u0441\\u0442\\u0430\\u043d\\u0446\\u0438\\u043e\\u043d\\u043d\\u044b\\u0439 \\u0432\\u043e\\u0434\\u0438\\u0442\\u0435\\u043b\\u044c\\u0441\\u043a\\u0438\\u0439\",\n          \"\\u0438\\u043d\\u0444\\u043e\\u0440\\u043c\\u0430\\u0446\\u0438\\u044f \\u043f\\u0435\\u0440\\u0441\\u043e\\u043d\\u0430\\u043b\\u044c\\u043d\\u044b\\u0439 \\u0433\\u0438\\u0431\\u043a\\u0438\\u0439 \\u043a\\u0430\\u043c\\u0435\\u043d\\u044c \\u0438\\u0441\\u043f\\u043e\\u043b\\u044c\\u0437\\u043e\\u0432\\u0430\\u0442\\u044c \\u043a\\u0440\\u0435\\u0434\\u0438\\u0442 \\u043a\\u043e\\u043d\\u0444\\u0438\\u0434\\u0435\\u043d\\u0446\\u0438\\u0430\\u043b\\u044c\\u043d\\u043e\\u0441\\u0442\\u044c \\u043f\\u043e\\u0434\\u0440\\u043e\\u0431\\u043d\\u044b\\u0439 \\u0432\\u043e\\u043f\\u0440\\u043e\\u0441 \\u0434\\u0430\\u043d\\u043d\\u044b\\u0435 \\u0432\\u0440\\u0435\\u043c\\u044f \\u0434\\u0435\\u043a\\u043e\\u0440 \\u043d\\u0430\\u0436\\u0438\\u043c\\u0430\\u0442\\u044c \\u043a\\u043d\\u043e\\u043f\\u043a\\u0430 \\u043e\\u0431\\u0440\\u0430\\u0431\\u043e\\u0442\\u043a\\u0430 \\u0441\\u043e\\u0431\\u043b\\u044e\\u0434\\u0435\\u043d\\u0438\\u0435 \\u0441\\u043e\\u0431\\u0438\\u0440\\u0430\\u0442\\u044c \\u0442\\u0435\\u0440\\u043c\\u043e\\u043f\\u0430\\u043d\\u0435\\u043b\\u044c \\u0444\\u0430\\u0441\\u0430\\u0434\\u043d\\u044b\\u0439 \\u0443\\u043b \\u0443\\u0441\\u043b\\u0443\\u0433\\u0430 \\u043c\\u0430\\u0433\\u0430\\u0437\\u0438\\u043d \\u0431\\u043b\\u0438\\u0437\\u043a\\u0438\\u0439 \\u043b\\u0438\\u0446\\u043e \\u043c\\u0430\\u0442\\u0435\\u0440\\u0438\\u0430\\u043b \\u0432\\u043d\\u0443\\u0442\\u0440\\u0435\\u043d\\u043d\\u0438\\u0439 \\u0442\\u0435\\u043b\\u043e \\u043e\\u0442\\u043f\\u0440\\u0430\\u0432\\u0438\\u0442\\u044c \\u0441\\u0431\\u0435\\u0440\\u0431\\u0430\\u043d\\u043a \\u0437\\u0430\\u044f\\u0432\\u043a\\u0430 \\u0433\\u043e\\u0442\\u043e\\u0432\\u044b\\u0439 \\u0434\\u0430\\u0442\\u044c \\u0434\\u0430\\u043b\\u0435\\u0435 \\u0446\\u0435\\u043b\\u044c \\u0440\\u0430\\u0441\\u043a\\u0440\\u044b\\u0442\\u0438\\u0435 \\u0442\\u0440\\u0435\\u0442\\u0438\\u0439 \\u0441\\u043b\\u0443\\u0447\\u0430\\u0439 \\u0431\\u0435\\u0437\\u043e\\u043f\\u0430\\u0441\\u043d\\u043e\\u0441\\u0442\\u044c \\u0441\\u0442\\u0440\\u043e\\u0438\\u0442\\u0435\\u043b\\u044c\\u043d\\u044b\\u0439 \\u043d\\u0430\\u0442\\u0443\\u0440\\u0430\\u043b\\u044c\\u043d\\u044b\\u0439 \\u043f\\u0435\\u0441\\u0447\\u0430\\u043d\\u0438\\u043a \\u0432\\u043d\\u0435\\u0448\\u043d\\u0438\\u0439 \\u0441\\u043e\\u0432\\u0440\\u0435\\u043c\\u0435\\u043d\\u043d\\u044b\\u0439 \\u0443\\u0441\\u043b\\u043e\\u0432\\u0438\\u0435 \\u0437\\u0430\\u043a\\u0430\\u0437 \\u043d\\u0430\\u043f\\u0440\\u0430\\u0432\\u043b\\u0435\\u043d\\u0438\\u0435 \\u0444\\u0440\\u0435\\u0441\\u043a\\u0430 \\u043f\\u0440\\u0435\\u0434\\u043c\\u0435\\u0442 \\u0438\\u043d\\u0442\\u0435\\u0440\\u044c\\u0435\\u0440 \\u043b\\u044e\\u0431\\u043e\\u0439 \\u043e\\u0441\\u043d\\u043e\\u0432\\u043d\\u043e\\u0439 \\u043a\\u0440\\u0430\\u0441\\u043d\\u043e\\u044f\\u0440\\u0441\\u043a\\u0438\\u0439 \\u043a\\u0440\\u0430\\u0439 \\u0436\\u0435\\u043b\\u0435\\u0437\\u043d\\u043e\\u0433\\u043e\\u0440\\u0441\\u043a \\u043f\\u0440\\u0438\\u0432\\u043e\\u043a\\u0437\\u0430\\u043b\\u044c\\u043d\\u044b\\u0439 26\\u0434 gikam24 yandex \\u043e\\u043d\\u043b\\u0430\\u0439\\u043d\",\n          \"\\u043c\\u0435\\u0431\\u0435\\u043b\\u044c \\u0431\\u0435\\u0441\\u043a\\u0430\\u0440\\u043a\\u0430\\u0441\\u043d\\u044b\\u0439 \\u0442\\u043a\\u0430\\u043d\\u044c \\u0448\\u0430\\u0433 \\u043f\\u0440\\u043e\\u0438\\u0437\\u0432\\u043e\\u0434\\u0441\\u0442\\u0432\\u043e \\u0434\\u0438\\u0432\\u0430\\u043d \\u043c\\u043e\\u0434\\u0435\\u043b\\u044c \\u043a\\u0430\\u0442\\u0430\\u043b\\u043e\\u0433 togos \\u043a\\u0440\\u0435\\u0441\\u043b\\u043e \\u043f\\u043e\\u0434\\u0440\\u043e\\u0431\\u043d\\u044b\\u0439 \\u0438\\u0437\\u0434\\u0435\\u043b\\u0438\\u0435 \\u043b\\u044e\\u0431\\u043e\\u0439 \\u0437\\u0430\\u044f\\u0432\\u043a\\u0430 \\u043f\\u0443\\u0444 \\u043f\\u043f\\u0443 \\u043b\\u0438\\u043d\\u0435\\u0439\\u043a\\u0430 \\u0432\\u0435\\u0441 onesta factory desing \\u0432\\u044b\\u0431\\u0440\\u0430\\u0442\\u044c \\u044d\\u0441\\u0442\\u0435\\u0442\\u0438\\u0447\\u043d\\u044b\\u0439 \\u043e\\u0441\\u043d\\u043e\\u0432\\u0430 \\u0438\\u043d\\u0442\\u0435\\u0440\\u044c\\u0435\\u0440 \\u0441\\u043e\\u0437\\u0434\\u0430\\u0432\\u0430\\u0442\\u044c \\u044d\\u0441\\u0442\\u0435\\u0442\\u0438\\u043a\\u0430 \\u0441\\u0430\\u043c \\u043f\\u043e\\u0437\\u0432\\u043e\\u043b\\u044f\\u0442\\u044c \\u0434\\u0440\\u0443\\u0433 \\u0445\\u043e\\u0440\\u043e\\u0448\\u0438\\u0439 \\u0432\\u044b\\u0431\\u0438\\u0440\\u0430\\u0442\\u044c \\u043e\\u0442\\u043f\\u0440\\u0430\\u0432\\u043b\\u044f\\u0442\\u044c \\u0438\\u0434\\u0435\\u0430\\u043b\\u044c\\u043d\\u043e \\u0444\\u043e\\u0440\\u043c\\u0430 \\u0431\\u043b\\u0430\\u0433\\u043e\\u0434\\u0430\\u0440\\u044f \\u043a\\u0433 \\u0431\\u0435\\u0437\\u043e\\u043f\\u0430\\u0441\\u043d\\u044b\\u0439 \\u0440\\u0435\\u0431\\u0451\\u043d\\u043e\\u043a \\u0441\\u0442\\u043e\\u0438\\u043c\\u043e\\u0441\\u0442\\u044c \\u0437\\u0430\\u043a\\u0430\\u0437 \\u0433\\u043e\\u0442\\u043e\\u0432\\u044b\\u0439 \\u0446\\u0435\\u043d\\u0442\\u0440 \\u0441\\u0438\\u0431\\u0438\\u0440\\u044c \\u0443\\u0434\\u043e\\u0431\\u043d\\u044b\\u0439 \\u043e\\u0441\\u0442\\u0430\\u0432\\u043b\\u044f\\u0442\\u044c \\u044d\\u043b\\u0435\\u043c\\u0435\\u043d\\u0442 \\u0443\\u0433\\u043e\\u043b \\u0432\\u0430\\u0440\\u0438\\u0430\\u043d\\u0442 \\u043a\\u043e\\u043c\\u0444\\u043e\\u0440\\u0442\\u043d\\u044b\\u0439 \\u043a\\u0430\\u0442\\u0435\\u0433\\u043e\\u0440\\u0438\\u044f \\u0442\\u0435\\u0447\\u0435\\u043d\\u0438\\u0435 \\u043e\\u043f\\u043b\\u0430\\u0447\\u0438\\u0432\\u0430\\u0442\\u044c \\u043f\\u043e\\u043b\\u043e\\u0432\\u0438\\u043d\\u0430 \\u0432\\u043e\\u043f\\u0440\\u043e\\u0441 \\u043d\\u0430\\u043f\\u0438\\u0441\\u0430\\u0442\\u044c \\u043c\\u0435\\u0441\\u0441\\u0435\\u0434\\u0436\\u0435\\u0440 \\u0438\\u0437\\u0433\\u043e\\u0442\\u043e\\u0432\\u043b\\u0435\\u043d\\u0438\\u0435 \\u0434\\u043e\\u043b\\u0433\\u043e\\u0432\\u0435\\u0447\\u043d\\u044b\\u0439 \\u0433\\u0430\\u0440\\u0430\\u043d\\u0442\\u0438\\u044f \\u0447\\u0435\\u043b\\u043e\\u0432\\u0435\\u043a \\u043d\\u0435\\u0440\\u0430\\u0432\\u043d\\u043e\\u0434\\u0443\\u0448\\u043d\\u044b\\u0439 \\u043c\\u0430\\u0441\\u0442\\u0435\\u0440\"\n        ],\n        \"semantic_type\": \"\",\n        \"description\": \"\"\n      }\n    }\n  ]\n}"
            }
          },
          "metadata": {},
          "execution_count": 5
        }
      ]
    },
    {
      "cell_type": "code",
      "source": [
        "lol = []\n",
        "for i in range(data.shape[0]):\n",
        "    if data.loc[i, 'parsed_text'].find('Страница входа Восстановить Зарегистрироваться') != -1:\n",
        "        lol.append(i)\n",
        "print(lol)"
      ],
      "metadata": {
        "execution": {
          "iopub.status.busy": "2024-05-10T17:47:59.680266Z",
          "iopub.execute_input": "2024-05-10T17:47:59.680686Z",
          "iopub.status.idle": "2024-05-10T17:48:00.361911Z",
          "shell.execute_reply.started": "2024-05-10T17:47:59.680649Z",
          "shell.execute_reply": "2024-05-10T17:48:00.360873Z"
        },
        "trusted": true,
        "colab": {
          "base_uri": "https://localhost:8080/"
        },
        "id": "oYVNmL7Lme9D",
        "outputId": "88273e7c-dc08-4213-f8cc-196235844c06"
      },
      "execution_count": 6,
      "outputs": [
        {
          "output_type": "stream",
          "name": "stdout",
          "text": [
            "[87, 133, 230, 568, 785, 795, 1075, 1216, 1361, 1365, 1638, 1658, 1953, 2061, 2301, 2360, 2519, 2696, 3162, 3186, 3236, 3376, 4330, 4577, 4680, 4882, 4923, 5079, 5173, 5225, 5266, 5303, 5626, 5694, 5740, 5994, 6067, 6232, 6233, 6513, 7210, 7651, 8013, 8041, 8059, 8097, 8101, 8434, 8509, 8552, 8902, 8934, 9094, 9133, 9184, 9369, 9453, 9464, 9575, 9621, 9775, 9864, 9865, 10375, 10425, 10538, 10663, 10711, 10768, 10857, 10868, 11489, 11538, 11568, 11701, 11784, 11919, 12251, 12295, 12320, 12511, 12554, 12644, 12837, 13174, 13203, 13378, 14085, 14376, 14405, 14552, 14719, 15068, 15206, 15251, 15270, 15815, 15959, 15994, 16377, 16435, 16849, 16947, 16999, 17426, 17707, 17779, 17808, 18204, 18273, 18602, 18758, 18821, 18994, 19279, 19609, 19975, 20083, 20227, 20418, 20435, 20563, 20685, 20802, 21165, 21229, 21464, 21499, 21527, 21532, 21586, 21646, 21903, 22078, 22088, 22259, 22965, 22974, 23037, 23105, 23189, 23193, 23372, 23799, 23825, 23978, 24151, 24270, 24292, 24900, 24908, 25125, 25216, 25486, 25707, 25902, 26122, 26164, 26218, 26273, 26278, 26345, 26625, 26728, 26756, 26840, 26999, 27054, 27137, 27229, 27308, 27759, 28005, 28505, 28702, 28713, 28756, 29001, 29050, 29252, 29518, 29548, 29690, 29918, 30014, 30044, 30155, 30286, 30373, 30646, 30719, 30777, 30865, 31209, 31728, 31813, 31964, 31974, 32074, 32143, 32209, 32386, 32500, 32517, 32773, 32790, 32812, 32866, 33007, 33321, 33503, 33941, 34374, 34416, 34466, 34624, 34945, 35064, 35486, 35692, 35884, 36091, 36255, 36386, 36687, 36701, 36935, 36941]\n"
          ]
        }
      ]
    },
    {
      "cell_type": "code",
      "source": [
        "data.loc[lol, :]"
      ],
      "metadata": {
        "execution": {
          "iopub.status.busy": "2024-05-07T20:54:14.648880Z",
          "iopub.execute_input": "2024-05-07T20:54:14.649278Z",
          "iopub.status.idle": "2024-05-07T20:54:14.668827Z",
          "shell.execute_reply.started": "2024-05-07T20:54:14.649239Z",
          "shell.execute_reply": "2024-05-07T20:54:14.667420Z"
        },
        "trusted": true,
        "colab": {
          "base_uri": "https://localhost:8080/",
          "height": 423
        },
        "id": "2w07i1tome9D",
        "outputId": "b6c518af-f32f-414d-cf66-1e2f13bc4681"
      },
      "execution_count": 7,
      "outputs": [
        {
          "output_type": "execute_result",
          "data": {
            "text/plain": [
              "                                    url base_category_nm  \\\n",
              "87                 https://lk.masha.fit      Образование   \n",
              "133             https://course.kaina.ru      Образование   \n",
              "230        https://kurs.speechka.online      Образование   \n",
              "568               https://dociureva.com      Образование   \n",
              "785    https://kurs.smolyaninovablog.ru      Образование   \n",
              "...                                 ...              ...   \n",
              "36386               https://turkeeva.ru      Образование   \n",
              "36687              https://kidspravo.ru  Цифровые услуги   \n",
              "36701      https://tatiananovinskaya.ru      Образование   \n",
              "36935               https://larina-m.ru      Образование   \n",
              "36941      https://school.sandanova.com      Образование   \n",
              "\n",
              "                                             parsed_text  \n",
              "87     Страница входа Восстановить Зарегистрироваться...  \n",
              "133    Страница входа Восстановить Зарегистрироваться...  \n",
              "230    Страница входа Восстановить Зарегистрироваться...  \n",
              "568    Страница входа Восстановить Зарегистрироваться...  \n",
              "785    Страница входа Восстановить Зарегистрироваться...  \n",
              "...                                                  ...  \n",
              "36386  Страница входа Восстановить Зарегистрироваться...  \n",
              "36687  Страница входа Восстановить Зарегистрироваться...  \n",
              "36701  Страница входа Восстановить Зарегистрироваться...  \n",
              "36935  Страница входа Восстановить Зарегистрироваться...  \n",
              "36941  Страница входа Восстановить Зарегистрироваться...  \n",
              "\n",
              "[228 rows x 3 columns]"
            ],
            "text/html": [
              "\n",
              "  <div id=\"df-c4358cf1-a3d6-4342-863d-d79d39fe4ddf\" class=\"colab-df-container\">\n",
              "    <div>\n",
              "<style scoped>\n",
              "    .dataframe tbody tr th:only-of-type {\n",
              "        vertical-align: middle;\n",
              "    }\n",
              "\n",
              "    .dataframe tbody tr th {\n",
              "        vertical-align: top;\n",
              "    }\n",
              "\n",
              "    .dataframe thead th {\n",
              "        text-align: right;\n",
              "    }\n",
              "</style>\n",
              "<table border=\"1\" class=\"dataframe\">\n",
              "  <thead>\n",
              "    <tr style=\"text-align: right;\">\n",
              "      <th></th>\n",
              "      <th>url</th>\n",
              "      <th>base_category_nm</th>\n",
              "      <th>parsed_text</th>\n",
              "    </tr>\n",
              "  </thead>\n",
              "  <tbody>\n",
              "    <tr>\n",
              "      <th>87</th>\n",
              "      <td>https://lk.masha.fit</td>\n",
              "      <td>Образование</td>\n",
              "      <td>Страница входа Восстановить Зарегистрироваться...</td>\n",
              "    </tr>\n",
              "    <tr>\n",
              "      <th>133</th>\n",
              "      <td>https://course.kaina.ru</td>\n",
              "      <td>Образование</td>\n",
              "      <td>Страница входа Восстановить Зарегистрироваться...</td>\n",
              "    </tr>\n",
              "    <tr>\n",
              "      <th>230</th>\n",
              "      <td>https://kurs.speechka.online</td>\n",
              "      <td>Образование</td>\n",
              "      <td>Страница входа Восстановить Зарегистрироваться...</td>\n",
              "    </tr>\n",
              "    <tr>\n",
              "      <th>568</th>\n",
              "      <td>https://dociureva.com</td>\n",
              "      <td>Образование</td>\n",
              "      <td>Страница входа Восстановить Зарегистрироваться...</td>\n",
              "    </tr>\n",
              "    <tr>\n",
              "      <th>785</th>\n",
              "      <td>https://kurs.smolyaninovablog.ru</td>\n",
              "      <td>Образование</td>\n",
              "      <td>Страница входа Восстановить Зарегистрироваться...</td>\n",
              "    </tr>\n",
              "    <tr>\n",
              "      <th>...</th>\n",
              "      <td>...</td>\n",
              "      <td>...</td>\n",
              "      <td>...</td>\n",
              "    </tr>\n",
              "    <tr>\n",
              "      <th>36386</th>\n",
              "      <td>https://turkeeva.ru</td>\n",
              "      <td>Образование</td>\n",
              "      <td>Страница входа Восстановить Зарегистрироваться...</td>\n",
              "    </tr>\n",
              "    <tr>\n",
              "      <th>36687</th>\n",
              "      <td>https://kidspravo.ru</td>\n",
              "      <td>Цифровые услуги</td>\n",
              "      <td>Страница входа Восстановить Зарегистрироваться...</td>\n",
              "    </tr>\n",
              "    <tr>\n",
              "      <th>36701</th>\n",
              "      <td>https://tatiananovinskaya.ru</td>\n",
              "      <td>Образование</td>\n",
              "      <td>Страница входа Восстановить Зарегистрироваться...</td>\n",
              "    </tr>\n",
              "    <tr>\n",
              "      <th>36935</th>\n",
              "      <td>https://larina-m.ru</td>\n",
              "      <td>Образование</td>\n",
              "      <td>Страница входа Восстановить Зарегистрироваться...</td>\n",
              "    </tr>\n",
              "    <tr>\n",
              "      <th>36941</th>\n",
              "      <td>https://school.sandanova.com</td>\n",
              "      <td>Образование</td>\n",
              "      <td>Страница входа Восстановить Зарегистрироваться...</td>\n",
              "    </tr>\n",
              "  </tbody>\n",
              "</table>\n",
              "<p>228 rows × 3 columns</p>\n",
              "</div>\n",
              "    <div class=\"colab-df-buttons\">\n",
              "\n",
              "  <div class=\"colab-df-container\">\n",
              "    <button class=\"colab-df-convert\" onclick=\"convertToInteractive('df-c4358cf1-a3d6-4342-863d-d79d39fe4ddf')\"\n",
              "            title=\"Convert this dataframe to an interactive table.\"\n",
              "            style=\"display:none;\">\n",
              "\n",
              "  <svg xmlns=\"http://www.w3.org/2000/svg\" height=\"24px\" viewBox=\"0 -960 960 960\">\n",
              "    <path d=\"M120-120v-720h720v720H120Zm60-500h600v-160H180v160Zm220 220h160v-160H400v160Zm0 220h160v-160H400v160ZM180-400h160v-160H180v160Zm440 0h160v-160H620v160ZM180-180h160v-160H180v160Zm440 0h160v-160H620v160Z\"/>\n",
              "  </svg>\n",
              "    </button>\n",
              "\n",
              "  <style>\n",
              "    .colab-df-container {\n",
              "      display:flex;\n",
              "      gap: 12px;\n",
              "    }\n",
              "\n",
              "    .colab-df-convert {\n",
              "      background-color: #E8F0FE;\n",
              "      border: none;\n",
              "      border-radius: 50%;\n",
              "      cursor: pointer;\n",
              "      display: none;\n",
              "      fill: #1967D2;\n",
              "      height: 32px;\n",
              "      padding: 0 0 0 0;\n",
              "      width: 32px;\n",
              "    }\n",
              "\n",
              "    .colab-df-convert:hover {\n",
              "      background-color: #E2EBFA;\n",
              "      box-shadow: 0px 1px 2px rgba(60, 64, 67, 0.3), 0px 1px 3px 1px rgba(60, 64, 67, 0.15);\n",
              "      fill: #174EA6;\n",
              "    }\n",
              "\n",
              "    .colab-df-buttons div {\n",
              "      margin-bottom: 4px;\n",
              "    }\n",
              "\n",
              "    [theme=dark] .colab-df-convert {\n",
              "      background-color: #3B4455;\n",
              "      fill: #D2E3FC;\n",
              "    }\n",
              "\n",
              "    [theme=dark] .colab-df-convert:hover {\n",
              "      background-color: #434B5C;\n",
              "      box-shadow: 0px 1px 3px 1px rgba(0, 0, 0, 0.15);\n",
              "      filter: drop-shadow(0px 1px 2px rgba(0, 0, 0, 0.3));\n",
              "      fill: #FFFFFF;\n",
              "    }\n",
              "  </style>\n",
              "\n",
              "    <script>\n",
              "      const buttonEl =\n",
              "        document.querySelector('#df-c4358cf1-a3d6-4342-863d-d79d39fe4ddf button.colab-df-convert');\n",
              "      buttonEl.style.display =\n",
              "        google.colab.kernel.accessAllowed ? 'block' : 'none';\n",
              "\n",
              "      async function convertToInteractive(key) {\n",
              "        const element = document.querySelector('#df-c4358cf1-a3d6-4342-863d-d79d39fe4ddf');\n",
              "        const dataTable =\n",
              "          await google.colab.kernel.invokeFunction('convertToInteractive',\n",
              "                                                    [key], {});\n",
              "        if (!dataTable) return;\n",
              "\n",
              "        const docLinkHtml = 'Like what you see? Visit the ' +\n",
              "          '<a target=\"_blank\" href=https://colab.research.google.com/notebooks/data_table.ipynb>data table notebook</a>'\n",
              "          + ' to learn more about interactive tables.';\n",
              "        element.innerHTML = '';\n",
              "        dataTable['output_type'] = 'display_data';\n",
              "        await google.colab.output.renderOutput(dataTable, element);\n",
              "        const docLink = document.createElement('div');\n",
              "        docLink.innerHTML = docLinkHtml;\n",
              "        element.appendChild(docLink);\n",
              "      }\n",
              "    </script>\n",
              "  </div>\n",
              "\n",
              "\n",
              "<div id=\"df-cf53b4a5-08b3-4cf0-96ee-0adfe7b41b8a\">\n",
              "  <button class=\"colab-df-quickchart\" onclick=\"quickchart('df-cf53b4a5-08b3-4cf0-96ee-0adfe7b41b8a')\"\n",
              "            title=\"Suggest charts\"\n",
              "            style=\"display:none;\">\n",
              "\n",
              "<svg xmlns=\"http://www.w3.org/2000/svg\" height=\"24px\"viewBox=\"0 0 24 24\"\n",
              "     width=\"24px\">\n",
              "    <g>\n",
              "        <path d=\"M19 3H5c-1.1 0-2 .9-2 2v14c0 1.1.9 2 2 2h14c1.1 0 2-.9 2-2V5c0-1.1-.9-2-2-2zM9 17H7v-7h2v7zm4 0h-2V7h2v10zm4 0h-2v-4h2v4z\"/>\n",
              "    </g>\n",
              "</svg>\n",
              "  </button>\n",
              "\n",
              "<style>\n",
              "  .colab-df-quickchart {\n",
              "      --bg-color: #E8F0FE;\n",
              "      --fill-color: #1967D2;\n",
              "      --hover-bg-color: #E2EBFA;\n",
              "      --hover-fill-color: #174EA6;\n",
              "      --disabled-fill-color: #AAA;\n",
              "      --disabled-bg-color: #DDD;\n",
              "  }\n",
              "\n",
              "  [theme=dark] .colab-df-quickchart {\n",
              "      --bg-color: #3B4455;\n",
              "      --fill-color: #D2E3FC;\n",
              "      --hover-bg-color: #434B5C;\n",
              "      --hover-fill-color: #FFFFFF;\n",
              "      --disabled-bg-color: #3B4455;\n",
              "      --disabled-fill-color: #666;\n",
              "  }\n",
              "\n",
              "  .colab-df-quickchart {\n",
              "    background-color: var(--bg-color);\n",
              "    border: none;\n",
              "    border-radius: 50%;\n",
              "    cursor: pointer;\n",
              "    display: none;\n",
              "    fill: var(--fill-color);\n",
              "    height: 32px;\n",
              "    padding: 0;\n",
              "    width: 32px;\n",
              "  }\n",
              "\n",
              "  .colab-df-quickchart:hover {\n",
              "    background-color: var(--hover-bg-color);\n",
              "    box-shadow: 0 1px 2px rgba(60, 64, 67, 0.3), 0 1px 3px 1px rgba(60, 64, 67, 0.15);\n",
              "    fill: var(--button-hover-fill-color);\n",
              "  }\n",
              "\n",
              "  .colab-df-quickchart-complete:disabled,\n",
              "  .colab-df-quickchart-complete:disabled:hover {\n",
              "    background-color: var(--disabled-bg-color);\n",
              "    fill: var(--disabled-fill-color);\n",
              "    box-shadow: none;\n",
              "  }\n",
              "\n",
              "  .colab-df-spinner {\n",
              "    border: 2px solid var(--fill-color);\n",
              "    border-color: transparent;\n",
              "    border-bottom-color: var(--fill-color);\n",
              "    animation:\n",
              "      spin 1s steps(1) infinite;\n",
              "  }\n",
              "\n",
              "  @keyframes spin {\n",
              "    0% {\n",
              "      border-color: transparent;\n",
              "      border-bottom-color: var(--fill-color);\n",
              "      border-left-color: var(--fill-color);\n",
              "    }\n",
              "    20% {\n",
              "      border-color: transparent;\n",
              "      border-left-color: var(--fill-color);\n",
              "      border-top-color: var(--fill-color);\n",
              "    }\n",
              "    30% {\n",
              "      border-color: transparent;\n",
              "      border-left-color: var(--fill-color);\n",
              "      border-top-color: var(--fill-color);\n",
              "      border-right-color: var(--fill-color);\n",
              "    }\n",
              "    40% {\n",
              "      border-color: transparent;\n",
              "      border-right-color: var(--fill-color);\n",
              "      border-top-color: var(--fill-color);\n",
              "    }\n",
              "    60% {\n",
              "      border-color: transparent;\n",
              "      border-right-color: var(--fill-color);\n",
              "    }\n",
              "    80% {\n",
              "      border-color: transparent;\n",
              "      border-right-color: var(--fill-color);\n",
              "      border-bottom-color: var(--fill-color);\n",
              "    }\n",
              "    90% {\n",
              "      border-color: transparent;\n",
              "      border-bottom-color: var(--fill-color);\n",
              "    }\n",
              "  }\n",
              "</style>\n",
              "\n",
              "  <script>\n",
              "    async function quickchart(key) {\n",
              "      const quickchartButtonEl =\n",
              "        document.querySelector('#' + key + ' button');\n",
              "      quickchartButtonEl.disabled = true;  // To prevent multiple clicks.\n",
              "      quickchartButtonEl.classList.add('colab-df-spinner');\n",
              "      try {\n",
              "        const charts = await google.colab.kernel.invokeFunction(\n",
              "            'suggestCharts', [key], {});\n",
              "      } catch (error) {\n",
              "        console.error('Error during call to suggestCharts:', error);\n",
              "      }\n",
              "      quickchartButtonEl.classList.remove('colab-df-spinner');\n",
              "      quickchartButtonEl.classList.add('colab-df-quickchart-complete');\n",
              "    }\n",
              "    (() => {\n",
              "      let quickchartButtonEl =\n",
              "        document.querySelector('#df-cf53b4a5-08b3-4cf0-96ee-0adfe7b41b8a button');\n",
              "      quickchartButtonEl.style.display =\n",
              "        google.colab.kernel.accessAllowed ? 'block' : 'none';\n",
              "    })();\n",
              "  </script>\n",
              "</div>\n",
              "    </div>\n",
              "  </div>\n"
            ],
            "application/vnd.google.colaboratory.intrinsic+json": {
              "type": "dataframe",
              "summary": "{\n  \"name\": \"data\",\n  \"rows\": 228,\n  \"fields\": [\n    {\n      \"column\": \"url\",\n      \"properties\": {\n        \"dtype\": \"string\",\n        \"num_unique_values\": 228,\n        \"samples\": [\n          \"https://course.isladosti.ru\",\n          \"https://gc.zavadskaya.online\",\n          \"https://roomyanacourse.ru\"\n        ],\n        \"semantic_type\": \"\",\n        \"description\": \"\"\n      }\n    },\n    {\n      \"column\": \"base_category_nm\",\n      \"properties\": {\n        \"dtype\": \"category\",\n        \"num_unique_values\": 5,\n        \"samples\": [\n          \"\\u0420\\u0430\\u0437\\u0432\\u043b\\u0435\\u0447\\u0435\\u043d\\u0438\\u044f\",\n          \"\\u0426\\u0438\\u0444\\u0440\\u043e\\u0432\\u044b\\u0435 \\u0443\\u0441\\u043b\\u0443\\u0433\\u0438\",\n          \"\\u0420\\u0443\\u043a\\u043e\\u0434\\u0435\\u043b\\u0438\\u0435 \\u0438 \\u0442\\u0432\\u043e\\u0440\\u0447\\u0435\\u0441\\u0442\\u0432\\u043e\"\n        ],\n        \"semantic_type\": \"\",\n        \"description\": \"\"\n      }\n    },\n    {\n      \"column\": \"parsed_text\",\n      \"properties\": {\n        \"dtype\": \"category\",\n        \"num_unique_values\": 38,\n        \"samples\": [\n          \"\\u0421\\u0442\\u0440\\u0430\\u043d\\u0438\\u0446\\u0430 \\u0432\\u0445\\u043e\\u0434\\u0430 \\u0412\\u043e\\u0441\\u0441\\u0442\\u0430\\u043d\\u043e\\u0432\\u0438\\u0442\\u044c \\u0417\\u0430\\u0440\\u0435\\u0433\\u0438\\u0441\\u0442\\u0440\\u0438\\u0440\\u043e\\u0432\\u0430\\u0442\\u044c\\u0441\\u044f \\u0417\\u0434\\u0440\\u0430\\u0432\\u0441\\u0442\\u0432\\u0443\\u0439\\u0442\\u0435 \\u0430\\u0432\\u0442\\u043e\\u0440\\u0438\\u0437\\u043e\\u0432\\u0430\\u043d\\u044b \\u0432 \\u044d\\u0442\\u043e\\u043c \\u0430\\u043a\\u043a\\u0430\\u0443\\u043d\\u0442\\u0435 \\u0432 \\u0430\\u043a\\u043a\\u0430\\u0443\\u043d\\u0442 \\u0421\\u043c\\u0435\\u043d\\u0438\\u0442\\u044c \\u043f\\u043e\\u043b\\u044c\\u0437\\u043e\\u0432\\u0430\\u0442\\u0435\\u043b\\u044f \\u0415\\u0441\\u043b\\u0438 \\u0437\\u0430\\u0431\\u044b\\u043b\\u0438 \\u041d\\u0430\\u0436\\u043c\\u0438\\u0442\\u0435 \\u043d\\u0430 \\u043a\\u043d\\u043e\\u043f\\u043a\\u0443 \\u0412\\u043e\\u0441\\u0441\\u0442\\u0430\\u043d\\u043e\\u0432\\u0438\\u0442\\u044c \\u0412 \\u043e\\u0442\\u043a\\u0440\\u044b\\u0432\\u0448\\u0435\\u043c\\u0441\\u044f \\u043e\\u043a\\u043d\\u0435 \\u0432\\u0432\\u0435\\u0434\\u0438\\u0442\\u0435 \\u043f\\u043e\\u0447\\u0442\\u0443 \\u0441 \\u043a\\u043e\\u0442\\u043e\\u0440\\u043e\\u0439 \\u0440\\u0435\\u0433\\u0438\\u0441\\u0442\\u0442\\u0440\\u0438\\u0440\\u043e\\u0432\\u0430\\u043b\\u0438\\u0441\\u044c \\u0432 \\u0441\\u0438\\u0441\\u0442\\u0435\\u043c\\u0435 \\u041d\\u0430 \\u043d\\u0435\\u0435 \\u043f\\u0440\\u0438\\u0434\\u0435\\u0442 \\u0441\\u0441\\u044b\\u043b\\u043a\\u0430 \\u0434\\u043b\\u044f \\u0432\\u0445\\u043e\\u0434\\u0430 \\u043f\\u0435\\u0440\\u0435\\u0439\\u0434\\u0438\\u0442\\u0435 \\u043f\\u043e \\u043d\\u0435\\u0439 \\u0432 \\u0430\\u043a\\u043a\\u0430\\u0443\\u043d\\u0442 \\u0412 \\u0430\\u043a\\u043a\\u0430\\u0443\\u043d\\u0442\\u0435 \\u0437\\u0430\\u0439\\u0434\\u0438\\u0442\\u0435 \\u0432 \\u0440\\u0430\\u0437\\u0434\\u0435\\u043b \\u041f\\u0440\\u043e\\u0444\\u0438\\u043b\\u044c \\u0423\\u0441\\u0442\\u0430\\u043d\\u043e\\u0432\\u0438\\u0442\\u0435 \\u0442\\u0430\\u043c \\u043d\\u043e\\u0432\\u044b\\u0439 \\u041e\\u0431\\u0440\\u0430\\u0442\\u043d\\u0430\\u044f \\u0441\\u0432\\u044f\\u0437\\u044c\",\n          \"\\u0421\\u0442\\u0440\\u0430\\u043d\\u0438\\u0446\\u0430 \\u0432\\u0445\\u043e\\u0434\\u0430 \\u0412\\u043e\\u0441\\u0441\\u0442\\u0430\\u043d\\u043e\\u0432\\u0438\\u0442\\u044c \\u0417\\u0430\\u0440\\u0435\\u0433\\u0438\\u0441\\u0442\\u0440\\u0438\\u0440\\u043e\\u0432\\u0430\\u0442\\u044c\\u0441\\u044f \\u0417\\u0434\\u0440\\u0430\\u0432\\u0441\\u0442\\u0432\\u0443\\u0439\\u0442\\u0435 \\u0430\\u0432\\u0442\\u043e\\u0440\\u0438\\u0437\\u043e\\u0432\\u0430\\u043d\\u044b \\u0432 \\u044d\\u0442\\u043e\\u043c \\u0430\\u043a\\u043a\\u0430\\u0443\\u043d\\u0442\\u0435 \\u0432 \\u0430\\u043a\\u043a\\u0430\\u0443\\u043d\\u0442 \\u0421\\u043c\\u0435\\u043d\\u0438\\u0442\\u044c \\u043f\\u043e\\u043b\\u044c\\u0437\\u043e\\u0432\\u0430\\u0442\\u0435\\u043b\\u044f \\u0415\\u0441\\u043b\\u0438 \\u0440\\u0435\\u0433\\u0438\\u0441\\u0442\\u0440\\u0438\\u0440\\u043e\\u0432\\u0430\\u043b\\u0438\\u0441\\u044c \\u0440\\u0430\\u043d\\u0435\\u0435 \\u043d\\u043e \\u0437\\u0430\\u0431\\u044b\\u043b\\u0438 \\u0432\\u043e\\u0441\\u0441\\u0442\\u0430\\u043d\\u043e\\u0432\\u0438\\u0442\\u0435 \\u0435\\u0433\\u043e \\u0432\\u044b\\u043f\\u043e\\u043b\\u043d\\u0438\\u0432 \\u0441\\u043b\\u0435\\u0434\\u0443\\u044e\\u0449\\u0438\\u0435 \\u0448\\u0430\\u0433\\u0438 \\u041d\\u0430\\u0436\\u043c\\u0438\\u0442\\u0435 \\u0412\\u043e\\u0441\\u0441\\u0442\\u0430\\u043d\\u043e\\u0432\\u0438\\u0442\\u044c \\u0412 \\u043e\\u0442\\u043a\\u0440\\u044b\\u0432\\u0448\\u0435\\u043c\\u0441\\u044f \\u043e\\u043a\\u043d\\u0435 \\u0432\\u0432\\u0435\\u0434\\u0438\\u0442\\u0435 \\u043f\\u043e\\u0447\\u0442\\u0443 \\u043a\\u043e\\u0442\\u043e\\u0440\\u0443\\u044e \\u0440\\u0435\\u0433\\u0438\\u0441\\u0442\\u0440\\u0438\\u0440\\u043e\\u0432\\u0430\\u043b\\u0438 \\u0440\\u0430\\u043d\\u0435\\u0435 \\u041d\\u0430 \\u044d\\u0442\\u0443 \\u043f\\u043e\\u0447\\u0442\\u0443 \\u043f\\u043e\\u043b\\u0443\\u0447\\u0438\\u0442\\u0435 \\u0441\\u0441\\u044b\\u043b\\u043a\\u0443 \\u0434\\u043b\\u044f \\u0441\\u043c\\u0435\\u043d\\u044b \\u043f\\u0430\\u0440\\u043e\\u043b\\u044f \\u041f\\u0435\\u0440\\u0435\\u0439\\u0434\\u0438\\u0442\\u0435 \\u043f\\u043e \\u0441\\u0441\\u044b\\u043b\\u043a\\u0435 \\u0412\\u0432\\u0435\\u0434\\u0438\\u0442\\u0435 \\u043d\\u043e\\u0432\\u044b\\u0439 \\u0438 \\u043d\\u0430\\u0436\\u043c\\u0438\\u0442\\u0435 \\u0421\\u043e\\u0445\\u0440\\u0430\\u043d\\u0438\\u0442\\u044c \\u041e\\u0431\\u0440\\u0430\\u0442\\u043d\\u0430\\u044f \\u0441\\u0432\\u044f\\u0437\\u044c\",\n          \"\\u0421\\u0442\\u0440\\u0430\\u043d\\u0438\\u0446\\u0430 \\u0432\\u0445\\u043e\\u0434\\u0430 \\u0412\\u043e\\u0441\\u0441\\u0442\\u0430\\u043d\\u043e\\u0432\\u0438\\u0442\\u044c \\u0417\\u0430\\u0440\\u0435\\u0433\\u0438\\u0441\\u0442\\u0440\\u0438\\u0440\\u043e\\u0432\\u0430\\u0442\\u044c\\u0441\\u044f \\u0417\\u0434\\u0440\\u0430\\u0432\\u0441\\u0442\\u0432\\u0443\\u0439\\u0442\\u0435 \\u0430\\u0432\\u0442\\u043e\\u0440\\u0438\\u0437\\u043e\\u0432\\u0430\\u043d\\u044b \\u0432 \\u044d\\u0442\\u043e\\u043c \\u0430\\u043a\\u043a\\u0430\\u0443\\u043d\\u0442\\u0435 \\u0432 \\u0430\\u043a\\u043a\\u0430\\u0443\\u043d\\u0442 \\u0421\\u043c\\u0435\\u043d\\u0438\\u0442\\u044c \\u043f\\u043e\\u043b\\u044c\\u0437\\u043e\\u0432\\u0430\\u0442\\u0435\\u043b\\u044f \\u041e\\u0431\\u0440\\u0430\\u0442\\u043d\\u0430\\u044f \\u0441\\u0432\\u044f\\u0437\\u044c \\u0415\\u0441\\u043b\\u0438 \\u043d\\u0435 \\u043f\\u043e\\u043c\\u043d\\u0438\\u0442\\u0435 \\u043d\\u0435\\u043e\\u0431\\u0445\\u043e\\u0434\\u0438\\u043c\\u043e \\u043d\\u0430\\u0436\\u0430\\u0442\\u044c \\u043d\\u0430 \\u0412\\u043e\\u0441\\u0441\\u0442\\u0430\\u043d\\u043e\\u0432\\u0438\\u0442\\u044c \\u043d\\u043e\\u0432\\u044b\\u0439 \\u043f\\u0440\\u0438\\u0434\\u0435\\u0442 \\u043d\\u0430 \\u044d\\u043b \\u0443\\u043a\\u0430\\u0437\\u044b\\u0432\\u0430\\u043b\\u0438 \\u043f\\u0440\\u0438 \\u043e\\u043f\\u043b\\u0430\\u0442\\u0435 \\u041f\\u0440\\u043e\\u0432\\u0435\\u0440\\u044f\\u0439\\u0442\\u0435 \\u043f\\u0438\\u0441\\u044c\\u043c\\u0430 \\u0432\\u043e \\u0432\\u0441\\u0435\\u0445 \\u043f\\u0430\\u043f\\u043a\\u0430\\u0445 \\u0421\\u043f\\u0430\\u043c \\u0430 \\u041e\\u043f\\u043e\\u0432\\u0435\\u0449\\u0435\\u043d\\u0438\\u044f \\u041f\\u0440\\u043e\\u043c\\u043e\\u0430\\u043a\\u0446\\u0438\\u0438 \\u0435\\u0441\\u043b\\u0438 \\u0443 \\u0432\\u0430\\u0441 \\u043f\\u043e\\u0447\\u0442\\u0430 gmail com\"\n        ],\n        \"semantic_type\": \"\",\n        \"description\": \"\"\n      }\n    }\n  ]\n}"
            }
          },
          "metadata": {},
          "execution_count": 7
        }
      ]
    },
    {
      "cell_type": "code",
      "source": [
        "data.drop(index=lol, inplace=True)"
      ],
      "metadata": {
        "execution": {
          "iopub.status.busy": "2024-05-10T17:48:00.363054Z",
          "iopub.execute_input": "2024-05-10T17:48:00.363381Z",
          "iopub.status.idle": "2024-05-10T17:48:00.376596Z",
          "shell.execute_reply.started": "2024-05-10T17:48:00.363354Z",
          "shell.execute_reply": "2024-05-10T17:48:00.375647Z"
        },
        "trusted": true,
        "id": "BzNVypqume9E"
      },
      "execution_count": 8,
      "outputs": []
    },
    {
      "cell_type": "code",
      "source": [
        "data['base_category_nm'].unique()"
      ],
      "metadata": {
        "execution": {
          "iopub.status.busy": "2024-05-07T12:33:59.850662Z",
          "iopub.execute_input": "2024-05-07T12:33:59.850973Z",
          "iopub.status.idle": "2024-05-07T12:33:59.863242Z",
          "shell.execute_reply.started": "2024-05-07T12:33:59.850950Z",
          "shell.execute_reply": "2024-05-07T12:33:59.862309Z"
        },
        "trusted": true,
        "colab": {
          "base_uri": "https://localhost:8080/"
        },
        "id": "vq2ko4_-me9E",
        "outputId": "c958148f-afe4-4f75-b5b2-1a24fc3ec1a3"
      },
      "execution_count": 9,
      "outputs": [
        {
          "output_type": "execute_result",
          "data": {
            "text/plain": [
              "array(['Образование', 'Развлечения', 'Красота',\n",
              "       'Продажа различных товаров', 'Авиабилеты', 'Одежда',\n",
              "       'Дом и ремонт', 'Одежда и аксессуары', 'Связь и телеком',\n",
              "       'Медицина', 'Салоны красоты и здоровья',\n",
              "       'Электроника и бытовая техника', 'Различные услуги',\n",
              "       'Подарки и сувениры', 'Цифровые услуги',\n",
              "       'Заведения общественного питания', 'Автозапчасти и автосервисы',\n",
              "       'Спорт', 'Зоомагазины и ветеринарные клиники', 'Транспорт',\n",
              "       'Продукты', 'Рукоделие и творчество',\n",
              "       'Адвокаты и юридические услуги', 'Ювелирные изделия и часы',\n",
              "       'Книги и канцтовары', 'Отели', 'Печать и сканирование',\n",
              "       'Танцевальные залы, школы и студии', 'Финансовые услуги', 'Цветы',\n",
              "       'Магазины игрушек и хобби-товаров', 'Ремонт компьютеров',\n",
              "       'Жилищно-коммунальные услуги', 'Аптеки', 'Спорттовары',\n",
              "       'Курьерские услуги', 'Фотостудии', 'Оптика', 'Топливо',\n",
              "       'Химчистка', 'Ателье и ремонт одежды', 'Ломбарды',\n",
              "       'Клубы видеоигр', 'Бары, продажа спиртных напитков', 'Кинотеатры'],\n",
              "      dtype=object)"
            ]
          },
          "metadata": {},
          "execution_count": 9
        }
      ]
    },
    {
      "cell_type": "code",
      "source": [
        "def draw_wordcloud(texts, max_words=1000, width=1000, height=500):\n",
        "    wordcloud = WordCloud(background_color='white', max_words=max_words,\n",
        "                          width=width, height=height)\n",
        "\n",
        "    joint_texts = ' '.join(list(texts))\n",
        "    wordcloud.generate(joint_texts)\n",
        "    return wordcloud.to_image()"
      ],
      "metadata": {
        "execution": {
          "iopub.status.busy": "2024-05-10T17:48:00.377929Z",
          "iopub.execute_input": "2024-05-10T17:48:00.378308Z",
          "iopub.status.idle": "2024-05-10T17:48:00.384851Z",
          "shell.execute_reply.started": "2024-05-10T17:48:00.378280Z",
          "shell.execute_reply": "2024-05-10T17:48:00.383732Z"
        },
        "trusted": true,
        "id": "BJNb2rdnme9F"
      },
      "execution_count": 10,
      "outputs": []
    },
    {
      "cell_type": "code",
      "source": [
        "tokenizer = AutoTokenizer.from_pretrained('intfloat/multilingual-e5-large')\n",
        "model = AutoModel.from_pretrained('intfloat/multilingual-e5-large').to(device)"
      ],
      "metadata": {
        "execution": {
          "iopub.status.busy": "2024-05-10T17:48:00.386388Z",
          "iopub.execute_input": "2024-05-10T17:48:00.386734Z",
          "iopub.status.idle": "2024-05-10T17:48:17.166806Z",
          "shell.execute_reply.started": "2024-05-10T17:48:00.386671Z",
          "shell.execute_reply": "2024-05-10T17:48:17.165861Z"
        },
        "trusted": true,
        "colab": {
          "base_uri": "https://localhost:8080/",
          "height": 375,
          "referenced_widgets": [
            "bcd1a24b53a4400fb44bf05a2a6880c8",
            "b43bfadd1e964d3e96a77e89bbf12886",
            "8b14e616ebb742a7b87ff975a3d62d01",
            "a3150c2b6ba744b69344ddd36345370b",
            "363efda622fe4971872771ed4982e180",
            "4551df55098f43dba3b05fb243b44535",
            "c65f49e87ef04c31af100c716b3a5272",
            "863fd540ba984465a5cc295b5d8cef79",
            "821e9177515c4ec6bfaa5284dcc0447c",
            "3e4ebd21dac145ab884b68a209c67082",
            "49d588072b484911adc97db8834adaa8",
            "391e8f84a51b441993e6724c8bd02373",
            "8bb8ac7e8e8341acadb444e4a0ad908c",
            "35adc9be7ff7441eb835d6495a4e924f",
            "1fc39ea55c424a7f8a806955f8166ca7",
            "4f7937ffebfe49d0835fa0334149f5a7",
            "cda4ea86043640beaf91a1f6927408d2",
            "89ba9b3855304580b6c8c7ac787a9fb0",
            "b73e79eb35d647daa2c2648691103e76",
            "138a53f18faf48d08e1646eb9d048e45",
            "c124b8c6911f4cb199b7fc6bab040b91",
            "5a93d21a48e44294890ce021b913b211",
            "13fb651daee74f96b08e76a2e8dff7d9",
            "260ad0aeee54493c876cda74b20c5ba4",
            "0ae85be9bc01490c8931cb7cb573291a",
            "d5d5f225cfb34e8aabe19a120b747305",
            "ef419fede7274a01b9de8a253eb71f1f",
            "b6c17eb5f37b4ec7a3fbd86ad3a000c1",
            "edba956ad1c649599467dbf07bff72f3",
            "9d100c46806f45ad95e552f395b46479",
            "efbc312c6d614cbb9230b6b301dc908a",
            "7760a565e33d41c2bd6d5cae005cd633",
            "32459fd8571e4eb1b1bf77f244dc8455",
            "69e8efcad0ec40b79702ddef72aad6c7",
            "7a2896c6bde646788f6987c896faaec4",
            "18f73b5189d54772b0affd404aed7606",
            "0e18c8c33d3642f88c5faa941db0b7ad",
            "87cca334d1a941f297526db484fd4451",
            "c2e4185f18534e5dae902f6841e78e58",
            "aafc7cb4e0054866b127184f6c5e90e9",
            "45181bf1e48c471baa0f43385e404feb",
            "d8c284a1034d44d88a84b684ae486d04",
            "5db8f818f2984c5aa6c4265b760921ae",
            "c37a059b4e2e47b991d16123262ecd08",
            "b96bc2fa07184ac7b14f38cbf0d0be17",
            "38a6e34c02dc4f6887bae49a8ef74a93",
            "fbc2c4d3442c4070af7977637b0cad8e",
            "353520b2d67546f3a5bfd5cd1dda5518",
            "3a009ec342cf44b6aa242397f15e97b2",
            "a88c802ddca246d38092eddb80247bd3",
            "6e6d97356a68404cb39bbd0c8a501a8f",
            "723e898ed8cc4092906f7f4a614977ca",
            "34dfcaa0d2f147e985f7fa678f2ce73d",
            "0ac89a4b46874e71b7209a9783279013",
            "19e6449150ce48f3aafa2b2f656b15d5",
            "2ec295fbeb5944d7b35e0eb6971a0e8a",
            "ce602dc65ccf40ca8ef61f5704621da7",
            "7dd15d5aa5a4431ebc9e07c5c47b0fd7",
            "cbe098f8c84a424c9d1a6207c89ad794",
            "e23bb43e4e6c464dbfcb6f6943dd542b",
            "2acea675bb884f4da273ba11ebb11ae7",
            "76786f3260614b0b8cf9dad04e34e192",
            "ce57d376c7d84c99ab4a990d8f1d3257",
            "15c8b9c3331241e38dae45461e565d75",
            "7ec7e6f3cfaf48e7a9d4e27175feed62",
            "352edbb1889045909985973b1fbdfc5b"
          ]
        },
        "id": "hy5j2xEwme9G",
        "outputId": "9d84526b-4c37-423c-df62-ad5dd036b79a"
      },
      "execution_count": 11,
      "outputs": [
        {
          "output_type": "stream",
          "name": "stderr",
          "text": [
            "/usr/local/lib/python3.10/dist-packages/huggingface_hub/file_download.py:1132: FutureWarning: `resume_download` is deprecated and will be removed in version 1.0.0. Downloads always resume when possible. If you want to force a new download, use `force_download=True`.\n",
            "  warnings.warn(\n",
            "/usr/local/lib/python3.10/dist-packages/huggingface_hub/utils/_token.py:89: UserWarning: \n",
            "The secret `HF_TOKEN` does not exist in your Colab secrets.\n",
            "To authenticate with the Hugging Face Hub, create a token in your settings tab (https://huggingface.co/settings/tokens), set it as secret in your Google Colab and restart your session.\n",
            "You will be able to reuse this secret in all of your notebooks.\n",
            "Please note that authentication is recommended but still optional to access public models or datasets.\n",
            "  warnings.warn(\n"
          ]
        },
        {
          "output_type": "display_data",
          "data": {
            "text/plain": [
              "tokenizer_config.json:   0%|          | 0.00/418 [00:00<?, ?B/s]"
            ],
            "application/vnd.jupyter.widget-view+json": {
              "version_major": 2,
              "version_minor": 0,
              "model_id": "bcd1a24b53a4400fb44bf05a2a6880c8"
            }
          },
          "metadata": {}
        },
        {
          "output_type": "display_data",
          "data": {
            "text/plain": [
              "sentencepiece.bpe.model:   0%|          | 0.00/5.07M [00:00<?, ?B/s]"
            ],
            "application/vnd.jupyter.widget-view+json": {
              "version_major": 2,
              "version_minor": 0,
              "model_id": "391e8f84a51b441993e6724c8bd02373"
            }
          },
          "metadata": {}
        },
        {
          "output_type": "display_data",
          "data": {
            "text/plain": [
              "tokenizer.json:   0%|          | 0.00/17.1M [00:00<?, ?B/s]"
            ],
            "application/vnd.jupyter.widget-view+json": {
              "version_major": 2,
              "version_minor": 0,
              "model_id": "13fb651daee74f96b08e76a2e8dff7d9"
            }
          },
          "metadata": {}
        },
        {
          "output_type": "display_data",
          "data": {
            "text/plain": [
              "special_tokens_map.json:   0%|          | 0.00/280 [00:00<?, ?B/s]"
            ],
            "application/vnd.jupyter.widget-view+json": {
              "version_major": 2,
              "version_minor": 0,
              "model_id": "69e8efcad0ec40b79702ddef72aad6c7"
            }
          },
          "metadata": {}
        },
        {
          "output_type": "display_data",
          "data": {
            "text/plain": [
              "config.json:   0%|          | 0.00/690 [00:00<?, ?B/s]"
            ],
            "application/vnd.jupyter.widget-view+json": {
              "version_major": 2,
              "version_minor": 0,
              "model_id": "b96bc2fa07184ac7b14f38cbf0d0be17"
            }
          },
          "metadata": {}
        },
        {
          "output_type": "display_data",
          "data": {
            "text/plain": [
              "model.safetensors:   0%|          | 0.00/2.24G [00:00<?, ?B/s]"
            ],
            "application/vnd.jupyter.widget-view+json": {
              "version_major": 2,
              "version_minor": 0,
              "model_id": "2ec295fbeb5944d7b35e0eb6971a0e8a"
            }
          },
          "metadata": {}
        }
      ]
    },
    {
      "cell_type": "code",
      "source": [
        "data['text'] = data['parsed_text'].apply(lambda x: \"query: \" + x)\n",
        "data.head()"
      ],
      "metadata": {
        "execution": {
          "iopub.status.busy": "2024-05-10T17:48:17.168308Z",
          "iopub.execute_input": "2024-05-10T17:48:17.169026Z",
          "iopub.status.idle": "2024-05-10T17:48:17.210192Z",
          "shell.execute_reply.started": "2024-05-10T17:48:17.168988Z",
          "shell.execute_reply": "2024-05-10T17:48:17.209016Z"
        },
        "trusted": true,
        "colab": {
          "base_uri": "https://localhost:8080/",
          "height": 206
        },
        "id": "CQ68FBnHme9H",
        "outputId": "953c846c-8f23-4405-8591-6739356d0cc0"
      },
      "execution_count": 12,
      "outputs": [
        {
          "output_type": "execute_result",
          "data": {
            "text/plain": [
              "                                url base_category_nm  \\\n",
              "0          https://aspect-school.ru      Образование   \n",
              "1               https://rlagency.ru      Развлечения   \n",
              "2     https://kozlovatravel.u-on.ru      Развлечения   \n",
              "3         https://rootsyou.tilda.ws          Красота   \n",
              "4  https://esk.one/p/wadgpcigy2vveo      Образование   \n",
              "\n",
              "                                         parsed_text  \\\n",
              "0  курс маникюр школа обучение ученик мастер ногт...   \n",
              "1  билет купить руб подробный любовь дк павлово с...   \n",
              "2  Автоматизированная система U ON Travel Забыли ...   \n",
              "3  крем мыло баттеры аромароллер косметика душа п...   \n",
              "4  прототип блок схема поддержка mind esk one сер...   \n",
              "\n",
              "                                                text  \n",
              "0  query: курс маникюр школа обучение ученик маст...  \n",
              "1  query: билет купить руб подробный любовь дк па...  \n",
              "2  query: Автоматизированная система U ON Travel ...  \n",
              "3  query: крем мыло баттеры аромароллер косметика...  \n",
              "4  query: прототип блок схема поддержка mind esk ...  "
            ],
            "text/html": [
              "\n",
              "  <div id=\"df-61934f8d-253a-4158-a61a-afc09e3eded5\" class=\"colab-df-container\">\n",
              "    <div>\n",
              "<style scoped>\n",
              "    .dataframe tbody tr th:only-of-type {\n",
              "        vertical-align: middle;\n",
              "    }\n",
              "\n",
              "    .dataframe tbody tr th {\n",
              "        vertical-align: top;\n",
              "    }\n",
              "\n",
              "    .dataframe thead th {\n",
              "        text-align: right;\n",
              "    }\n",
              "</style>\n",
              "<table border=\"1\" class=\"dataframe\">\n",
              "  <thead>\n",
              "    <tr style=\"text-align: right;\">\n",
              "      <th></th>\n",
              "      <th>url</th>\n",
              "      <th>base_category_nm</th>\n",
              "      <th>parsed_text</th>\n",
              "      <th>text</th>\n",
              "    </tr>\n",
              "  </thead>\n",
              "  <tbody>\n",
              "    <tr>\n",
              "      <th>0</th>\n",
              "      <td>https://aspect-school.ru</td>\n",
              "      <td>Образование</td>\n",
              "      <td>курс маникюр школа обучение ученик мастер ногт...</td>\n",
              "      <td>query: курс маникюр школа обучение ученик маст...</td>\n",
              "    </tr>\n",
              "    <tr>\n",
              "      <th>1</th>\n",
              "      <td>https://rlagency.ru</td>\n",
              "      <td>Развлечения</td>\n",
              "      <td>билет купить руб подробный любовь дк павлово с...</td>\n",
              "      <td>query: билет купить руб подробный любовь дк па...</td>\n",
              "    </tr>\n",
              "    <tr>\n",
              "      <th>2</th>\n",
              "      <td>https://kozlovatravel.u-on.ru</td>\n",
              "      <td>Развлечения</td>\n",
              "      <td>Автоматизированная система U ON Travel Забыли ...</td>\n",
              "      <td>query: Автоматизированная система U ON Travel ...</td>\n",
              "    </tr>\n",
              "    <tr>\n",
              "      <th>3</th>\n",
              "      <td>https://rootsyou.tilda.ws</td>\n",
              "      <td>Красота</td>\n",
              "      <td>крем мыло баттеры аромароллер косметика душа п...</td>\n",
              "      <td>query: крем мыло баттеры аромароллер косметика...</td>\n",
              "    </tr>\n",
              "    <tr>\n",
              "      <th>4</th>\n",
              "      <td>https://esk.one/p/wadgpcigy2vveo</td>\n",
              "      <td>Образование</td>\n",
              "      <td>прототип блок схема поддержка mind esk one сер...</td>\n",
              "      <td>query: прототип блок схема поддержка mind esk ...</td>\n",
              "    </tr>\n",
              "  </tbody>\n",
              "</table>\n",
              "</div>\n",
              "    <div class=\"colab-df-buttons\">\n",
              "\n",
              "  <div class=\"colab-df-container\">\n",
              "    <button class=\"colab-df-convert\" onclick=\"convertToInteractive('df-61934f8d-253a-4158-a61a-afc09e3eded5')\"\n",
              "            title=\"Convert this dataframe to an interactive table.\"\n",
              "            style=\"display:none;\">\n",
              "\n",
              "  <svg xmlns=\"http://www.w3.org/2000/svg\" height=\"24px\" viewBox=\"0 -960 960 960\">\n",
              "    <path d=\"M120-120v-720h720v720H120Zm60-500h600v-160H180v160Zm220 220h160v-160H400v160Zm0 220h160v-160H400v160ZM180-400h160v-160H180v160Zm440 0h160v-160H620v160ZM180-180h160v-160H180v160Zm440 0h160v-160H620v160Z\"/>\n",
              "  </svg>\n",
              "    </button>\n",
              "\n",
              "  <style>\n",
              "    .colab-df-container {\n",
              "      display:flex;\n",
              "      gap: 12px;\n",
              "    }\n",
              "\n",
              "    .colab-df-convert {\n",
              "      background-color: #E8F0FE;\n",
              "      border: none;\n",
              "      border-radius: 50%;\n",
              "      cursor: pointer;\n",
              "      display: none;\n",
              "      fill: #1967D2;\n",
              "      height: 32px;\n",
              "      padding: 0 0 0 0;\n",
              "      width: 32px;\n",
              "    }\n",
              "\n",
              "    .colab-df-convert:hover {\n",
              "      background-color: #E2EBFA;\n",
              "      box-shadow: 0px 1px 2px rgba(60, 64, 67, 0.3), 0px 1px 3px 1px rgba(60, 64, 67, 0.15);\n",
              "      fill: #174EA6;\n",
              "    }\n",
              "\n",
              "    .colab-df-buttons div {\n",
              "      margin-bottom: 4px;\n",
              "    }\n",
              "\n",
              "    [theme=dark] .colab-df-convert {\n",
              "      background-color: #3B4455;\n",
              "      fill: #D2E3FC;\n",
              "    }\n",
              "\n",
              "    [theme=dark] .colab-df-convert:hover {\n",
              "      background-color: #434B5C;\n",
              "      box-shadow: 0px 1px 3px 1px rgba(0, 0, 0, 0.15);\n",
              "      filter: drop-shadow(0px 1px 2px rgba(0, 0, 0, 0.3));\n",
              "      fill: #FFFFFF;\n",
              "    }\n",
              "  </style>\n",
              "\n",
              "    <script>\n",
              "      const buttonEl =\n",
              "        document.querySelector('#df-61934f8d-253a-4158-a61a-afc09e3eded5 button.colab-df-convert');\n",
              "      buttonEl.style.display =\n",
              "        google.colab.kernel.accessAllowed ? 'block' : 'none';\n",
              "\n",
              "      async function convertToInteractive(key) {\n",
              "        const element = document.querySelector('#df-61934f8d-253a-4158-a61a-afc09e3eded5');\n",
              "        const dataTable =\n",
              "          await google.colab.kernel.invokeFunction('convertToInteractive',\n",
              "                                                    [key], {});\n",
              "        if (!dataTable) return;\n",
              "\n",
              "        const docLinkHtml = 'Like what you see? Visit the ' +\n",
              "          '<a target=\"_blank\" href=https://colab.research.google.com/notebooks/data_table.ipynb>data table notebook</a>'\n",
              "          + ' to learn more about interactive tables.';\n",
              "        element.innerHTML = '';\n",
              "        dataTable['output_type'] = 'display_data';\n",
              "        await google.colab.output.renderOutput(dataTable, element);\n",
              "        const docLink = document.createElement('div');\n",
              "        docLink.innerHTML = docLinkHtml;\n",
              "        element.appendChild(docLink);\n",
              "      }\n",
              "    </script>\n",
              "  </div>\n",
              "\n",
              "\n",
              "<div id=\"df-c813eb59-cfd7-44fb-b429-3a857e5ce472\">\n",
              "  <button class=\"colab-df-quickchart\" onclick=\"quickchart('df-c813eb59-cfd7-44fb-b429-3a857e5ce472')\"\n",
              "            title=\"Suggest charts\"\n",
              "            style=\"display:none;\">\n",
              "\n",
              "<svg xmlns=\"http://www.w3.org/2000/svg\" height=\"24px\"viewBox=\"0 0 24 24\"\n",
              "     width=\"24px\">\n",
              "    <g>\n",
              "        <path d=\"M19 3H5c-1.1 0-2 .9-2 2v14c0 1.1.9 2 2 2h14c1.1 0 2-.9 2-2V5c0-1.1-.9-2-2-2zM9 17H7v-7h2v7zm4 0h-2V7h2v10zm4 0h-2v-4h2v4z\"/>\n",
              "    </g>\n",
              "</svg>\n",
              "  </button>\n",
              "\n",
              "<style>\n",
              "  .colab-df-quickchart {\n",
              "      --bg-color: #E8F0FE;\n",
              "      --fill-color: #1967D2;\n",
              "      --hover-bg-color: #E2EBFA;\n",
              "      --hover-fill-color: #174EA6;\n",
              "      --disabled-fill-color: #AAA;\n",
              "      --disabled-bg-color: #DDD;\n",
              "  }\n",
              "\n",
              "  [theme=dark] .colab-df-quickchart {\n",
              "      --bg-color: #3B4455;\n",
              "      --fill-color: #D2E3FC;\n",
              "      --hover-bg-color: #434B5C;\n",
              "      --hover-fill-color: #FFFFFF;\n",
              "      --disabled-bg-color: #3B4455;\n",
              "      --disabled-fill-color: #666;\n",
              "  }\n",
              "\n",
              "  .colab-df-quickchart {\n",
              "    background-color: var(--bg-color);\n",
              "    border: none;\n",
              "    border-radius: 50%;\n",
              "    cursor: pointer;\n",
              "    display: none;\n",
              "    fill: var(--fill-color);\n",
              "    height: 32px;\n",
              "    padding: 0;\n",
              "    width: 32px;\n",
              "  }\n",
              "\n",
              "  .colab-df-quickchart:hover {\n",
              "    background-color: var(--hover-bg-color);\n",
              "    box-shadow: 0 1px 2px rgba(60, 64, 67, 0.3), 0 1px 3px 1px rgba(60, 64, 67, 0.15);\n",
              "    fill: var(--button-hover-fill-color);\n",
              "  }\n",
              "\n",
              "  .colab-df-quickchart-complete:disabled,\n",
              "  .colab-df-quickchart-complete:disabled:hover {\n",
              "    background-color: var(--disabled-bg-color);\n",
              "    fill: var(--disabled-fill-color);\n",
              "    box-shadow: none;\n",
              "  }\n",
              "\n",
              "  .colab-df-spinner {\n",
              "    border: 2px solid var(--fill-color);\n",
              "    border-color: transparent;\n",
              "    border-bottom-color: var(--fill-color);\n",
              "    animation:\n",
              "      spin 1s steps(1) infinite;\n",
              "  }\n",
              "\n",
              "  @keyframes spin {\n",
              "    0% {\n",
              "      border-color: transparent;\n",
              "      border-bottom-color: var(--fill-color);\n",
              "      border-left-color: var(--fill-color);\n",
              "    }\n",
              "    20% {\n",
              "      border-color: transparent;\n",
              "      border-left-color: var(--fill-color);\n",
              "      border-top-color: var(--fill-color);\n",
              "    }\n",
              "    30% {\n",
              "      border-color: transparent;\n",
              "      border-left-color: var(--fill-color);\n",
              "      border-top-color: var(--fill-color);\n",
              "      border-right-color: var(--fill-color);\n",
              "    }\n",
              "    40% {\n",
              "      border-color: transparent;\n",
              "      border-right-color: var(--fill-color);\n",
              "      border-top-color: var(--fill-color);\n",
              "    }\n",
              "    60% {\n",
              "      border-color: transparent;\n",
              "      border-right-color: var(--fill-color);\n",
              "    }\n",
              "    80% {\n",
              "      border-color: transparent;\n",
              "      border-right-color: var(--fill-color);\n",
              "      border-bottom-color: var(--fill-color);\n",
              "    }\n",
              "    90% {\n",
              "      border-color: transparent;\n",
              "      border-bottom-color: var(--fill-color);\n",
              "    }\n",
              "  }\n",
              "</style>\n",
              "\n",
              "  <script>\n",
              "    async function quickchart(key) {\n",
              "      const quickchartButtonEl =\n",
              "        document.querySelector('#' + key + ' button');\n",
              "      quickchartButtonEl.disabled = true;  // To prevent multiple clicks.\n",
              "      quickchartButtonEl.classList.add('colab-df-spinner');\n",
              "      try {\n",
              "        const charts = await google.colab.kernel.invokeFunction(\n",
              "            'suggestCharts', [key], {});\n",
              "      } catch (error) {\n",
              "        console.error('Error during call to suggestCharts:', error);\n",
              "      }\n",
              "      quickchartButtonEl.classList.remove('colab-df-spinner');\n",
              "      quickchartButtonEl.classList.add('colab-df-quickchart-complete');\n",
              "    }\n",
              "    (() => {\n",
              "      let quickchartButtonEl =\n",
              "        document.querySelector('#df-c813eb59-cfd7-44fb-b429-3a857e5ce472 button');\n",
              "      quickchartButtonEl.style.display =\n",
              "        google.colab.kernel.accessAllowed ? 'block' : 'none';\n",
              "    })();\n",
              "  </script>\n",
              "</div>\n",
              "    </div>\n",
              "  </div>\n"
            ],
            "application/vnd.google.colaboratory.intrinsic+json": {
              "type": "dataframe",
              "variable_name": "data",
              "summary": "{\n  \"name\": \"data\",\n  \"rows\": 36891,\n  \"fields\": [\n    {\n      \"column\": \"url\",\n      \"properties\": {\n        \"dtype\": \"string\",\n        \"num_unique_values\": 36891,\n        \"samples\": [\n          \"https://robo-park.com/ru/izhevsk\",\n          \"https://bazzalagom.com\",\n          \"https://penza.angstrem-mebel.ru\"\n        ],\n        \"semantic_type\": \"\",\n        \"description\": \"\"\n      }\n    },\n    {\n      \"column\": \"base_category_nm\",\n      \"properties\": {\n        \"dtype\": \"category\",\n        \"num_unique_values\": 45,\n        \"samples\": [\n          \"\\u0425\\u0438\\u043c\\u0447\\u0438\\u0441\\u0442\\u043a\\u0430\",\n          \"\\u041e\\u0442\\u0435\\u043b\\u0438\",\n          \"\\u041f\\u0435\\u0447\\u0430\\u0442\\u044c \\u0438 \\u0441\\u043a\\u0430\\u043d\\u0438\\u0440\\u043e\\u0432\\u0430\\u043d\\u0438\\u0435\"\n        ],\n        \"semantic_type\": \"\",\n        \"description\": \"\"\n      }\n    },\n    {\n      \"column\": \"parsed_text\",\n      \"properties\": {\n        \"dtype\": \"string\",\n        \"num_unique_values\": 34795,\n        \"samples\": [\n          \"\\u043e\\u0442\\u0440\\u0443\\u0431 \\u0441\\u0442\\u0440\\u0438\\u043f\\u043b\\u043e\\u0439\\u043d\\u0430 alekssteak \\u043c\\u044f\\u0441\\u043e \\u043c\\u044f\\u0441\\u043d\\u043e\\u0439 \\u043b\\u0430\\u0432\\u043a\\u0430 \\u043c\\u0440\\u0430\\u043c\\u043e\\u0440\\u043d\\u044b\\u0439 \\u0433\\u043e\\u0432\\u044f\\u0434\\u0438\\u043d\\u0430 \\u0436\\u0438\\u0437\\u043d\\u044c \\u043b\\u044e\\u0431\\u043e\\u0439 \\u0441\\u0442\\u0435\\u0439\\u043a \\u0438\\u0432\\u0430\\u043d \\u0434\\u0435\\u043d\\u0432\\u0435\\u0440 \\u0441\\u0443\\u043f\\u0435\\u0440 \\u0432\\u043a\\u0443\\u0441\\u043d\\u043e \\u043e\\u0447\\u0435\\u043d\\u044c \\u043a\\u043b\\u0430\\u0441\\u0441\\u043d\\u044b\\u0439 dry age by zozulinsky potseluev wagyu \\u043d\\u043e\\u0436 icel \\u0441\\u043f\\u0435\\u0446\\u0438\\u044f \\u0434\\u043e\\u0441\\u0442\\u0430\\u0432\\u043a\\u0430 \\u0441\\u0442\\u0438\\u043b\\u044c \\u043e\\u0441\\u043e\\u0431\\u044b\\u0439 \\u0444\\u0438\\u043b\\u043e\\u0441\\u043e\\u0444\\u0438\\u044f \\u043f\\u043e\\u0442\\u0440\\u0435\\u0431\\u043b\\u0435\\u043d\\u0438\\u0435 \\u043e\\u0441\\u043d\\u043e\\u0432\\u043d\\u044b\\u0439 \\u0438\\u0441\\u0442\\u043e\\u0447\\u043d\\u0438\\u043a \\u043d\\u0430\\u0442\\u0443\\u0440\\u0430\\u043b\\u044c\\u043d\\u044b\\u0439 \\u0431\\u0435\\u043b\\u043e\\u043a \\u0437\\u0434\\u043e\\u0440\\u043e\\u0432\\u044c\\u0435 \\u043f\\u043e\\u043b\\u043d\\u043e\\u0446\\u0435\\u043d\\u043d\\u044b\\u0439 \\u0441\\u043e\\u0432\\u0440\\u0435\\u043c\\u0435\\u043d\\u043d\\u044b\\u0439 \\u0447\\u0435\\u043b\\u043e\\u0432\\u0435\\u043a \\u0441\\u0432\\u0435\\u0436\\u0438\\u0439 \\u043d\\u043e\\u0432\\u043e\\u0441\\u0442\\u044c \\u043a\\u0430\\u043d\\u0430\\u043b \\u0441\\u043b\\u0435\\u0434\\u0438\\u0442\\u044c instagram \\u043e\\u0442\\u0437\\u044b\\u0432 \\u043a\\u043b\\u0438\\u0435\\u043d\\u0442 \\u0432\\u0430\\u0441\\u0438\\u043b\\u0438\\u0439 \\u043f\\u043e\\u0440\\u0442\\u0435\\u0440\\u0445\\u0430\\u0443\\u0441 \\u043f\\u0440\\u043e\\u0439\\u0442\\u0438 \\u043e\\u0442\\u043b\\u0438\\u0447\\u043d\\u043e \\u043f\\u0440\\u043e\\u0434\\u0430\\u0432\\u0435\\u0446 \\u043d\\u0430\\u0434\\u0451\\u0436\\u043d\\u044b\\u0439 \\u043f\\u0438\\u043a\\u0430\\u043d\\u044c\\u0435 \\u0432\\u043b\\u0430\\u0434\\u0438\\u043c\\u0438\\u0440 \\u043c\\u044f\\u0433\\u043a\\u0438\\u0439 \\u0430\\u0440\\u0441\\u043b\\u0430\\u043d \\u0442\\u043e\\u043c\\u0430\\u0433\\u0430\\u0432\\u043a \\u043f\\u043e\\u043d\\u0440\\u0430\\u0432\\u0438\\u0442\\u044c\\u0441\\u044f \\u0430\\u043d\\u0434\\u0440\\u0435\\u0439 \\u0432\\u0430\\u0433\\u0442\\u044c \\u0440\\u0438\\u0431\\u0430\\u0439 \\u04305 \\u043d\\u0435\\u0436\\u043d\\u043e \\u0436\\u0438\\u0440\\u043d\\u0435\\u043d\\u044c\\u043a\\u0438\\u0439 \\u0438\\u043f\\u043a\\u0443\\u0440\\u044c\\u044f\\u043d\\u043e\\u0432\\u043e \\u0441\\u0430\\u043d\\u043a\\u0442\",\n          \"\\u0441\\u0432\\u0430\\u0440\\u043a\\u0430 \\u0430\\u043f\\u043f\\u0430\\u0440\\u0430\\u0442 \\u0430\\u043a\\u0441\\u0435\\u0441\\u0441\\u0443\\u0430\\u0440 \\u0441\\u043f\\u043e\\u0442\\u0442\\u0435\\u0440 gys \\u043a\\u043e\\u043d\\u0442\\u0430\\u043a\\u0442\\u043d\\u044b\\u0439 \\u0442\\u043e\\u0432\\u0430\\u0440 \\u0440\\u0435\\u043c\\u043e\\u043d\\u0442 \\u043f\\u043b\\u0430\\u0437\\u043c\\u0435\\u043d\\u043d\\u044b\\u0439 \\u0440\\u0435\\u0437\\u043a\\u0430 \\u0437\\u0430\\u0440\\u044f\\u0434\\u043d\\u044b\\u0439 \\u0443\\u0441\\u0442\\u0440\\u043e\\u0439\\u0441\\u0442\\u0432\\u043e \\u0440\\u0430\\u0441\\u0445\\u043e\\u0434\\u043d\\u044b\\u0439 \\u043c\\u0430\\u0442\\u0435\\u0440\\u0438\\u0430\\u043b tig \\u043e\\u0431\\u043e\\u0440\\u0443\\u0434\\u043e\\u0432\\u0430\\u043d\\u0438\\u0435 \\u043d\\u043e\\u0432\\u043e\\u0441\\u0442\\u044c \\u0437\\u0430\\u043a\\u0430\\u0437\\u0430\\u0442\\u044c \\u043a\\u0430\\u0442\\u0430\\u043b\\u043e\\u0433 \\u0430\\u0440\\u0433\\u043e\\u043d\\u043e\\u0434\\u0443\\u0433\\u043e\\u0432\\u043e\\u0439 \\u0438\\u043d\\u0434\\u0443\\u043a\\u0446\\u0438\\u043e\\u043d\\u043d\\u044b\\u0439 \\u043d\\u0430\\u0433\\u0440\\u0435\\u0432 \\u043a\\u0443\\u0437\\u043e\\u0432\\u043d\\u043e\\u0439 \\u043f\\u043e\\u043c\\u043e\\u0449\\u044c \\u043e\\u043f\\u043b\\u0430\\u0442\\u0430 \\u0434\\u043e\\u0441\\u0442\\u0430\\u0432\\u043a\\u0430 \\u0437\\u0430\\u043a\\u0430\\u0437 sales auto \\u0443\\u043b \\u043a\\u0438\\u0435\\u0432\\u0441\\u043a\\u0438\\u0439 \\u0441\\u0442\\u0440 spot \\u043f\\u043e\\u043b\\u0443\\u0430\\u0432\\u0442\\u043e\\u043c\\u0430\\u0442\\u0438\\u0447\\u0435\\u0441\\u043a\\u0438\\u0439 mig mag \\u043f\\u0443\\u0441\\u043a\\u043e \\u0432\\u043e\\u0437\\u0432\\u0440\\u0430\\u0442 \\u043f\\u0440\\u0430\\u0432\\u0438\\u043b\\u043e \\u043f\\u0440\\u043e\\u0434\\u0430\\u0436\\u0430 \\u043f\\u0443\\u0431\\u043b\\u0438\\u0447\\u043d\\u044b\\u0439 \\u043a\\u043e\\u043d\\u0444\\u0438\\u0434\\u0435\\u043d\\u0446\\u0438\\u0430\\u043b\\u044c\\u043d\\u043e\\u0441\\u0442\\u044c \\u043f\\u043e\\u043b\\u0443\\u0430\\u0432\\u0442\\u043e\\u043c\\u0430\\u0442 \\u0441\\u0440\\u0435\\u0434\\u0441\\u0442\\u0432\\u043e \\u0437\\u0430\\u0449\\u0438\\u0442\\u0430 \\u0438\\u043d\\u0442\\u0435\\u0440\\u043d\\u0435\\u0442 \\u043c\\u0430\\u0433\\u0430\\u0437\\u0438\\u043d \\u0433\\u043e\\u0440\\u043e\\u0434 \\u0440\\u0435\\u0433\\u0438\\u043e\\u043d \\u0440\\u0430\\u0441\\u043f\\u0440\\u043e\\u0434\\u0430\\u0436\\u0430 \\u0440\\u0430\\u0441\\u0441\\u0440\\u043e\\u0447\\u043a\\u0430 \\u0432\\u043e\\u043f\\u0440\\u043e\\u0441 \\u043e\\u0442\\u0432\\u0435\\u0442 \\u0438\\u043d\\u0432\\u0435\\u0440\\u0442\\u043e\\u0440\\u043d\\u044b\\u0439 \\u0438\\u043d\\u0441\\u0442\\u0440\\u0443\\u043c\\u0435\\u043d\\u0442 \\u043a\\u043e\\u043c\\u043f\\u0440\\u0435\\u0441\\u0441\\u043e\\u0440 \\u043f\\u043e\\u043f\\u0440\\u043e\\u0431\\u043e\\u0432\\u0430\\u0442\\u044c \\u043a\\u0430\\u0442\\u0435\\u0433\\u043e\\u0440\\u0438\\u044f \\u0441\\u0435\\u0440\\u0438\\u044f gysflash\",\n          \"\\u043a\\u0432\\u0442 royal clima \\u043a\\u043e\\u043d\\u0434\\u0438\\u0446\\u0438\\u043e\\u043d\\u0435\\u0440 \\u043a\\u0443\\u043f\\u0438\\u0442\\u044c \\u0443\\u0440\\u043e\\u0432\\u0435\\u043d\\u044c \\u044d\\u043d\\u0435\\u0440\\u0433\\u043e\\u044d\\u0444\\u0444\\u0435\\u043a\\u0442\\u0438\\u0432\\u043d\\u043e\\u0441\\u0442\\u044c \\u0440\\u0443\\u0431 a \\u043f\\u043b\\u043e\\u0449\\u0430\\u0434\\u044c \\u043c2 \\u043e\\u0445\\u043b\\u0430\\u0436\\u0434\\u0435\\u043d\\u0438\\u0435 \\u0448\\u0443\\u043c \\u0434\\u0431 inverter \\u0438\\u043d\\u0432\\u0435\\u0440\\u0442\\u043e\\u0440 \\u043e\\u0431\\u043e\\u0433\\u0440\\u0435\\u0432 wi fi \\u043a\\u043e\\u043c\\u043f\\u0430\\u043d\\u0438\\u044f \\u043e\\u043f\\u0446\\u0438\\u044f rc \\u0443\\u0441\\u0442\\u0430\\u043d\\u043e\\u0432\\u043a\\u0430 eu \\u0441\\u0438\\u0441\\u0442\\u0435\\u043c\\u0430 dc rci \\u043e\\u0431\\u043e\\u0440\\u0443\\u0434\\u043e\\u0432\\u0430\\u043d\\u0438\\u0435 \\u043c\\u043e\\u0441\\u043a\\u0432\\u0430 \\u0434\\u043e\\u0441\\u0442\\u0430\\u0432\\u043a\\u0430 \\u043a\\u0433 \\u043a\\u043b\\u0438\\u043c\\u0430\\u0442\\u0438\\u0447\\u0435\\u0441\\u043a\\u0438\\u0439 \\u0441\\u043f\\u043b\\u0438\\u0442 \\u0440\\u0430\\u0431\\u043e\\u0442\\u0430 full \\u043a\\u043e\\u043c\\u043d\\u0430\\u0442\\u0430 \\u043e\\u0444\\u0438\\u0446\\u0438\\u0430\\u043b\\u044c\\u043d\\u044b\\u0439 \\u0434\\u0438\\u043b\\u0435\\u0440 \\u043d\\u0430\\u0441\\u0442\\u0435\\u043d\\u043d\\u044b\\u0439 nero grida \\u0433\\u0430\\u0440\\u0430\\u043d\\u0442\\u0438\\u044f \\u0433\\u0430\\u0440\\u0430\\u043d\\u0442\\u0438\\u0439\\u043d\\u044b\\u0439 attica gloria triumph \\u0438\\u043d\\u0432\\u0435\\u0440\\u0442\\u043e\\u0440\\u043d\\u044b\\u0439 \\u043c\\u043e\\u0431\\u0438\\u043b\\u044c\\u043d\\u044b\\u0439 competenza rm \\u044d\\u043d\\u0435\\u0440\\u0433\\u043e\\u043f\\u043e\\u0442\\u0440\\u0435\\u0431\\u043b\\u0435\\u043d\\u0438\\u0435 \\u043f\\u0440\\u043e\\u0434\\u0443\\u043a\\u0446\\u0438\\u044f \\u0442\\u0435\\u0445\\u043d\\u0438\\u043a\\u0430 \\u0434\\u0440\\u0443\\u0433\\u043e\\u0439 \\u043c\\u043e\\u043d\\u0442\\u0430\\u0436 \\u0432\\u0440\\u0435\\u043c\\u044f renaissance vela nuova fresh \\u043c\\u0443\\u043b\\u044c\\u0442\\u044f \\u0431\\u043b\\u043e\\u043a \\u043a\\u0430\\u0441\\u0441\\u0435\\u0442\\u043d\\u044b\\u0439 \\u043a\\u0430\\u043d\\u0430\\u043b\\u044c\\u043d\\u044b\\u0439 \\u043d\\u0430\\u043f\\u043e\\u043b\\u044c\\u043d\\u044b\\u0439 \\u043f\\u043e\\u0442\\u043e\\u043b\\u043e\\u0447\\u043d\\u044b\\u0439 \\u0432\\u0435\\u0441\"\n        ],\n        \"semantic_type\": \"\",\n        \"description\": \"\"\n      }\n    },\n    {\n      \"column\": \"text\",\n      \"properties\": {\n        \"dtype\": \"string\",\n        \"num_unique_values\": 34795,\n        \"samples\": [\n          \"query: \\u043e\\u0442\\u0440\\u0443\\u0431 \\u0441\\u0442\\u0440\\u0438\\u043f\\u043b\\u043e\\u0439\\u043d\\u0430 alekssteak \\u043c\\u044f\\u0441\\u043e \\u043c\\u044f\\u0441\\u043d\\u043e\\u0439 \\u043b\\u0430\\u0432\\u043a\\u0430 \\u043c\\u0440\\u0430\\u043c\\u043e\\u0440\\u043d\\u044b\\u0439 \\u0433\\u043e\\u0432\\u044f\\u0434\\u0438\\u043d\\u0430 \\u0436\\u0438\\u0437\\u043d\\u044c \\u043b\\u044e\\u0431\\u043e\\u0439 \\u0441\\u0442\\u0435\\u0439\\u043a \\u0438\\u0432\\u0430\\u043d \\u0434\\u0435\\u043d\\u0432\\u0435\\u0440 \\u0441\\u0443\\u043f\\u0435\\u0440 \\u0432\\u043a\\u0443\\u0441\\u043d\\u043e \\u043e\\u0447\\u0435\\u043d\\u044c \\u043a\\u043b\\u0430\\u0441\\u0441\\u043d\\u044b\\u0439 dry age by zozulinsky potseluev wagyu \\u043d\\u043e\\u0436 icel \\u0441\\u043f\\u0435\\u0446\\u0438\\u044f \\u0434\\u043e\\u0441\\u0442\\u0430\\u0432\\u043a\\u0430 \\u0441\\u0442\\u0438\\u043b\\u044c \\u043e\\u0441\\u043e\\u0431\\u044b\\u0439 \\u0444\\u0438\\u043b\\u043e\\u0441\\u043e\\u0444\\u0438\\u044f \\u043f\\u043e\\u0442\\u0440\\u0435\\u0431\\u043b\\u0435\\u043d\\u0438\\u0435 \\u043e\\u0441\\u043d\\u043e\\u0432\\u043d\\u044b\\u0439 \\u0438\\u0441\\u0442\\u043e\\u0447\\u043d\\u0438\\u043a \\u043d\\u0430\\u0442\\u0443\\u0440\\u0430\\u043b\\u044c\\u043d\\u044b\\u0439 \\u0431\\u0435\\u043b\\u043e\\u043a \\u0437\\u0434\\u043e\\u0440\\u043e\\u0432\\u044c\\u0435 \\u043f\\u043e\\u043b\\u043d\\u043e\\u0446\\u0435\\u043d\\u043d\\u044b\\u0439 \\u0441\\u043e\\u0432\\u0440\\u0435\\u043c\\u0435\\u043d\\u043d\\u044b\\u0439 \\u0447\\u0435\\u043b\\u043e\\u0432\\u0435\\u043a \\u0441\\u0432\\u0435\\u0436\\u0438\\u0439 \\u043d\\u043e\\u0432\\u043e\\u0441\\u0442\\u044c \\u043a\\u0430\\u043d\\u0430\\u043b \\u0441\\u043b\\u0435\\u0434\\u0438\\u0442\\u044c instagram \\u043e\\u0442\\u0437\\u044b\\u0432 \\u043a\\u043b\\u0438\\u0435\\u043d\\u0442 \\u0432\\u0430\\u0441\\u0438\\u043b\\u0438\\u0439 \\u043f\\u043e\\u0440\\u0442\\u0435\\u0440\\u0445\\u0430\\u0443\\u0441 \\u043f\\u0440\\u043e\\u0439\\u0442\\u0438 \\u043e\\u0442\\u043b\\u0438\\u0447\\u043d\\u043e \\u043f\\u0440\\u043e\\u0434\\u0430\\u0432\\u0435\\u0446 \\u043d\\u0430\\u0434\\u0451\\u0436\\u043d\\u044b\\u0439 \\u043f\\u0438\\u043a\\u0430\\u043d\\u044c\\u0435 \\u0432\\u043b\\u0430\\u0434\\u0438\\u043c\\u0438\\u0440 \\u043c\\u044f\\u0433\\u043a\\u0438\\u0439 \\u0430\\u0440\\u0441\\u043b\\u0430\\u043d \\u0442\\u043e\\u043c\\u0430\\u0433\\u0430\\u0432\\u043a \\u043f\\u043e\\u043d\\u0440\\u0430\\u0432\\u0438\\u0442\\u044c\\u0441\\u044f \\u0430\\u043d\\u0434\\u0440\\u0435\\u0439 \\u0432\\u0430\\u0433\\u0442\\u044c \\u0440\\u0438\\u0431\\u0430\\u0439 \\u04305 \\u043d\\u0435\\u0436\\u043d\\u043e \\u0436\\u0438\\u0440\\u043d\\u0435\\u043d\\u044c\\u043a\\u0438\\u0439 \\u0438\\u043f\\u043a\\u0443\\u0440\\u044c\\u044f\\u043d\\u043e\\u0432\\u043e \\u0441\\u0430\\u043d\\u043a\\u0442\",\n          \"query: \\u0441\\u0432\\u0430\\u0440\\u043a\\u0430 \\u0430\\u043f\\u043f\\u0430\\u0440\\u0430\\u0442 \\u0430\\u043a\\u0441\\u0435\\u0441\\u0441\\u0443\\u0430\\u0440 \\u0441\\u043f\\u043e\\u0442\\u0442\\u0435\\u0440 gys \\u043a\\u043e\\u043d\\u0442\\u0430\\u043a\\u0442\\u043d\\u044b\\u0439 \\u0442\\u043e\\u0432\\u0430\\u0440 \\u0440\\u0435\\u043c\\u043e\\u043d\\u0442 \\u043f\\u043b\\u0430\\u0437\\u043c\\u0435\\u043d\\u043d\\u044b\\u0439 \\u0440\\u0435\\u0437\\u043a\\u0430 \\u0437\\u0430\\u0440\\u044f\\u0434\\u043d\\u044b\\u0439 \\u0443\\u0441\\u0442\\u0440\\u043e\\u0439\\u0441\\u0442\\u0432\\u043e \\u0440\\u0430\\u0441\\u0445\\u043e\\u0434\\u043d\\u044b\\u0439 \\u043c\\u0430\\u0442\\u0435\\u0440\\u0438\\u0430\\u043b tig \\u043e\\u0431\\u043e\\u0440\\u0443\\u0434\\u043e\\u0432\\u0430\\u043d\\u0438\\u0435 \\u043d\\u043e\\u0432\\u043e\\u0441\\u0442\\u044c \\u0437\\u0430\\u043a\\u0430\\u0437\\u0430\\u0442\\u044c \\u043a\\u0430\\u0442\\u0430\\u043b\\u043e\\u0433 \\u0430\\u0440\\u0433\\u043e\\u043d\\u043e\\u0434\\u0443\\u0433\\u043e\\u0432\\u043e\\u0439 \\u0438\\u043d\\u0434\\u0443\\u043a\\u0446\\u0438\\u043e\\u043d\\u043d\\u044b\\u0439 \\u043d\\u0430\\u0433\\u0440\\u0435\\u0432 \\u043a\\u0443\\u0437\\u043e\\u0432\\u043d\\u043e\\u0439 \\u043f\\u043e\\u043c\\u043e\\u0449\\u044c \\u043e\\u043f\\u043b\\u0430\\u0442\\u0430 \\u0434\\u043e\\u0441\\u0442\\u0430\\u0432\\u043a\\u0430 \\u0437\\u0430\\u043a\\u0430\\u0437 sales auto \\u0443\\u043b \\u043a\\u0438\\u0435\\u0432\\u0441\\u043a\\u0438\\u0439 \\u0441\\u0442\\u0440 spot \\u043f\\u043e\\u043b\\u0443\\u0430\\u0432\\u0442\\u043e\\u043c\\u0430\\u0442\\u0438\\u0447\\u0435\\u0441\\u043a\\u0438\\u0439 mig mag \\u043f\\u0443\\u0441\\u043a\\u043e \\u0432\\u043e\\u0437\\u0432\\u0440\\u0430\\u0442 \\u043f\\u0440\\u0430\\u0432\\u0438\\u043b\\u043e \\u043f\\u0440\\u043e\\u0434\\u0430\\u0436\\u0430 \\u043f\\u0443\\u0431\\u043b\\u0438\\u0447\\u043d\\u044b\\u0439 \\u043a\\u043e\\u043d\\u0444\\u0438\\u0434\\u0435\\u043d\\u0446\\u0438\\u0430\\u043b\\u044c\\u043d\\u043e\\u0441\\u0442\\u044c \\u043f\\u043e\\u043b\\u0443\\u0430\\u0432\\u0442\\u043e\\u043c\\u0430\\u0442 \\u0441\\u0440\\u0435\\u0434\\u0441\\u0442\\u0432\\u043e \\u0437\\u0430\\u0449\\u0438\\u0442\\u0430 \\u0438\\u043d\\u0442\\u0435\\u0440\\u043d\\u0435\\u0442 \\u043c\\u0430\\u0433\\u0430\\u0437\\u0438\\u043d \\u0433\\u043e\\u0440\\u043e\\u0434 \\u0440\\u0435\\u0433\\u0438\\u043e\\u043d \\u0440\\u0430\\u0441\\u043f\\u0440\\u043e\\u0434\\u0430\\u0436\\u0430 \\u0440\\u0430\\u0441\\u0441\\u0440\\u043e\\u0447\\u043a\\u0430 \\u0432\\u043e\\u043f\\u0440\\u043e\\u0441 \\u043e\\u0442\\u0432\\u0435\\u0442 \\u0438\\u043d\\u0432\\u0435\\u0440\\u0442\\u043e\\u0440\\u043d\\u044b\\u0439 \\u0438\\u043d\\u0441\\u0442\\u0440\\u0443\\u043c\\u0435\\u043d\\u0442 \\u043a\\u043e\\u043c\\u043f\\u0440\\u0435\\u0441\\u0441\\u043e\\u0440 \\u043f\\u043e\\u043f\\u0440\\u043e\\u0431\\u043e\\u0432\\u0430\\u0442\\u044c \\u043a\\u0430\\u0442\\u0435\\u0433\\u043e\\u0440\\u0438\\u044f \\u0441\\u0435\\u0440\\u0438\\u044f gysflash\",\n          \"query: \\u043a\\u0432\\u0442 royal clima \\u043a\\u043e\\u043d\\u0434\\u0438\\u0446\\u0438\\u043e\\u043d\\u0435\\u0440 \\u043a\\u0443\\u043f\\u0438\\u0442\\u044c \\u0443\\u0440\\u043e\\u0432\\u0435\\u043d\\u044c \\u044d\\u043d\\u0435\\u0440\\u0433\\u043e\\u044d\\u0444\\u0444\\u0435\\u043a\\u0442\\u0438\\u0432\\u043d\\u043e\\u0441\\u0442\\u044c \\u0440\\u0443\\u0431 a \\u043f\\u043b\\u043e\\u0449\\u0430\\u0434\\u044c \\u043c2 \\u043e\\u0445\\u043b\\u0430\\u0436\\u0434\\u0435\\u043d\\u0438\\u0435 \\u0448\\u0443\\u043c \\u0434\\u0431 inverter \\u0438\\u043d\\u0432\\u0435\\u0440\\u0442\\u043e\\u0440 \\u043e\\u0431\\u043e\\u0433\\u0440\\u0435\\u0432 wi fi \\u043a\\u043e\\u043c\\u043f\\u0430\\u043d\\u0438\\u044f \\u043e\\u043f\\u0446\\u0438\\u044f rc \\u0443\\u0441\\u0442\\u0430\\u043d\\u043e\\u0432\\u043a\\u0430 eu \\u0441\\u0438\\u0441\\u0442\\u0435\\u043c\\u0430 dc rci \\u043e\\u0431\\u043e\\u0440\\u0443\\u0434\\u043e\\u0432\\u0430\\u043d\\u0438\\u0435 \\u043c\\u043e\\u0441\\u043a\\u0432\\u0430 \\u0434\\u043e\\u0441\\u0442\\u0430\\u0432\\u043a\\u0430 \\u043a\\u0433 \\u043a\\u043b\\u0438\\u043c\\u0430\\u0442\\u0438\\u0447\\u0435\\u0441\\u043a\\u0438\\u0439 \\u0441\\u043f\\u043b\\u0438\\u0442 \\u0440\\u0430\\u0431\\u043e\\u0442\\u0430 full \\u043a\\u043e\\u043c\\u043d\\u0430\\u0442\\u0430 \\u043e\\u0444\\u0438\\u0446\\u0438\\u0430\\u043b\\u044c\\u043d\\u044b\\u0439 \\u0434\\u0438\\u043b\\u0435\\u0440 \\u043d\\u0430\\u0441\\u0442\\u0435\\u043d\\u043d\\u044b\\u0439 nero grida \\u0433\\u0430\\u0440\\u0430\\u043d\\u0442\\u0438\\u044f \\u0433\\u0430\\u0440\\u0430\\u043d\\u0442\\u0438\\u0439\\u043d\\u044b\\u0439 attica gloria triumph \\u0438\\u043d\\u0432\\u0435\\u0440\\u0442\\u043e\\u0440\\u043d\\u044b\\u0439 \\u043c\\u043e\\u0431\\u0438\\u043b\\u044c\\u043d\\u044b\\u0439 competenza rm \\u044d\\u043d\\u0435\\u0440\\u0433\\u043e\\u043f\\u043e\\u0442\\u0440\\u0435\\u0431\\u043b\\u0435\\u043d\\u0438\\u0435 \\u043f\\u0440\\u043e\\u0434\\u0443\\u043a\\u0446\\u0438\\u044f \\u0442\\u0435\\u0445\\u043d\\u0438\\u043a\\u0430 \\u0434\\u0440\\u0443\\u0433\\u043e\\u0439 \\u043c\\u043e\\u043d\\u0442\\u0430\\u0436 \\u0432\\u0440\\u0435\\u043c\\u044f renaissance vela nuova fresh \\u043c\\u0443\\u043b\\u044c\\u0442\\u044f \\u0431\\u043b\\u043e\\u043a \\u043a\\u0430\\u0441\\u0441\\u0435\\u0442\\u043d\\u044b\\u0439 \\u043a\\u0430\\u043d\\u0430\\u043b\\u044c\\u043d\\u044b\\u0439 \\u043d\\u0430\\u043f\\u043e\\u043b\\u044c\\u043d\\u044b\\u0439 \\u043f\\u043e\\u0442\\u043e\\u043b\\u043e\\u0447\\u043d\\u044b\\u0439 \\u0432\\u0435\\u0441\"\n        ],\n        \"semantic_type\": \"\",\n        \"description\": \"\"\n      }\n    }\n  ]\n}"
            }
          },
          "metadata": {},
          "execution_count": 12
        }
      ]
    },
    {
      "cell_type": "code",
      "source": [
        "dataset = Dataset.from_pandas(data[data[\"base_category_nm\"] == 'Образование'])"
      ],
      "metadata": {
        "execution": {
          "iopub.status.busy": "2024-05-10T17:48:17.213311Z",
          "iopub.execute_input": "2024-05-10T17:48:17.213661Z",
          "iopub.status.idle": "2024-05-10T17:48:17.382794Z",
          "shell.execute_reply.started": "2024-05-10T17:48:17.213632Z",
          "shell.execute_reply": "2024-05-10T17:48:17.381766Z"
        },
        "trusted": true,
        "id": "QNK_C167me9H"
      },
      "execution_count": 13,
      "outputs": []
    },
    {
      "cell_type": "code",
      "source": [
        "%%time\n",
        "\n",
        "TEST_SIZE = 0.3\n",
        "SPLIT_RANDOM_SEED = 42\n",
        "MAX_LENGTH = 512\n",
        "\n",
        "# batch_dict = dataset.map(encode, batched=True, remove_columns=\"text\")\n",
        "batch_dict = tokenizer(dataset[\"text\"], max_length=512, padding=True, truncation=True, return_tensors='pt')\n",
        "\n",
        "trans_dataset = TensorDataset(batch_dict['input_ids'], batch_dict['attention_mask'])"
      ],
      "metadata": {
        "execution": {
          "iopub.status.busy": "2024-05-10T17:48:17.384085Z",
          "iopub.execute_input": "2024-05-10T17:48:17.384407Z",
          "iopub.status.idle": "2024-05-10T17:48:22.116780Z",
          "shell.execute_reply.started": "2024-05-10T17:48:17.384380Z",
          "shell.execute_reply": "2024-05-10T17:48:22.115656Z"
        },
        "trusted": true,
        "colab": {
          "base_uri": "https://localhost:8080/"
        },
        "id": "oXVnEtMzme9H",
        "outputId": "ebaef97f-3748-40e0-f80e-b7f102f8039b"
      },
      "execution_count": 14,
      "outputs": [
        {
          "output_type": "stream",
          "name": "stdout",
          "text": [
            "CPU times: user 5.69 s, sys: 447 ms, total: 6.13 s\n",
            "Wall time: 5.55 s\n"
          ]
        }
      ]
    },
    {
      "cell_type": "code",
      "source": [
        "batch_size = 1\n",
        "data_loader = DataLoader(trans_dataset, batch_size=batch_size, shuffle=False)"
      ],
      "metadata": {
        "execution": {
          "iopub.status.busy": "2024-05-10T17:48:22.118035Z",
          "iopub.execute_input": "2024-05-10T17:48:22.119164Z",
          "iopub.status.idle": "2024-05-10T17:48:22.124010Z",
          "shell.execute_reply.started": "2024-05-10T17:48:22.119124Z",
          "shell.execute_reply": "2024-05-10T17:48:22.122876Z"
        },
        "trusted": true,
        "id": "-w_n9MS9me9H"
      },
      "execution_count": 15,
      "outputs": []
    },
    {
      "cell_type": "code",
      "source": [
        "%%time\n",
        "\n",
        "def average_pool(last_hidden_states: Tensor, attention_mask: Tensor) -> Tensor:\n",
        "    last_hidden = last_hidden_states.masked_fill(~attention_mask[..., None].bool(), 0.0)\n",
        "    return last_hidden.sum(dim=1) / attention_mask.sum(dim=1)[..., None]\n",
        "\n",
        "model.eval()\n",
        "result = None\n",
        "for input_ids, attention_mask in tqdm(data_loader, desc=f'Trans'):\n",
        "    input_ids = input_ids.to(device)\n",
        "    attention_mask = attention_mask.to(device)\n",
        "\n",
        "    out = model(input_ids, attention_mask=attention_mask)\n",
        "    embeddings = average_pool(out.last_hidden_state, attention_mask)\n",
        "\n",
        "    res = embeddings.cpu().detach().numpy().astype(\"float\")\n",
        "    if result is None:\n",
        "        result = res.copy()\n",
        "    else:\n",
        "        result = np.append(result, res, axis=0)"
      ],
      "metadata": {
        "execution": {
          "iopub.status.busy": "2024-05-10T17:48:22.125866Z",
          "iopub.execute_input": "2024-05-10T17:48:22.126219Z",
          "iopub.status.idle": "2024-05-10T17:56:12.645304Z",
          "shell.execute_reply.started": "2024-05-10T17:48:22.126193Z",
          "shell.execute_reply": "2024-05-10T17:56:12.644296Z"
        },
        "trusted": true,
        "colab": {
          "base_uri": "https://localhost:8080/"
        },
        "id": "qZUaeSXZme9H",
        "outputId": "4daa564e-060f-4492-8e15-40ddfaa573c2"
      },
      "execution_count": 16,
      "outputs": [
        {
          "output_type": "stream",
          "name": "stderr",
          "text": [
            "Trans: 100%|██████████| 8364/8364 [11:31<00:00, 12.10it/s]"
          ]
        },
        {
          "output_type": "stream",
          "name": "stdout",
          "text": [
            "CPU times: user 10min 27s, sys: 51.7 s, total: 11min 19s\n",
            "Wall time: 11min 31s\n"
          ]
        },
        {
          "output_type": "stream",
          "name": "stderr",
          "text": [
            "\n"
          ]
        }
      ]
    },
    {
      "cell_type": "code",
      "source": [
        "result.shape"
      ],
      "metadata": {
        "execution": {
          "iopub.status.busy": "2024-05-07T13:27:47.629365Z",
          "iopub.execute_input": "2024-05-07T13:27:47.629798Z",
          "iopub.status.idle": "2024-05-07T13:27:47.635779Z",
          "shell.execute_reply.started": "2024-05-07T13:27:47.629763Z",
          "shell.execute_reply": "2024-05-07T13:27:47.634845Z"
        },
        "trusted": true,
        "colab": {
          "base_uri": "https://localhost:8080/"
        },
        "id": "NwHE42F9me9I",
        "outputId": "33fc9f78-87f0-43f8-9696-41fff2422100"
      },
      "execution_count": 17,
      "outputs": [
        {
          "output_type": "execute_result",
          "data": {
            "text/plain": [
              "(8364, 1024)"
            ]
          },
          "metadata": {},
          "execution_count": 17
        }
      ]
    },
    {
      "cell_type": "code",
      "source": [
        "import gc\n",
        "torch.cuda.empty_cache()\n",
        "gc.collect()"
      ],
      "metadata": {
        "execution": {
          "iopub.status.busy": "2024-04-29T14:13:03.774556Z",
          "iopub.execute_input": "2024-04-29T14:13:03.774897Z",
          "iopub.status.idle": "2024-04-29T14:13:04.078114Z",
          "shell.execute_reply.started": "2024-04-29T14:13:03.774870Z",
          "shell.execute_reply": "2024-04-29T14:13:04.077168Z"
        },
        "trusted": true,
        "colab": {
          "base_uri": "https://localhost:8080/"
        },
        "id": "7NWxMevcme9I",
        "outputId": "d5314265-93dc-4784-f8b9-f4d9a6f04ba3"
      },
      "execution_count": 18,
      "outputs": [
        {
          "output_type": "execute_result",
          "data": {
            "text/plain": [
              "0"
            ]
          },
          "metadata": {},
          "execution_count": 18
        }
      ]
    },
    {
      "cell_type": "code",
      "source": [
        "data['ЕГЭ'] = data['text'].apply(lambda x: (x.find('ЕГЭ') != -1) or (x.find('егэ') != -1))\n",
        "new_data = data[data[\"base_category_nm\"] == 'Образование']"
      ],
      "metadata": {
        "id": "Lku8qfHeme9I"
      },
      "execution_count": 19,
      "outputs": []
    },
    {
      "cell_type": "code",
      "source": [
        "kmeans = KMeans(n_clusters=4).fit(result)"
      ],
      "metadata": {
        "execution": {
          "iopub.status.busy": "2024-05-07T13:27:47.636979Z",
          "iopub.execute_input": "2024-05-07T13:27:47.637861Z",
          "iopub.status.idle": "2024-05-07T13:27:52.617760Z",
          "shell.execute_reply.started": "2024-05-07T13:27:47.637815Z",
          "shell.execute_reply": "2024-05-07T13:27:52.616909Z"
        },
        "trusted": true,
        "colab": {
          "base_uri": "https://localhost:8080/"
        },
        "id": "em5ceNtkme9I",
        "outputId": "c41f6f5b-9b4d-494f-f61a-ec253720fc0c"
      },
      "execution_count": 20,
      "outputs": [
        {
          "output_type": "stream",
          "name": "stderr",
          "text": [
            "/usr/local/lib/python3.10/dist-packages/sklearn/cluster/_kmeans.py:870: FutureWarning: The default value of `n_init` will change from 10 to 'auto' in 1.4. Set the value of `n_init` explicitly to suppress the warning\n",
            "  warnings.warn(\n"
          ]
        }
      ]
    },
    {
      "cell_type": "code",
      "source": [
        "scaled_penguin_data = StandardScaler().fit_transform(result)"
      ],
      "metadata": {
        "id": "LiqfE24ZBv05"
      },
      "execution_count": 25,
      "outputs": []
    },
    {
      "cell_type": "code",
      "source": [
        "%%time\n",
        "\n",
        "reducer = umap.UMAP()\n",
        "embedding = reducer.fit_transform(scaled_penguin_data)\n",
        "embedding.shape"
      ],
      "metadata": {
        "colab": {
          "base_uri": "https://localhost:8080/"
        },
        "id": "0ABmiYTZBkKi",
        "outputId": "b4e73427-b558-4db4-e82b-2b1f3d54d02f"
      },
      "execution_count": 26,
      "outputs": [
        {
          "output_type": "stream",
          "name": "stdout",
          "text": [
            "CPU times: user 47.1 s, sys: 628 ms, total: 47.7 s\n",
            "Wall time: 43.7 s\n"
          ]
        },
        {
          "output_type": "execute_result",
          "data": {
            "text/plain": [
              "(8364, 2)"
            ]
          },
          "metadata": {},
          "execution_count": 26
        }
      ]
    },
    {
      "cell_type": "code",
      "source": [
        "hdbscan_model = hdbscan.HDBSCAN(cluster_selection_epsilon=5).fit(result)"
      ],
      "metadata": {
        "execution": {
          "iopub.status.busy": "2024-05-10T18:31:47.544934Z",
          "iopub.execute_input": "2024-05-10T18:31:47.545317Z",
          "iopub.status.idle": "2024-05-10T18:34:40.578770Z",
          "shell.execute_reply.started": "2024-05-10T18:31:47.545289Z",
          "shell.execute_reply": "2024-05-10T18:34:40.577274Z"
        },
        "trusted": true,
        "id": "78MXf8FDme9S"
      },
      "execution_count": 27,
      "outputs": []
    },
    {
      "cell_type": "code",
      "source": [
        "colors = ['#000000', '#ff0000', '#00ff00', '#0000ff', '#ff9900', '#99cc00',\n",
        "'#cc00cc', '#ffcc00', '#33ccff', '#009900', '#cc99cc', '#ff3300',\n",
        "'#66ffcc', '#99ffcc', '#ffcc99', '#ff9999', '#cccccc', '#993366',\n",
        "'#ffcc66', '#669999', '#ff6600', '#6633ff', '#9966ff', '#6699cc',\n",
        "'#339933']"
      ],
      "metadata": {
        "id": "sOzLHlDkIcoW"
      },
      "execution_count": 38,
      "outputs": []
    },
    {
      "cell_type": "markdown",
      "source": [
        "## Selecting min_cluster_size"
      ],
      "metadata": {
        "id": "l7oIZ2Ieytk8"
      }
    },
    {
      "cell_type": "code",
      "source": [
        "# 15 - ок\n",
        "from collections import Counter\n",
        "\n",
        "\n",
        "clusterer = hdbscan.HDBSCAN(min_cluster_size=15).fit(result)\n",
        "lol = Counter(clusterer.labels_)\n",
        "print(lol)\n",
        "\n",
        "new_data['cluster'] = clusterer.labels_\n",
        "indexes = list(new_data[new_data['ЕГЭ'] == True]['cluster'].value_counts().index)\n",
        "print(indexes)\n",
        "\n",
        "fig, ax = plt.subplots()\n",
        "for lbl in indexes:\n",
        "    ax.scatter(\n",
        "        embedding[(new_data['ЕГЭ'] == True) & (new_data['cluster'] == lbl)][:, 0],\n",
        "        embedding[(new_data['ЕГЭ'] == True) & (new_data['cluster'] == lbl)][:, 1],\n",
        "        c=sns.color_palette()[lbl],\n",
        "        label=lbl)\n",
        "\n",
        "ax.legend()\n",
        "ax.grid(True)\n",
        "\n",
        "plt.gca().set_aspect('equal', 'datalim')\n",
        "plt.title('UMAP projection of the Education feature HDBSCAN', fontsize=24)\n",
        "\n",
        "plt.show()"
      ],
      "metadata": {
        "colab": {
          "base_uri": "https://localhost:8080/",
          "height": 666
        },
        "id": "EqQhRFSO1qon",
        "outputId": "d77f0614-d90e-409d-e032-02e0dbb53e9b"
      },
      "execution_count": 28,
      "outputs": [
        {
          "output_type": "stream",
          "name": "stdout",
          "text": [
            "Counter({-1: 5397, 1: 2933, 2: 17, 0: 17})\n",
            "[1, -1]\n"
          ]
        },
        {
          "output_type": "stream",
          "name": "stderr",
          "text": [
            "<ipython-input-28-5ee1b316e4ae>:13: SettingWithCopyWarning: \n",
            "A value is trying to be set on a copy of a slice from a DataFrame.\n",
            "Try using .loc[row_indexer,col_indexer] = value instead\n",
            "\n",
            "See the caveats in the documentation: https://pandas.pydata.org/pandas-docs/stable/user_guide/indexing.html#returning-a-view-versus-a-copy\n",
            "  new_data['cluster'] = clusterer.labels_\n",
            "<ipython-input-28-5ee1b316e4ae>:19: UserWarning: *c* argument looks like a single numeric RGB or RGBA sequence, which should be avoided as value-mapping will have precedence in case its length matches with *x* & *y*.  Please use the *color* keyword-argument or provide a 2D array with a single row if you intend to specify the same RGB or RGBA value for all points.\n",
            "  ax.scatter(\n"
          ]
        },
        {
          "output_type": "display_data",
          "data": {
            "text/plain": [
              "<Figure size 640x480 with 1 Axes>"
            ],
            "image/png": "[encoded data removed]"
          },
          "metadata": {}
        }
      ]
    },
    {
      "cell_type": "code",
      "source": [
        "# 30 - перебор, всё смешалось как будто\n",
        "from collections import Counter\n",
        "\n",
        "\n",
        "clusterer = hdbscan.HDBSCAN(min_cluster_size=30).fit(result)\n",
        "lol = Counter(clusterer.labels_)\n",
        "print(lol)\n",
        "\n",
        "\n",
        "new_data['cluster'] = clusterer.labels_\n",
        "indexes = list(new_data[new_data['ЕГЭ'] == True]['cluster'].value_counts().index)\n",
        "print(indexes)\n",
        "\n",
        "fig, ax = plt.subplots()\n",
        "for lbl in indexes:\n",
        "    ax.scatter(\n",
        "        embedding[(new_data['ЕГЭ'] == True) & (new_data['cluster'] == lbl)][:, 0],\n",
        "        embedding[(new_data['ЕГЭ'] == True) & (new_data['cluster'] == lbl)][:, 1],\n",
        "        c=sns.color_palette()[lbl],\n",
        "        label=lbl)\n",
        "\n",
        "ax.legend()\n",
        "ax.grid(True)\n",
        "\n",
        "plt.gca().set_aspect('equal', 'datalim')\n",
        "plt.title('UMAP projection of the Education feature HDBSCAN', fontsize=24)\n",
        "\n",
        "plt.show()"
      ],
      "metadata": {
        "colab": {
          "base_uri": "https://localhost:8080/",
          "height": 666
        },
        "id": "8FLgNSNy5qtD",
        "outputId": "d8c71173-9422-4282-e96a-6d7c857edaeb"
      },
      "execution_count": 40,
      "outputs": [
        {
          "output_type": "stream",
          "name": "stdout",
          "text": [
            "Counter({-1: 7502, 0: 764, 1: 98})\n",
            "[-1, 0, 1]\n"
          ]
        },
        {
          "output_type": "stream",
          "name": "stderr",
          "text": [
            "<ipython-input-40-46cb46a43cfe>:10: SettingWithCopyWarning: \n",
            "A value is trying to be set on a copy of a slice from a DataFrame.\n",
            "Try using .loc[row_indexer,col_indexer] = value instead\n",
            "\n",
            "See the caveats in the documentation: https://pandas.pydata.org/pandas-docs/stable/user_guide/indexing.html#returning-a-view-versus-a-copy\n",
            "  new_data['cluster'] = clusterer.labels_\n",
            "<ipython-input-40-46cb46a43cfe>:16: UserWarning: *c* argument looks like a single numeric RGB or RGBA sequence, which should be avoided as value-mapping will have precedence in case its length matches with *x* & *y*.  Please use the *color* keyword-argument or provide a 2D array with a single row if you intend to specify the same RGB or RGBA value for all points.\n",
            "  ax.scatter(\n"
          ]
        },
        {
          "output_type": "display_data",
          "data": {
            "text/plain": [
              "<Figure size 640x480 with 1 Axes>"
            ],
            "image/png": "[encoded data removed]"
          },
          "metadata": {}
        }
      ]
    },
    {
      "cell_type": "code",
      "source": [
        "# 5 - ок, чуть получше, чем 15\n",
        "from collections import Counter\n",
        "\n",
        "\n",
        "clusterer = hdbscan.HDBSCAN(min_cluster_size=5).fit(result)\n",
        "lol = Counter(clusterer.labels_)\n",
        "print(lol)\n",
        "\n",
        "\n",
        "new_data['cluster'] = clusterer.labels_\n",
        "indexes = list(new_data[new_data['ЕГЭ'] == True]['cluster'].value_counts().index)\n",
        "print(indexes)\n",
        "\n",
        "fig, ax = plt.subplots()\n",
        "for lbl in indexes:\n",
        "    ax.scatter(\n",
        "        embedding[(new_data['ЕГЭ'] == True) & (new_data['cluster'] == lbl)][:, 0],\n",
        "        embedding[(new_data['ЕГЭ'] == True) & (new_data['cluster'] == lbl)][:, 1],\n",
        "        c=colors[lbl],\n",
        "        label=lbl)\n",
        "\n",
        "ax.legend()\n",
        "ax.grid(True)\n",
        "\n",
        "plt.gca().set_aspect('equal', 'datalim')\n",
        "plt.title('UMAP projection of the Education feature HDBSCAN', fontsize=24)\n",
        "\n",
        "plt.show()"
      ],
      "metadata": {
        "colab": {
          "base_uri": "https://localhost:8080/",
          "height": 610
        },
        "id": "Y5OY_7C_3zYk",
        "outputId": "577e0fcf-fe46-4c08-b733-121aee0cc510"
      },
      "execution_count": 39,
      "outputs": [
        {
          "output_type": "stream",
          "name": "stdout",
          "text": [
            "Counter({-1: 6704, 19: 1349, 20: 129, 16: 19, 1: 18, 8: 17, 7: 12, 9: 12, 2: 11, 6: 10, 17: 9, 10: 9, 11: 9, 18: 8, 5: 8, 3: 6, 14: 6, 4: 6, 13: 6, 0: 6, 15: 5, 12: 5})\n",
            "[-1, 19, 20, 6]\n"
          ]
        },
        {
          "output_type": "stream",
          "name": "stderr",
          "text": [
            "<ipython-input-39-881a2c0bd382>:10: SettingWithCopyWarning: \n",
            "A value is trying to be set on a copy of a slice from a DataFrame.\n",
            "Try using .loc[row_indexer,col_indexer] = value instead\n",
            "\n",
            "See the caveats in the documentation: https://pandas.pydata.org/pandas-docs/stable/user_guide/indexing.html#returning-a-view-versus-a-copy\n",
            "  new_data['cluster'] = clusterer.labels_\n"
          ]
        },
        {
          "output_type": "display_data",
          "data": {
            "text/plain": [
              "<Figure size 640x480 with 1 Axes>"
            ],
            "image/png": "[encoded data removed]"
          },
          "metadata": {}
        }
      ]
    },
    {
      "cell_type": "code",
      "source": [
        "# 10 - ровно как 15\n",
        "from collections import Counter\n",
        "\n",
        "\n",
        "clusterer = hdbscan.HDBSCAN(min_cluster_size=10).fit(result)\n",
        "lol = Counter(clusterer.labels_)\n",
        "print(lol)\n",
        "\n",
        "\n",
        "new_data['cluster'] = clusterer.labels_\n",
        "indexes = list(new_data[new_data['ЕГЭ'] == True]['cluster'].value_counts().index)\n",
        "print(indexes)\n",
        "\n",
        "fig, ax = plt.subplots()\n",
        "for lbl in indexes:\n",
        "    ax.scatter(\n",
        "        embedding[(new_data['ЕГЭ'] == True) & (new_data['cluster'] == lbl)][:, 0],\n",
        "        embedding[(new_data['ЕГЭ'] == True) & (new_data['cluster'] == lbl)][:, 1],\n",
        "        c=colors[lbl],\n",
        "        label=lbl)\n",
        "\n",
        "ax.legend()\n",
        "ax.grid(True)\n",
        "\n",
        "plt.gca().set_aspect('equal', 'datalim')\n",
        "plt.title('UMAP projection of the Education feature HDBSCAN', fontsize=24)\n",
        "\n",
        "plt.show()"
      ],
      "metadata": {
        "colab": {
          "base_uri": "https://localhost:8080/",
          "height": 610
        },
        "id": "AR4Gd5t7664d",
        "outputId": "aa0ddd53-ce16-478d-8b19-7e58017b7419"
      },
      "execution_count": 41,
      "outputs": [
        {
          "output_type": "stream",
          "name": "stdout",
          "text": [
            "Counter({-1: 4991, 3: 3316, 4: 17, 0: 17, 2: 12, 1: 11})\n",
            "[3, -1]\n"
          ]
        },
        {
          "output_type": "stream",
          "name": "stderr",
          "text": [
            "<ipython-input-41-4c06168f7d24>:10: SettingWithCopyWarning: \n",
            "A value is trying to be set on a copy of a slice from a DataFrame.\n",
            "Try using .loc[row_indexer,col_indexer] = value instead\n",
            "\n",
            "See the caveats in the documentation: https://pandas.pydata.org/pandas-docs/stable/user_guide/indexing.html#returning-a-view-versus-a-copy\n",
            "  new_data['cluster'] = clusterer.labels_\n"
          ]
        },
        {
          "output_type": "display_data",
          "data": {
            "text/plain": [
              "<Figure size 640x480 with 1 Axes>"
            ],
            "image/png": "[encoded data removed]"
          },
          "metadata": {}
        }
      ]
    },
    {
      "cell_type": "code",
      "source": [
        "# 7 - кажется, репрезентативнее всех\n",
        "from collections import Counter\n",
        "\n",
        "\n",
        "clusterer = hdbscan.HDBSCAN(min_cluster_size=7).fit(result)\n",
        "color_palette = sns.color_palette('Paired', len(clusterer.labels_))\n",
        "cluster_colors = [color_palette[x] if x >= 0\n",
        "                  else (0.5, 0.5, 0.5)\n",
        "                  for x in clusterer.labels_]\n",
        "lol = Counter(clusterer.labels_)\n",
        "print(lol)\n",
        "\n",
        "\n",
        "new_data['cluster'] = clusterer.labels_\n",
        "indexes = list(new_data[new_data['ЕГЭ'] == True]['cluster'].value_counts().index)\n",
        "print(indexes)\n",
        "\n",
        "fig, ax = plt.subplots()\n",
        "for lbl in indexes:\n",
        "    ax.scatter(\n",
        "        embedding[(new_data['ЕГЭ'] == True) & (new_data['cluster'] == lbl)][:, 0],\n",
        "        embedding[(new_data['ЕГЭ'] == True) & (new_data['cluster'] == lbl)][:, 1],\n",
        "        c=colors[lbl],\n",
        "        label=lbl)\n",
        "\n",
        "ax.legend()\n",
        "ax.grid(True)\n",
        "\n",
        "plt.gca().set_aspect('equal', 'datalim')\n",
        "plt.title('UMAP projection of the Education feature HDBSCAN', fontsize=24)\n",
        "\n",
        "plt.show()"
      ],
      "metadata": {
        "colab": {
          "base_uri": "https://localhost:8080/",
          "height": 610
        },
        "id": "U2Up2KIC7Dhm",
        "outputId": "79eecdcb-583a-4eb6-c981-7ba2cbb9f89b"
      },
      "execution_count": 42,
      "outputs": [
        {
          "output_type": "stream",
          "name": "stdout",
          "text": [
            "Counter({-1: 4713, 4: 3584, 5: 17, 0: 17, 3: 12, 1: 11, 2: 10})\n",
            "[4, -1, 2]\n"
          ]
        },
        {
          "output_type": "stream",
          "name": "stderr",
          "text": [
            "<ipython-input-42-e7b383f91ab0>:14: SettingWithCopyWarning: \n",
            "A value is trying to be set on a copy of a slice from a DataFrame.\n",
            "Try using .loc[row_indexer,col_indexer] = value instead\n",
            "\n",
            "See the caveats in the documentation: https://pandas.pydata.org/pandas-docs/stable/user_guide/indexing.html#returning-a-view-versus-a-copy\n",
            "  new_data['cluster'] = clusterer.labels_\n"
          ]
        },
        {
          "output_type": "display_data",
          "data": {
            "text/plain": [
              "<Figure size 640x480 with 1 Axes>"
            ],
            "image/png": "[encoded data removed]"
          },
          "metadata": {}
        }
      ]
    },
    {
      "cell_type": "code",
      "source": [
        "print(len(sns.color_palette()))"
      ],
      "metadata": {
        "colab": {
          "base_uri": "https://localhost:8080/"
        },
        "id": "q77qONY9Fpgv",
        "outputId": "62def366-d62e-493e-f53e-8f0021d84ae4"
      },
      "execution_count": 37,
      "outputs": [
        {
          "output_type": "stream",
          "name": "stdout",
          "text": [
            "10\n"
          ]
        }
      ]
    },
    {
      "cell_type": "markdown",
      "source": [
        "пупипуппипу\n"
      ],
      "metadata": {
        "id": "N-M_M1ntygOl"
      }
    },
    {
      "cell_type": "markdown",
      "source": [
        "## Selecting min_samples\n",
        "\n",
        "Фиксируем min_cluster_size=7 и смотрим на число семплов. (The number of samples in a neighborhood for a point to be considered as a core point. This includes the point itself. When None, defaults to min_cluster_size.)"
      ],
      "metadata": {
        "id": "-pxa-b18Cg_d"
      }
    },
    {
      "cell_type": "code",
      "source": [
        "# 5 - окэй\n",
        "from collections import Counter\n",
        "\n",
        "\n",
        "clusterer = hdbscan.HDBSCAN(min_cluster_size=15, min_samples=5).fit(result)\n",
        "lol = Counter(clusterer.labels_)\n",
        "print(lol)\n",
        "\n",
        "\n",
        "new_data['cluster'] = clusterer.labels_\n",
        "indexes = list(new_data[new_data['ЕГЭ'] == True]['cluster'].value_counts().index)\n",
        "print(indexes)\n",
        "\n",
        "fig, ax = plt.subplots()\n",
        "for lbl in indexes:\n",
        "    ax.scatter(\n",
        "        embedding[(new_data['ЕГЭ'] == True) & (new_data['cluster'] == lbl)][:, 0],\n",
        "        embedding[(new_data['ЕГЭ'] == True) & (new_data['cluster'] == lbl)][:, 1],\n",
        "        c=colors[lbl],\n",
        "        label=lbl)\n",
        "\n",
        "ax.legend()\n",
        "ax.grid(True)\n",
        "\n",
        "plt.gca().set_aspect('equal', 'datalim')\n",
        "plt.title('UMAP projection of the Education feature HDBSCAN', fontsize=24)\n",
        "\n",
        "plt.show()"
      ],
      "metadata": {
        "colab": {
          "base_uri": "https://localhost:8080/",
          "height": 610
        },
        "id": "CiwRumJP9PAZ",
        "outputId": "c5259080-a68a-4a86-c41b-36c57278fe26"
      },
      "execution_count": 43,
      "outputs": [
        {
          "output_type": "stream",
          "name": "stdout",
          "text": [
            "Counter({-1: 4467, 1: 3862, 0: 18, 2: 17})\n",
            "[1, -1]\n"
          ]
        },
        {
          "output_type": "stream",
          "name": "stderr",
          "text": [
            "<ipython-input-43-e361734571ca>:10: SettingWithCopyWarning: \n",
            "A value is trying to be set on a copy of a slice from a DataFrame.\n",
            "Try using .loc[row_indexer,col_indexer] = value instead\n",
            "\n",
            "See the caveats in the documentation: https://pandas.pydata.org/pandas-docs/stable/user_guide/indexing.html#returning-a-view-versus-a-copy\n",
            "  new_data['cluster'] = clusterer.labels_\n"
          ]
        },
        {
          "output_type": "display_data",
          "data": {
            "text/plain": [
              "<Figure size 640x480 with 1 Axes>"
            ],
            "image/png": "[encoded data removed]"
          },
          "metadata": {}
        }
      ]
    },
    {
      "cell_type": "code",
      "source": [
        "# 1 - никакой разницы\n",
        "from collections import Counter\n",
        "\n",
        "\n",
        "clusterer = hdbscan.HDBSCAN(min_cluster_size=15, min_samples=1).fit(result)\n",
        "lol = Counter(clusterer.labels_)\n",
        "print(lol)\n",
        "\n",
        "\n",
        "new_data['cluster'] = clusterer.labels_\n",
        "indexes = list(new_data[new_data['ЕГЭ'] == True]['cluster'].value_counts().index)\n",
        "print(indexes)\n",
        "\n",
        "fig, ax = plt.subplots()\n",
        "for lbl in indexes:\n",
        "    ax.scatter(\n",
        "        embedding[(new_data['ЕГЭ'] == True) & (new_data['cluster'] == lbl)][:, 0],\n",
        "        embedding[(new_data['ЕГЭ'] == True) & (new_data['cluster'] == lbl)][:, 1],\n",
        "        c=colors[lbl],\n",
        "        label=lbl)\n",
        "\n",
        "ax.legend()\n",
        "ax.grid(True)\n",
        "\n",
        "plt.gca().set_aspect('equal', 'datalim')\n",
        "plt.title('UMAP projection of the Education feature HDBSCAN', fontsize=24)\n",
        "\n",
        "plt.show()"
      ],
      "metadata": {
        "colab": {
          "base_uri": "https://localhost:8080/",
          "height": 610
        },
        "id": "R_XRLVVwCs31",
        "outputId": "fa6030fe-708a-4386-d8a3-8a6bacfb94e8"
      },
      "execution_count": 44,
      "outputs": [
        {
          "output_type": "stream",
          "name": "stdout",
          "text": [
            "Counter({1: 4990, -1: 3339, 0: 18, 2: 17})\n",
            "[1, -1]\n"
          ]
        },
        {
          "output_type": "stream",
          "name": "stderr",
          "text": [
            "<ipython-input-44-a1a20743e939>:10: SettingWithCopyWarning: \n",
            "A value is trying to be set on a copy of a slice from a DataFrame.\n",
            "Try using .loc[row_indexer,col_indexer] = value instead\n",
            "\n",
            "See the caveats in the documentation: https://pandas.pydata.org/pandas-docs/stable/user_guide/indexing.html#returning-a-view-versus-a-copy\n",
            "  new_data['cluster'] = clusterer.labels_\n"
          ]
        },
        {
          "output_type": "display_data",
          "data": {
            "text/plain": [
              "<Figure size 640x480 with 1 Axes>"
            ],
            "image/png": "[encoded data removed]"
          },
          "metadata": {}
        }
      ]
    },
    {
      "cell_type": "markdown",
      "source": [
        "Мы не увидели каких-то значимых изменений тк кластеров маловато в данном случае. В перспективе это может сказаться на объемах отдельных кластеров. Оставим этот параметр = 5"
      ],
      "metadata": {
        "id": "j7s1MnDzMxmo"
      }
    },
    {
      "cell_type": "code",
      "source": [
        "# 1, но min cluster = 7 - ничего не изменилось особо\n",
        "from collections import Counter\n",
        "\n",
        "\n",
        "clusterer = hdbscan.HDBSCAN(min_cluster_size=7, min_samples=1).fit(result)\n",
        "lol = Counter(clusterer.labels_)\n",
        "print(lol)\n",
        "\n",
        "\n",
        "new_data['cluster'] = clusterer.labels_\n",
        "indexes = list(new_data[new_data['ЕГЭ'] == True]['cluster'].value_counts().index)\n",
        "print(indexes)\n",
        "\n",
        "fig, ax = plt.subplots()\n",
        "for lbl in indexes:\n",
        "    ax.scatter(\n",
        "        embedding[(new_data['ЕГЭ'] == True) & (new_data['cluster'] == lbl)][:, 0],\n",
        "        embedding[(new_data['ЕГЭ'] == True) & (new_data['cluster'] == lbl)][:, 1],\n",
        "        c=colors[lbl],\n",
        "        label=lbl)\n",
        "\n",
        "ax.legend()\n",
        "ax.grid(True)\n",
        "\n",
        "plt.gca().set_aspect('equal', 'datalim')\n",
        "plt.title('UMAP projection of the Education feature HDBSCAN', fontsize=24)\n",
        "\n",
        "plt.show()"
      ],
      "metadata": {
        "colab": {
          "base_uri": "https://localhost:8080/",
          "height": 610
        },
        "id": "cH5GyrC6OlS7",
        "outputId": "644093b1-a61f-4919-a501-cbaec7b1d020"
      },
      "execution_count": 48,
      "outputs": [
        {
          "output_type": "stream",
          "name": "stdout",
          "text": [
            "Counter({8: 4990, -1: 3269, 0: 18, 9: 17, 5: 12, 7: 11, 1: 11, 4: 10, 3: 10, 6: 9, 2: 7})\n",
            "[8, -1, 4]\n"
          ]
        },
        {
          "output_type": "stream",
          "name": "stderr",
          "text": [
            "<ipython-input-48-1b7da6764ef0>:10: SettingWithCopyWarning: \n",
            "A value is trying to be set on a copy of a slice from a DataFrame.\n",
            "Try using .loc[row_indexer,col_indexer] = value instead\n",
            "\n",
            "See the caveats in the documentation: https://pandas.pydata.org/pandas-docs/stable/user_guide/indexing.html#returning-a-view-versus-a-copy\n",
            "  new_data['cluster'] = clusterer.labels_\n"
          ]
        },
        {
          "output_type": "display_data",
          "data": {
            "text/plain": [
              "<Figure size 640x480 with 1 Axes>"
            ],
            "image/png": "[encoded data removed]"
          },
          "metadata": {}
        }
      ]
    },
    {
      "cell_type": "markdown",
      "source": [
        "## Selecting alpha\n",
        "\n",
        "By default alpha is set to 1.0. Increasing alpha will make the clustering more conservative, but on a much tighter scale"
      ],
      "metadata": {
        "id": "2RQRhoD7NGc8"
      }
    },
    {
      "cell_type": "code",
      "source": [
        "# 1,5 - убили и те два кластера что были, больше точно брать не надо\n",
        "from collections import Counter\n",
        "\n",
        "\n",
        "clusterer = hdbscan.HDBSCAN(min_cluster_size=15, min_samples=5, alpha=1.5).fit(result)\n",
        "lol = Counter(clusterer.labels_)\n",
        "print(lol)\n",
        "\n",
        "\n",
        "new_data['cluster'] = clusterer.labels_\n",
        "indexes = list(new_data[new_data['ЕГЭ'] == True]['cluster'].value_counts().index)\n",
        "print(indexes)\n",
        "\n",
        "fig, ax = plt.subplots()\n",
        "for lbl in indexes:\n",
        "    ax.scatter(\n",
        "        embedding[(new_data['ЕГЭ'] == True) & (new_data['cluster'] == lbl)][:, 0],\n",
        "        embedding[(new_data['ЕГЭ'] == True) & (new_data['cluster'] == lbl)][:, 1],\n",
        "        c=colors[lbl],\n",
        "        label=lbl)\n",
        "\n",
        "ax.legend()\n",
        "ax.grid(True)\n",
        "\n",
        "plt.gca().set_aspect('equal', 'datalim')\n",
        "plt.title('UMAP projection of the Education feature HDBSCAN', fontsize=24)\n",
        "\n",
        "plt.show()"
      ],
      "metadata": {
        "colab": {
          "base_uri": "https://localhost:8080/",
          "height": 610
        },
        "id": "7xdJmSHXLmX9",
        "outputId": "f49ac129-9236-437a-cdbe-44739390ce19"
      },
      "execution_count": 45,
      "outputs": [
        {
          "output_type": "stream",
          "name": "stdout",
          "text": [
            "Counter({-1: 8192, 3: 74, 2: 46, 1: 18, 4: 17, 0: 17})\n",
            "[-1]\n"
          ]
        },
        {
          "output_type": "stream",
          "name": "stderr",
          "text": [
            "<ipython-input-45-8b9e8cb7ece4>:10: SettingWithCopyWarning: \n",
            "A value is trying to be set on a copy of a slice from a DataFrame.\n",
            "Try using .loc[row_indexer,col_indexer] = value instead\n",
            "\n",
            "See the caveats in the documentation: https://pandas.pydata.org/pandas-docs/stable/user_guide/indexing.html#returning-a-view-versus-a-copy\n",
            "  new_data['cluster'] = clusterer.labels_\n"
          ]
        },
        {
          "output_type": "display_data",
          "data": {
            "text/plain": [
              "<Figure size 640x480 with 1 Axes>"
            ],
            "image/png": "[encoded data removed]"
          },
          "metadata": {}
        }
      ]
    },
    {
      "cell_type": "code",
      "source": [
        "# 1,2 - зашибато вполне, выделили какую-то крошку точку\n",
        "from collections import Counter\n",
        "\n",
        "\n",
        "clusterer = hdbscan.HDBSCAN(min_cluster_size=15, min_samples=5, alpha=1.2).fit(result)\n",
        "lol = Counter(clusterer.labels_)\n",
        "print(lol)\n",
        "\n",
        "\n",
        "new_data['cluster'] = clusterer.labels_\n",
        "indexes = list(new_data[new_data['ЕГЭ'] == True]['cluster'].value_counts().index)\n",
        "print(indexes)\n",
        "\n",
        "fig, ax = plt.subplots()\n",
        "for lbl in indexes:\n",
        "    ax.scatter(\n",
        "        embedding[(new_data['ЕГЭ'] == True) & (new_data['cluster'] == lbl)][:, 0],\n",
        "        embedding[(new_data['ЕГЭ'] == True) & (new_data['cluster'] == lbl)][:, 1],\n",
        "        c=colors[lbl],\n",
        "        label=lbl)\n",
        "\n",
        "ax.legend()\n",
        "ax.grid(True)\n",
        "\n",
        "plt.gca().set_aspect('equal', 'datalim')\n",
        "plt.title('UMAP projection of the Education feature HDBSCAN', fontsize=24)\n",
        "\n",
        "plt.show()"
      ],
      "metadata": {
        "colab": {
          "base_uri": "https://localhost:8080/",
          "height": 610
        },
        "id": "CKh-UTyMNnsu",
        "outputId": "05aaa82f-dd3e-4452-de3a-f94aa0d17217"
      },
      "execution_count": 46,
      "outputs": [
        {
          "output_type": "stream",
          "name": "stdout",
          "text": [
            "Counter({-1: 7693, 3: 527, 2: 92, 4: 18, 1: 17, 0: 17})\n",
            "[-1, 3, 2]\n"
          ]
        },
        {
          "output_type": "stream",
          "name": "stderr",
          "text": [
            "<ipython-input-46-d24c0817aaaf>:10: SettingWithCopyWarning: \n",
            "A value is trying to be set on a copy of a slice from a DataFrame.\n",
            "Try using .loc[row_indexer,col_indexer] = value instead\n",
            "\n",
            "See the caveats in the documentation: https://pandas.pydata.org/pandas-docs/stable/user_guide/indexing.html#returning-a-view-versus-a-copy\n",
            "  new_data['cluster'] = clusterer.labels_\n"
          ]
        },
        {
          "output_type": "display_data",
          "data": {
            "text/plain": [
              "<Figure size 640x480 with 1 Axes>"
            ],
            "image/png": "[encoded data removed]"
          },
          "metadata": {}
        }
      ]
    },
    {
      "cell_type": "code",
      "source": [
        "# 1,2 но с другими двумя гиперпараметрами - никаких значительных изменений\n",
        "from collections import Counter\n",
        "\n",
        "\n",
        "clusterer = hdbscan.HDBSCAN(min_cluster_size=7, min_samples=1, alpha=1.2).fit(result)\n",
        "lol = Counter(clusterer.labels_)\n",
        "print(lol)\n",
        "\n",
        "\n",
        "new_data['cluster'] = clusterer.labels_\n",
        "indexes = list(new_data[new_data['ЕГЭ'] == True]['cluster'].value_counts().index)\n",
        "print(indexes)\n",
        "\n",
        "fig, ax = plt.subplots()\n",
        "for lbl in indexes:\n",
        "    ax.scatter(\n",
        "        embedding[(new_data['ЕГЭ'] == True) & (new_data['cluster'] == lbl)][:, 0],\n",
        "        embedding[(new_data['ЕГЭ'] == True) & (new_data['cluster'] == lbl)][:, 1],\n",
        "        c=colors[lbl],\n",
        "        label=lbl)\n",
        "\n",
        "ax.legend()\n",
        "ax.grid(True)\n",
        "\n",
        "plt.gca().set_aspect('equal', 'datalim')\n",
        "plt.title('UMAP projection of the Education feature HDBSCAN', fontsize=24)\n",
        "\n",
        "plt.show()"
      ],
      "metadata": {
        "colab": {
          "base_uri": "https://localhost:8080/",
          "height": 610
        },
        "id": "K6ds_IniNsAN",
        "outputId": "7eeae78a-c81f-4b10-d5da-252c5d0039f3"
      },
      "execution_count": 49,
      "outputs": [
        {
          "output_type": "stream",
          "name": "stdout",
          "text": [
            "Counter({-1: 6924, 10: 1309, 9: 20, 6: 17, 0: 17, 4: 12, 8: 12, 1: 11, 3: 10, 2: 9, 7: 9, 5: 7, 11: 7})\n",
            "[-1, 10, 3]\n"
          ]
        },
        {
          "output_type": "stream",
          "name": "stderr",
          "text": [
            "<ipython-input-49-a1c1cec5b090>:10: SettingWithCopyWarning: \n",
            "A value is trying to be set on a copy of a slice from a DataFrame.\n",
            "Try using .loc[row_indexer,col_indexer] = value instead\n",
            "\n",
            "See the caveats in the documentation: https://pandas.pydata.org/pandas-docs/stable/user_guide/indexing.html#returning-a-view-versus-a-copy\n",
            "  new_data['cluster'] = clusterer.labels_\n"
          ]
        },
        {
          "output_type": "display_data",
          "data": {
            "text/plain": [
              "<Figure size 640x480 with 1 Axes>"
            ],
            "image/png": "[encoded data removed]"
          },
          "metadata": {}
        }
      ]
    },
    {
      "cell_type": "markdown",
      "source": [
        "В целом немного можно изменить структуру кластеров, но незначительно. Будет больше кластеров - будет заметнее."
      ],
      "metadata": {
        "id": "JRlX3yyHOQy6"
      }
    }
  ]
}